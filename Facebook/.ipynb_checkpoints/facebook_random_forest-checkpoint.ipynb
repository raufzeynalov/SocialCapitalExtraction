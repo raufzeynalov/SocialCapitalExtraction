{
 "cells": [
  {
   "cell_type": "code",
   "execution_count": 95,
   "metadata": {
    "collapsed": true
   },
   "outputs": [],
   "source": [
    "import sys\n",
    "import os\n",
    "sys.path.append(os.path.join(os.getcwd(), '..'))"
   ]
  },
  {
   "cell_type": "code",
   "execution_count": 96,
   "metadata": {
    "collapsed": true
   },
   "outputs": [],
   "source": [
    "# Load scikit's random forest classifier library\n",
    "from sklearn.ensemble import RandomForestRegressor\n",
    "from sklearn.model_selection import train_test_split\n",
    "import matplotlib\n",
    "from sklearn.pipeline import Pipeline, FeatureUnion\n",
    "from models.hyperopt_model import HyperoptModel\n",
    "from hyperopt import hp\n",
    "from hyperopt.pyll import scope\n",
    "from models.utils import CustomDataFrameMapper\n",
    "import matplotlib.pyplot as plt\n",
    "# Load pandas\n",
    "import pandas as pd\n",
    "\n",
    "# Load numpy\n",
    "import numpy as np\n",
    "\n",
    "# Set random seed\n",
    "np.random.seed(0)\n"
   ]
  },
  {
   "cell_type": "code",
   "execution_count": 97,
   "metadata": {
    "scrolled": true
   },
   "outputs": [],
   "source": [
    "# Create an object called iris with the iris data\n",
    "preprocessed_data = pd.read_pickle('./data/preprocesed_data.pd')\n",
    "\n",
    "# Create a dataframe with the four feature variables\n",
    "df = pd.DataFrame(preprocessed_data)\n"
   ]
  },
  {
   "cell_type": "code",
   "execution_count": null,
   "metadata": {
    "collapsed": true
   },
   "outputs": [],
   "source": []
  },
  {
   "cell_type": "code",
   "execution_count": 98,
   "metadata": {
    "collapsed": true
   },
   "outputs": [],
   "source": [
    "# Create two new dataframes, one with the training rows, one with the test rows\n",
    "train, test=train_test_split(df, test_size=0.2, random_state=0)"
   ]
  },
  {
   "cell_type": "code",
   "execution_count": 99,
   "metadata": {},
   "outputs": [
    {
     "name": "stdout",
     "output_type": "stream",
     "text": [
      "Number of observations in the training data: 9303\n",
      "Number of observations in the test data: 2326\n"
     ]
    }
   ],
   "source": [
    "# Show the number of observations for the test and training dataframes\n",
    "print('Number of observations in the training data:', len(train))\n",
    "print('Number of observations in the test data:',len(test))"
   ]
  },
  {
   "cell_type": "code",
   "execution_count": 100,
   "metadata": {},
   "outputs": [
    {
     "data": {
      "text/plain": [
       "Index(['user_friends_num', 'user_likes_per_post', 'user_friends_per_post',\n",
       "       'user_media_to_all_normal_ratio', 'user_normal_posts_num',\n",
       "       'user_life_events_num', 'user_small_posts_num',\n",
       "       'avg_normal_post_length', 'user_comments_num', 'avg_comment_length',\n",
       "       'user_likes_per_comment', 'comments_on_own_posts_num',\n",
       "       'comments_on_own_life_events_num', 'highest_education_level',\n",
       "       'education_is_present', 'languages_num', 'language_info_is_present',\n",
       "       'unique_mention_authors', 'mentions_num', 'own_mentions_num',\n",
       "       'unique_mention_authors_per_friend', 'mentions_per_friend',\n",
       "       'own_mentions_per_friend'],\n",
       "      dtype='object')"
      ]
     },
     "execution_count": 100,
     "metadata": {},
     "output_type": "execute_result"
    }
   ],
   "source": [
    "# Create a list of the feature column's names\n",
    "features = df.columns[1:24]\n",
    "# View features\n",
    "features"
   ]
  },
  {
   "cell_type": "code",
   "execution_count": 101,
   "metadata": {
    "scrolled": true
   },
   "outputs": [
    {
     "data": {
      "text/plain": [
       "236280     0.462698\n",
       "19577      0.461392\n",
       "84396      0.705209\n",
       "1566122    0.402961\n",
       "4027       0.343258\n",
       "602313     0.471329\n",
       "1566141    0.464967\n",
       "161959     0.147570\n",
       "1771888    0.271327\n",
       "121485     0.355757\n",
       "5348       0.400165\n",
       "1197636    0.507947\n",
       "175700     0.370310\n",
       "697527     0.275626\n",
       "48702      0.504124\n",
       "286933     0.452913\n",
       "10261      0.407198\n",
       "196026     0.376703\n",
       "106042     0.113064\n",
       "237530     0.350242\n",
       "286976     0.561769\n",
       "284583     0.274707\n",
       "51872      0.507474\n",
       "583263     0.362811\n",
       "3225696    0.324647\n",
       "208169     0.333195\n",
       "28540      0.411103\n",
       "170496     0.260977\n",
       "5208       0.483135\n",
       "165112     0.345155\n",
       "             ...   \n",
       "264236     0.469387\n",
       "22082      0.427263\n",
       "23169      0.457358\n",
       "289999     0.330848\n",
       "116042     0.430537\n",
       "124531     0.522656\n",
       "26146      0.456236\n",
       "162683     0.465099\n",
       "210338     0.486815\n",
       "170358     0.592716\n",
       "1287443    0.483143\n",
       "5171       0.345553\n",
       "632985     0.680477\n",
       "42340      0.451571\n",
       "284517     0.356644\n",
       "27939      0.528190\n",
       "799139     0.641569\n",
       "36700      0.486426\n",
       "10393      0.390630\n",
       "59313      0.402241\n",
       "198858     0.429230\n",
       "159459     0.328882\n",
       "89830      0.539911\n",
       "290948     0.403340\n",
       "480324     0.397323\n",
       "116841     0.380991\n",
       "54435      0.566663\n",
       "623190     0.474346\n",
       "1035891    0.509541\n",
       "39371      0.412797\n",
       "Name: score, Length: 9303, dtype: float64"
      ]
     },
     "execution_count": 101,
     "metadata": {},
     "output_type": "execute_result"
    }
   ],
   "source": [
    "# train['species'] contains the actual species names. Before we can use it,\n",
    "# we need to convert each species name into a digit. So, in this case there\n",
    "# are three species, which have been coded as 0, 1, or 2.\n",
    "y = train['score']\n",
    "\n",
    "# View target\n",
    "y"
   ]
  },
  {
   "cell_type": "code",
   "execution_count": 102,
   "metadata": {
    "collapsed": true
   },
   "outputs": [],
   "source": [
    "user_features = CustomDataFrameMapper([\n",
    "        (['user_friends_num'], None, {'alias': 'friends_num'}),\n",
    "        (['highest_education_level'], None),\n",
    "        (['education_is_present'], None),\n",
    "        (['languages_num'], None),\n",
    "        (['language_info_is_present'], None),\n",
    "    ])\n",
    "mention_features = CustomDataFrameMapper([\n",
    "        (['unique_mention_authors_per_friend'], None),\n",
    "        (['mentions_per_friend'], None),\n",
    "    ])\n",
    "post_features = CustomDataFrameMapper([\n",
    "        (['user_friends_per_post'], None, {'alias': 'friends_per_post'}),\n",
    "        (['user_media_to_all_normal_ratio'], None, {'alias': 'media_to_all_normal_ratio'}),\n",
    "        (['user_normal_posts_num'], None, {'alias': 'normal_posts_num'}),\n",
    "        (['user_life_events_num'], None, {'alias': 'life_events_num'}),\n",
    "        (['user_small_posts_num'], None, {'alias': 'small_posts_num'}),\n",
    "        (['avg_normal_post_length'], None, {'alias': 'normal_post_avg_length'}),\n",
    "    ])\n",
    "comment_features = CustomDataFrameMapper([\n",
    "        (['user_comments_num'], None, {'alias': 'comments_num'}),\n",
    "        (['avg_comment_length'], None, {'alias': 'comment_avg_length'}),\n",
    "        (['user_likes_per_comment'], None, {'alias': 'likes_per_user_comment'}),\n",
    "        (['comments_on_own_posts_num'], None),\n",
    "        (['comments_on_own_life_events_num'], None),\n",
    "    ])"
   ]
  },
  {
   "cell_type": "code",
   "execution_count": 103,
   "metadata": {},
   "outputs": [],
   "source": [
    "rf = HyperoptModel(train.copy(), test.copy(), '' + 'rf', cv=3)\n",
    "hyperopt='--optimize'\n",
    "rf.raw_features = features\n",
    "rf.pipeline = Pipeline([\n",
    "        ('prepare_features', FeatureUnion([\n",
    "            ('user_stats', user_features),\n",
    "            ('mention_stats', mention_features),\n",
    "            ('posts_stats', post_features),\n",
    "            ('comments_stats', comment_features)\n",
    "        ])),\n",
    "        ('estimate', RandomForestRegressor(**{'max_features': 0.5304853637778143,\n",
    "                                              'min_samples_leaf': 1,\n",
    "                                              'n_estimators': 1657,\n",
    "                                              'oob_score': True,\n",
    "                                              'random_state': 0}))\n",
    "    ])\n",
    "   "
   ]
  },
  {
   "cell_type": "code",
   "execution_count": null,
   "metadata": {},
   "outputs": [],
   "source": [
    "DO_LOWESS = False"
   ]
  },
  {
   "cell_type": "code",
   "execution_count": 104,
   "metadata": {},
   "outputs": [],
   "source": [
    "rf.space = {\n",
    "        'estimate__random_state': hp.choice('estimate__random_state', [0]),\n",
    "        'estimate__oob_score': hp.choice('estimate__oob_score', [True]),\n",
    "\n",
    "        'estimate__max_features': hp.uniform('estimate__max_features', 0, 1.),\n",
    "        'estimate__n_estimators': hp.choice('estimate__n_estimators', range(1, 3000 + 1)),\n",
    "        'estimate__min_samples_leaf': hp.choice('estimate__min_samples_leaf', range(1, 100 + 1)),\n",
    "        'estimate__scale': hp.choice('estimate__scale', [0, 1.]),\n",
    "        'estimate__normalize': hp.choice('estimate__normalize', [0, 1.]),\n",
    "    }"
   ]
  },
  {
   "cell_type": "code",
   "execution_count": 105,
   "metadata": {},
   "outputs": [
    {
     "ename": "NameError",
     "evalue": "name 'DO_LOWESS' is not defined",
     "output_type": "error",
     "traceback": [
      "\u001b[1;31m---------------------------------------------------------------------------\u001b[0m",
      "\u001b[1;31mNameError\u001b[0m                                 Traceback (most recent call last)",
      "\u001b[1;32m<ipython-input-105-da636ebc487c>\u001b[0m in \u001b[0;36m<module>\u001b[1;34m()\u001b[0m\n\u001b[0;32m      1\u001b[0m \u001b[1;32mif\u001b[0m \u001b[0mhyperopt\u001b[0m\u001b[1;33m:\u001b[0m\u001b[1;33m\u001b[0m\u001b[0m\n\u001b[1;32m----> 2\u001b[1;33m      \u001b[0mrf\u001b[0m\u001b[1;33m.\u001b[0m\u001b[0mrun\u001b[0m\u001b[1;33m(\u001b[0m\u001b[0mdo_lowess\u001b[0m\u001b[1;33m=\u001b[0m\u001b[0mDO_LOWESS\u001b[0m\u001b[1;33m)\u001b[0m\u001b[1;33m\u001b[0m\u001b[0m\n\u001b[0m\u001b[0;32m      3\u001b[0m \u001b[1;32melse\u001b[0m\u001b[1;33m:\u001b[0m\u001b[1;33m\u001b[0m\u001b[0m\n\u001b[0;32m      4\u001b[0m     \u001b[1;31m# train with default params\u001b[0m\u001b[1;33m\u001b[0m\u001b[1;33m\u001b[0m\u001b[0m\n\u001b[0;32m      5\u001b[0m     \u001b[0mrf\u001b[0m\u001b[1;33m.\u001b[0m\u001b[0mpipeline\u001b[0m\u001b[1;33m.\u001b[0m\u001b[0mfit\u001b[0m\u001b[1;33m(\u001b[0m\u001b[0mX\u001b[0m\u001b[1;33m=\u001b[0m\u001b[0mrf\u001b[0m\u001b[1;33m.\u001b[0m\u001b[0mX_train\u001b[0m\u001b[1;33m,\u001b[0m \u001b[0my\u001b[0m\u001b[1;33m=\u001b[0m\u001b[0mrf\u001b[0m\u001b[1;33m.\u001b[0m\u001b[0my_train\u001b[0m\u001b[1;33m)\u001b[0m\u001b[1;33m\u001b[0m\u001b[0m\n",
      "\u001b[1;31mNameError\u001b[0m: name 'DO_LOWESS' is not defined"
     ]
    }
   ],
   "source": [
    "if hyperopt:\n",
    "     rf.run(do_lowess=DO_LOWESS)\n",
    "else:\n",
    "    # train with default params\n",
    "    rf.pipeline.fit(X=rf.X_train, y=rf.y_train)\n",
    "    rf.model = rf.pipeline\n",
    "    rf.stats()\n",
    "    rf.plot_predicted_vs_actual()\n",
    "    rf.plot_feature_importance()"
   ]
  },
  {
   "cell_type": "code",
   "execution_count": 68,
   "metadata": {},
   "outputs": [
    {
     "ename": "NameError",
     "evalue": "name 'regr' is not defined",
     "output_type": "error",
     "traceback": [
      "\u001b[1;31m---------------------------------------------------------------------------\u001b[0m",
      "\u001b[1;31mNameError\u001b[0m                                 Traceback (most recent call last)",
      "\u001b[1;32m<ipython-input-68-3227059354cd>\u001b[0m in \u001b[0;36m<module>\u001b[1;34m()\u001b[0m\n\u001b[1;32m----> 1\u001b[1;33m \u001b[0mprint\u001b[0m\u001b[1;33m(\u001b[0m\u001b[0mregr\u001b[0m\u001b[1;33m.\u001b[0m\u001b[0mfeature_importances_\u001b[0m\u001b[1;33m)\u001b[0m\u001b[1;33m\u001b[0m\u001b[0m\n\u001b[0m",
      "\u001b[1;31mNameError\u001b[0m: name 'regr' is not defined"
     ]
    }
   ],
   "source": [
    "print(regr.feature_importances_)"
   ]
  },
  {
   "cell_type": "code",
   "execution_count": 12,
   "metadata": {},
   "outputs": [
    {
     "data": {
      "image/png": "[encoded data removed]",
      "text/plain": [
       "<matplotlib.figure.Figure at 0x218d6da3048>"
      ]
     },
     "metadata": {},
     "output_type": "display_data"
    }
   ],
   "source": [
    "# variable importance\n",
    "importances = regr.feature_importances_\n",
    "indices = np.argsort(importances)\n",
    "\n",
    "plt.title('Feature Importances')\n",
    "plt.barh(range(len(indices)), importances[indices], color='b', align='center')\n",
    "plt.yticks(range(len(indices)), features[indices])\n",
    "plt.xlabel('Relative Importance')\n",
    "plt.show()"
   ]
  },
  {
   "cell_type": "code",
   "execution_count": null,
   "metadata": {
    "collapsed": true
   },
   "outputs": [],
   "source": []
  },
  {
   "cell_type": "code",
   "execution_count": null,
   "metadata": {
    "collapsed": true
   },
   "outputs": [],
   "source": []
  }
 ],
 "metadata": {
  "kernelspec": {
   "display_name": "Python 3",
   "language": "python",
   "name": "python3"
  },
  "language_info": {
   "codemirror_mode": {
    "name": "ipython",
    "version": 3
   },
   "file_extension": ".py",
   "mimetype": "text/x-python",
   "name": "python",
   "nbconvert_exporter": "python",
   "pygments_lexer": "ipython3",
   "version": "3.6.3"
  }
 },
 "nbformat": 4,
 "nbformat_minor": 2
}
