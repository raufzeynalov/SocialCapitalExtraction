{
 "cells": [
  {
   "cell_type": "code",
   "execution_count": 2,
   "metadata": {},
   "outputs": [
    {
     "name": "stderr",
     "output_type": "stream",
     "text": [
      "C:\\ProgramData\\Anaconda3\\lib\\site-packages\\statsmodels\\compat\\pandas.py:56: FutureWarning: The pandas.core.datetools module is deprecated and will be removed in a future version. Please use the pandas.tseries module instead.\n",
      "  from pandas.core import datetools\n"
     ]
    }
   ],
   "source": [
    "#imports\n",
    "import numpy as np\n",
    "import pandas as pd\n",
    "from catboost import CatBoostRegressor\n",
    "from hyperopt import hp\n",
    "from hyperopt.pyll import scope\n",
    "from sklearn.model_selection import train_test_split\n",
    "from sklearn.pipeline import Pipeline, FeatureUnion\n",
    "from catboost import CatBoostRegressor\n",
    "\n",
    "import os\n",
    "import sys\n",
    "module_path = os.path.abspath(os.path.join('..'))\n",
    "if module_path not in sys.path:\n",
    "    sys.path.append(module_path)\n",
    "\n",
    "from models.hyperopt_model import HyperoptModel\n",
    "from models.utils import CustomDataFrameMapper\n",
    "from models.utils import get_features"
   ]
  },
  {
   "cell_type": "code",
   "execution_count": 3,
   "metadata": {
    "scrolled": false
   },
   "outputs": [
    {
     "name": "stdout",
     "output_type": "stream",
     "text": [
      "Index(['score', 'user_friends_num', 'user_likes_per_post',\n",
      "       'user_friends_per_post', 'user_media_to_all_normal_ratio',\n",
      "       'user_normal_posts_num', 'user_life_events_num', 'user_small_posts_num',\n",
      "       'avg_normal_post_length', 'user_comments_num', 'avg_comment_length',\n",
      "       'user_likes_per_comment', 'comments_on_own_posts_num',\n",
      "       'comments_on_own_life_events_num', 'highest_education_level',\n",
      "       'education_is_present', 'languages_num', 'language_info_is_present',\n",
      "       'unique_mention_authors', 'mentions_num', 'own_mentions_num',\n",
      "       'unique_mention_authors_per_friend', 'mentions_per_friend',\n",
      "       'own_mentions_per_friend'],\n",
      "      dtype='object')\n"
     ]
    }
   ],
   "source": [
    "# read the data\n",
    "preprocessed_data = pd.read_pickle('./data/preprocesed_data.pd')\n",
    "\n",
    "# Create a dataframe\n",
    "df = pd.DataFrame(preprocessed_data)\n",
    "\n",
    "print(df.columns)"
   ]
  },
  {
   "cell_type": "code",
   "execution_count": 3,
   "metadata": {
    "collapsed": true
   },
   "outputs": [],
   "source": [
    "# Create two new dataframes, one with the training rows, one with the test rows\n",
    "train, test=train_test_split(df, test_size=0.2, random_state=0)"
   ]
  },
  {
   "cell_type": "code",
   "execution_count": 4,
   "metadata": {},
   "outputs": [
    {
     "name": "stdout",
     "output_type": "stream",
     "text": [
      "Number of observations in the training data: 9303\n",
      "Number of observations in the test data: 2326\n"
     ]
    }
   ],
   "source": [
    "# Show the number of observations for the test and training dataframes\n",
    "print('Number of observations in the training data:', len(train))\n",
    "print('Number of observations in the test data:',len(test))"
   ]
  },
  {
   "cell_type": "code",
   "execution_count": 5,
   "metadata": {
    "scrolled": true
   },
   "outputs": [
    {
     "name": "stdout",
     "output_type": "stream",
     "text": [
      "['user_friends_num', 'highest_education_level', 'education_is_present', 'languages_num', 'language_info_is_present', 'unique_mention_authors_per_friend', 'mentions_per_friend', 'user_friends_per_post', 'user_media_to_all_normal_ratio', 'user_normal_posts_num', 'user_life_events_num', 'user_small_posts_num', 'avg_normal_post_length', 'user_comments_num', 'avg_comment_length', 'user_likes_per_comment', 'comments_on_own_posts_num', 'comments_on_own_life_events_num']\n",
      "Performing parameters optimization...\n",
      "[1/50]\tcv_eval_time=122.57 sec\tRMSE=0.067068\tR^2=0.780597\n",
      "[2/50]\tcv_eval_time=122.26 sec\tRMSE=0.068834\tR^2=0.768699\n",
      "[3/50]\tcv_eval_time=120.48 sec\tRMSE=0.068865\tR^2=0.768893\n",
      "[4/50]\tcv_eval_time=122.13 sec\tRMSE=0.069662\tR^2=0.762297\n",
      "[5/50]\tcv_eval_time=120.90 sec\tRMSE=0.076295\tR^2=0.719069\n",
      "[6/50]\tcv_eval_time=120.82 sec\tRMSE=0.079081\tR^2=0.694867\n",
      "[7/50]\tcv_eval_time=120.25 sec\tRMSE=0.072746\tR^2=0.738325\n",
      "[8/50]\tcv_eval_time=119.60 sec\tRMSE=0.068181\tR^2=0.775821\n",
      "[9/50]\tcv_eval_time=120.42 sec\tRMSE=0.072696\tR^2=0.743375\n",
      "[10/50]\tcv_eval_time=130.66 sec\tRMSE=0.073659\tR^2=0.731975\n",
      "[11/50]\tcv_eval_time=124.41 sec\tRMSE=0.067721\tR^2=0.775603\n",
      "[12/50]\tcv_eval_time=123.78 sec\tRMSE=0.066877\tR^2=0.780827\n",
      "[13/50]\tcv_eval_time=122.36 sec\tRMSE=0.066521\tR^2=0.782505\n",
      "[14/50]\tcv_eval_time=121.83 sec\tRMSE=0.066751\tR^2=0.780373\n",
      "[15/50]\tcv_eval_time=122.69 sec\tRMSE=0.072409\tR^2=0.743856\n",
      "[16/50]\tcv_eval_time=124.20 sec\tRMSE=0.087070\tR^2=0.634212\n",
      "[17/50]\tcv_eval_time=122.28 sec\tRMSE=0.067322\tR^2=0.777275\n",
      "[18/50]\tcv_eval_time=122.73 sec\tRMSE=0.068819\tR^2=0.771248\n",
      "[19/50]\tcv_eval_time=123.28 sec\tRMSE=0.067874\tR^2=0.779471\n",
      "[20/50]\tcv_eval_time=120.32 sec\tRMSE=0.082254\tR^2=0.660236\n",
      "[21/50]\tcv_eval_time=118.69 sec\tRMSE=0.066867\tR^2=0.783191\n",
      "[22/50]\tcv_eval_time=119.38 sec\tRMSE=0.066598\tR^2=0.784554\n",
      "[23/50]\tcv_eval_time=118.99 sec\tRMSE=0.066562\tR^2=0.782013\n",
      "[24/50]\tcv_eval_time=118.89 sec\tRMSE=0.067757\tR^2=0.779247\n",
      "[25/50]\tcv_eval_time=119.04 sec\tRMSE=0.071149\tR^2=0.756084\n",
      "[26/50]\tcv_eval_time=118.49 sec\tRMSE=0.066510\tR^2=0.783077\n",
      "[27/50]\tcv_eval_time=119.38 sec\tRMSE=0.067380\tR^2=0.778332\n",
      "[28/50]\tcv_eval_time=117.17 sec\tRMSE=0.066570\tR^2=0.781409\n",
      "[29/50]\tcv_eval_time=119.73 sec\tRMSE=0.067354\tR^2=0.776932\n",
      "[30/50]\tcv_eval_time=119.05 sec\tRMSE=0.068746\tR^2=0.769628\n",
      "[31/50]\tcv_eval_time=120.16 sec\tRMSE=0.070618\tR^2=0.758127\n",
      "[32/50]\tcv_eval_time=120.08 sec\tRMSE=0.070210\tR^2=0.760705\n",
      "[33/50]\tcv_eval_time=120.57 sec\tRMSE=0.066234\tR^2=0.782736\n",
      "[34/50]\tcv_eval_time=119.84 sec\tRMSE=0.069303\tR^2=0.764954\n",
      "[35/50]\tcv_eval_time=121.16 sec\tRMSE=0.068445\tR^2=0.772288\n",
      "[36/50]\tcv_eval_time=119.33 sec\tRMSE=0.066596\tR^2=0.781496\n",
      "[37/50]\tcv_eval_time=119.74 sec\tRMSE=0.069743\tR^2=0.758012\n",
      "[38/50]\tcv_eval_time=120.78 sec\tRMSE=0.067066\tR^2=0.782514\n",
      "[39/50]\tcv_eval_time=117.37 sec\tRMSE=0.073300\tR^2=0.738215\n",
      "[40/50]\tcv_eval_time=120.47 sec\tRMSE=0.067147\tR^2=0.778834\n",
      "[41/50]\tcv_eval_time=120.89 sec\tRMSE=0.068823\tR^2=0.769582\n",
      "[42/50]\tcv_eval_time=119.68 sec\tRMSE=0.067166\tR^2=0.780611\n",
      "[43/50]\tcv_eval_time=126.01 sec\tRMSE=0.066728\tR^2=0.783496\n",
      "[44/50]\tcv_eval_time=122.07 sec\tRMSE=0.067372\tR^2=0.778972\n",
      "[45/50]\tcv_eval_time=123.19 sec\tRMSE=0.071257\tR^2=0.751604\n",
      "[46/50]\tcv_eval_time=119.36 sec\tRMSE=0.076958\tR^2=0.709841\n",
      "[47/50]\tcv_eval_time=120.97 sec\tRMSE=0.066626\tR^2=0.784145\n",
      "[48/50]\tcv_eval_time=122.24 sec\tRMSE=0.068603\tR^2=0.771325\n",
      "[49/50]\tcv_eval_time=121.95 sec\tRMSE=0.068163\tR^2=0.774624\n",
      "[50/50]\tcv_eval_time=121.94 sec\tRMSE=0.071039\tR^2=0.752674\n",
      " elapsed time: 1h 40min 55s\n",
      "\n",
      "Stats (train | test):\n",
      "\tR^2 score:\t\t0.8500\n",
      "\t\t\t\t\t0.8029\n",
      "\tRMSE:\t\t\t0.0555\n",
      "\t\t\t\t\t0.0637\n",
      "\tMean error:\t\t0.0423\n",
      "\t\t\t\t\t0.0489\n",
      "\n",
      "Best parameters set:\n",
      "{'estimate__bagging_temperature': 0.7581941022055045,\n",
      " 'estimate__iterations': 1300,\n",
      " 'estimate__l2_leaf_reg': 3.3369699206218777,\n",
      " 'estimate__learning_rate': 0.0304145257378569,\n",
      " 'estimate__loss_function': 'RMSE',\n",
      " 'estimate__random_seed': 0,\n",
      " 'estimate__random_strength': 1,\n",
      " 'estimate__thread_count': 4,\n",
      " 'estimate__train_dir': 'outputs/cat',\n",
      " 'estimate__used_ram_limit': 4294967296}\n",
      "\n",
      "Plotting predicted vs. actual ...done\n",
      "\n",
      "[14.77452460851198, 0.27078199244725454, 0.2482742565522768, 0.16433579188887698, 0.22993523480816475, 0.3574956096150794, 0.37749712514689904, 1.3084344451863248, 23.8474697483855, 11.726012795739432, 2.0179684307221413, 2.175484272362781, 4.7495117375453555, 2.443446533516215, 1.800091338480044, 6.212857604327452, 26.27764595327603, 1.0182325214881998]\n",
      "Plotting feature importances ...done\n",
      "\n",
      "Stats (train | test):\n",
      "\tR^2 score:\t\t0.8500\n",
      "\t\t\t\t\t0.8029\n",
      "\tRMSE:\t\t\t0.0555\n",
      "\t\t\t\t\t0.0637\n",
      "\tMean error:\t\t0.0423\n",
      "\t\t\t\t\t0.0489\n",
      "\n",
      "Plotting predicted vs. actual ...done\n",
      "\n",
      "[14.77452460851198, 0.27078199244725454, 0.2482742565522768, 0.16433579188887698, 0.22993523480816475, 0.3574956096150794, 0.37749712514689904, 1.3084344451863248, 23.8474697483855, 11.726012795739432, 2.0179684307221413, 2.175484272362781, 4.7495117375453555, 2.443446533516215, 1.800091338480044, 6.212857604327452, 26.27764595327603, 1.0182325214881998]\n",
      "Plotting feature importances ...done\n",
      "\n"
     ]
    }
   ],
   "source": [
    "    #some parameters\n",
    "    DO_LOWESS = False\n",
    "    hyperopt = True\n",
    "    # Run CatBoostRegressor with hyperopt optimization\n",
    "    cat = HyperoptModel(train.copy(), test.copy(),'cat', cv=3)\n",
    "    cat.raw_features = []\n",
    "    comment_features, mention_features, post_features, user_features = get_features()\n",
    "\n",
    "    cat.pipeline = Pipeline([\n",
    "        ('prepare_features', FeatureUnion([\n",
    "            ('user_stats', user_features),\n",
    "            ('mention_stats', mention_features),\n",
    "            ('posts_stats', post_features),\n",
    "            ('comments_stats', comment_features)\n",
    "        ])),\n",
    "        ('estimate', CatBoostRegressor())\n",
    "    ])\n",
    "    \n",
    "    for transformer in cat.pipeline.named_steps['prepare_features'].transformer_list:\n",
    "        cat.raw_features += [t[0] if isinstance(t[0], str) else t[0][0] for t in transformer[1].features]\n",
    "   \n",
    "    print(cat.raw_features)\n",
    "    cat.space = {\n",
    "        'estimate__iterations': hp.choice('estimate__iterations', [1300]),\n",
    "        'estimate__loss_function': hp.choice('estimate__loss_function', ['RMSE']),\n",
    "        'estimate__train_dir': hp.choice('estimate__train_dir', ['outputs/cat']),\n",
    "        'estimate__thread_count': hp.choice('estimate__thread_count', [4]),\n",
    "        'estimate__used_ram_limit': hp.choice('estimate__used_ram_limit', [1024 * 1024 * 1024 * 4]),  # 4gb\n",
    "        'estimate__random_seed': hp.choice('estimate__random_seed', [0]),\n",
    "\n",
    "        'estimate__learning_rate': hp.loguniform('estimate__learning_rate', -5, 0),\n",
    "        'estimate__random_strength': hp.choice('estimate__random_strength', [1, 20]),\n",
    "        'estimate__l2_leaf_reg': hp.loguniform('estimate__l2_leaf_reg', 0, np.log(10)),\n",
    "        'estimate__bagging_temperature': hp.uniform('estimate__bagging_temperature', 0, 1),\n",
    "    }\n",
    "\n",
    "    \"\"\"\n",
    "    find the best number of trees (following https://tech.yandex.com/catboost/doc/dg/concepts/parameter-tuning_trees-number-docpage/#parameter-tuning_trees-number)\n",
    "    need to also substitute the CatBoostRegressor parameters with:\n",
    "        ('estimate', CatBoostRegressor(iterations=10000, loss_function='RMSE', auto_stop_pval=1e-4, use_best_model=True, train_dir='outputs/cat_trees', verbose=True))\n",
    "    \"\"\"\n",
    "    # num_trees_train, num_trees_eval = train_test_split(train, test_size=0.2, random_state=0)\n",
    "    # X = num_trees_train[list(filter(lambda column: column in cat.raw_features, cat.train.columns))]\n",
    "    # y = num_trees_train['score']\n",
    "    #\n",
    "    # eval_X = num_trees_eval[list(filter(lambda column: column in cat.raw_features, cat.train.columns))]\n",
    "    # eval_X = cat.pipeline.named_steps['prepare_features'].fit_transform(eval_X)\n",
    "    # eval_set = (eval_X, num_trees_eval['score'])\n",
    "    #\n",
    "    # cat.pipeline.fit(X=X, y=y, estimate__eval_set=eval_set)\n",
    "    # cat.model = cat.pipeline\n",
    "    # print(cat.model.named_steps['estimate'].get_params())\n",
    "    # cat.model.named_steps['estimate'].save_model('tmp/cat.model'.encode('utf-8'))\n",
    "\n",
    "    if hyperopt:\n",
    "        cat.run(do_lowess=DO_LOWESS)\n",
    "    else:\n",
    "        # train with default params\n",
    "        cat.pipeline.fit(X=cat.X_train, y=cat.y_train)\n",
    "    cat.model = cat.pipeline\n",
    "    cat.stats()\n",
    "    cat.plot_predicted_vs_actual(do_lowess=DO_LOWESS)\n",
    "    cat.plot_feature_importance()\n",
    "    #cat.qq_plot()"
   ]
  },
  {
   "cell_type": "code",
   "execution_count": null,
   "metadata": {
    "collapsed": true
   },
   "outputs": [],
   "source": []
  }
 ],
 "metadata": {
  "kernelspec": {
   "display_name": "Python 3",
   "language": "python",
   "name": "python3"
  },
  "language_info": {
   "codemirror_mode": {
    "name": "ipython",
    "version": 3
   },
   "file_extension": ".py",
   "mimetype": "text/x-python",
   "name": "python",
   "nbconvert_exporter": "python",
   "pygments_lexer": "ipython3",
   "version": "3.6.3"
  }
 },
 "nbformat": 4,
 "nbformat_minor": 2
}
