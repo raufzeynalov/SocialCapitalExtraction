{
 "cells": [
  {
   "cell_type": "code",
   "execution_count": 1,
   "metadata": {},
   "outputs": [
    {
     "name": "stderr",
     "output_type": "stream",
     "text": [
      "C:\\ProgramData\\Anaconda3\\lib\\site-packages\\statsmodels\\compat\\pandas.py:56: FutureWarning: The pandas.core.datetools module is deprecated and will be removed in a future version. Please use the pandas.tseries module instead.\n",
      "  from pandas.core import datetools\n"
     ]
    }
   ],
   "source": [
    "#imports\n",
    "import lightgbm as lgb\n",
    "import numpy as np\n",
    "import pandas as pd\n",
    "import sqlalchemy\n",
    "from catboost import CatBoostRegressor\n",
    "from hyperopt import hp\n",
    "from hyperopt.pyll import scope\n",
    "from sklearn.model_selection import train_test_split\n",
    "from sklearn.pipeline import Pipeline, FeatureUnion\n",
    "from catboost import CatBoostRegressor\n",
    "\n",
    "import os\n",
    "import sys\n",
    "module_path = os.path.abspath(os.path.join('..'))\n",
    "if module_path not in sys.path:\n",
    "    sys.path.append(module_path)\n",
    "\n",
    "from models.hyperopt_model import HyperoptModel\n",
    "from models.utils import CustomDataFrameMapper\n",
    "from models.utils import get_features"
   ]
  },
  {
   "cell_type": "code",
   "execution_count": 2,
   "metadata": {
    "collapsed": true,
    "scrolled": false
   },
   "outputs": [],
   "source": [
    "# Create an object called iris with the iris data\n",
    "preprocessed_data = pd.read_pickle('./data/preprocesed_data.pd')\n",
    "\n",
    "# Create a dataframe with the four feature variables\n",
    "df = pd.DataFrame(preprocessed_data)"
   ]
  },
  {
   "cell_type": "code",
   "execution_count": 3,
   "metadata": {
    "collapsed": true
   },
   "outputs": [],
   "source": [
    "# Create two new dataframes, one with the training rows, one with the test rows\n",
    "train, test=train_test_split(df, test_size=0.2, random_state=0)"
   ]
  },
  {
   "cell_type": "code",
   "execution_count": 4,
   "metadata": {},
   "outputs": [
    {
     "name": "stdout",
     "output_type": "stream",
     "text": [
      "Number of observations in the training data: 9303\n",
      "Number of observations in the test data: 2326\n"
     ]
    }
   ],
   "source": [
    "# Show the number of observations for the test and training dataframes\n",
    "print('Number of observations in the training data:', len(train))\n",
    "print('Number of observations in the test data:',len(test))"
   ]
  },
  {
   "cell_type": "code",
   "execution_count": 5,
   "metadata": {
    "scrolled": true
   },
   "outputs": [
    {
     "name": "stdout",
     "output_type": "stream",
     "text": [
      "['user_friends_num', 'highest_education_level', 'education_is_present', 'languages_num', 'language_info_is_present', 'unique_mention_authors_per_friend', 'mentions_per_friend', 'user_friends_per_post', 'user_media_to_all_normal_ratio', 'user_normal_posts_num', 'user_life_events_num', 'user_small_posts_num', 'avg_normal_post_length', 'user_comments_num', 'avg_comment_length', 'user_likes_per_comment', 'comments_on_own_posts_num', 'comments_on_own_life_events_num']\n",
      "Performing parameters optimization...\n",
      "[1/1]\tcv_eval_time=138.58 sec\tRMSE=0.078741\tR^2=0.694653\n",
      " elapsed time: 2min 18s\n",
      "\n",
      "Stats (train | test):\n",
      "\tR^2 score:\t\t0.7213\n",
      "\t\t\t\t\t0.7191\n",
      "\tRMSE:\t\t\t0.0757\n",
      "\t\t\t\t\t0.0761\n",
      "\tMean error:\t\t0.0581\n",
      "\t\t\t\t\t0.0587\n",
      "\n",
      "Best parameters set:\n",
      "{'estimate__bagging_temperature': 0.87860092695984,\n",
      " 'estimate__iterations': 1300,\n",
      " 'estimate__l2_leaf_reg': 1.8859278353041455,\n",
      " 'estimate__learning_rate': 0.007875631617459423,\n",
      " 'estimate__loss_function': 'RMSE',\n",
      " 'estimate__random_seed': 0,\n",
      " 'estimate__random_strength': 20,\n",
      " 'estimate__thread_count': 4,\n",
      " 'estimate__train_dir': 'outputs/cat',\n",
      " 'estimate__used_ram_limit': 4294967296}\n",
      "\n",
      "Plotting predicted vs. actual ...done\n",
      "\n",
      "[14.296978225587681, 0.585186670203022, 0.8196267118937707, 0.1871768745899507, 0.45641325998433513, 0.9434730832976609, 0.7569100727954442, 1.3893820766809744, 28.608706424136244, 9.604367921002206, 1.2184294920884642, 1.9981229393322448, 5.029807468628641, 2.074998649654684, 1.6509784841447435, 6.562809234867925, 23.022574903728586, 0.7940575073834204]\n",
      "Plotting feature importances ...done\n",
      "\n",
      "Stats (train | test):\n",
      "\tR^2 score:\t\t0.7213\n",
      "\t\t\t\t\t0.7191\n",
      "\tRMSE:\t\t\t0.0757\n",
      "\t\t\t\t\t0.0761\n",
      "\tMean error:\t\t0.0581\n",
      "\t\t\t\t\t0.0587\n",
      "\n",
      "Plotting predicted vs. actual ...done\n",
      "\n",
      "[14.296978225587681, 0.585186670203022, 0.8196267118937707, 0.1871768745899507, 0.45641325998433513, 0.9434730832976609, 0.7569100727954442, 1.3893820766809744, 28.608706424136244, 9.604367921002206, 1.2184294920884642, 1.9981229393322448, 5.029807468628641, 2.074998649654684, 1.6509784841447435, 6.562809234867925, 23.022574903728586, 0.7940575073834204]\n",
      "Plotting feature importances ...done\n",
      "\n"
     ]
    }
   ],
   "source": [
    "    #some parameters\n",
    "    DO_LOWESS = False\n",
    "    hyperopt = True\n",
    "    # Run CatBoostRegressor with hyperopt optimization\n",
    "    cat = HyperoptModel(train.copy(), test.copy(),'cat', cv=3)\n",
    "    cat.raw_features = []\n",
    "    comment_features, mention_features, post_features, user_features = get_features()\n",
    "\n",
    "    cat.pipeline = Pipeline([\n",
    "        ('prepare_features', FeatureUnion([\n",
    "            ('user_stats', user_features),\n",
    "            ('mention_stats', mention_features),\n",
    "            ('posts_stats', post_features),\n",
    "            ('comments_stats', comment_features)\n",
    "        ])),\n",
    "        ('estimate', CatBoostRegressor(**{'bagging_temperature': 0.982256905186019,\n",
    "                                          'iterations': 1300,\n",
    "                                          'l2_leaf_reg': 2.2883628406963057,\n",
    "                                          'learning_rate': 0.03533373267651768,\n",
    "                                          'loss_function': 'RMSE',\n",
    "                                          'random_seed': 0,\n",
    "                                          'random_strength': 1,\n",
    "                                          'thread_count': 4,\n",
    "                                          'train_dir': 'outputs/cat'}))\n",
    "    ])\n",
    "    \n",
    "    for transformer in cat.pipeline.named_steps['prepare_features'].transformer_list:\n",
    "        cat.raw_features += [t[0][0] for t in transformer[1].features]\n",
    "   \n",
    "    print(cat.raw_features)\n",
    "    cat.space = {\n",
    "        'estimate__iterations': hp.choice('estimate__iterations', [1300]),\n",
    "        'estimate__loss_function': hp.choice('estimate__loss_function', ['RMSE']),\n",
    "        'estimate__train_dir': hp.choice('estimate__train_dir', ['outputs/cat']),\n",
    "        'estimate__thread_count': hp.choice('estimate__thread_count', [4]),\n",
    "        'estimate__used_ram_limit': hp.choice('estimate__used_ram_limit', [1024 * 1024 * 1024 * 4]),  # 4gb\n",
    "        'estimate__random_seed': hp.choice('estimate__random_seed', [0]),\n",
    "\n",
    "        'estimate__learning_rate': hp.loguniform('estimate__learning_rate', -5, 0),\n",
    "        'estimate__random_strength': hp.choice('estimate__random_strength', [1, 20]),\n",
    "        'estimate__l2_leaf_reg': hp.loguniform('estimate__l2_leaf_reg', 0, np.log(10)),\n",
    "        'estimate__bagging_temperature': hp.uniform('estimate__bagging_temperature', 0, 1),\n",
    "    }\n",
    "\n",
    "    \"\"\"\n",
    "    find the best number of trees (following https://tech.yandex.com/catboost/doc/dg/concepts/parameter-tuning_trees-number-docpage/#parameter-tuning_trees-number)\n",
    "    need to also substitute the CatBoostRegressor parameters with:\n",
    "        ('estimate', CatBoostRegressor(iterations=10000, loss_function='RMSE', auto_stop_pval=1e-4, use_best_model=True, train_dir='outputs/cat_trees', verbose=True))\n",
    "    \"\"\"\n",
    "    # num_trees_train, num_trees_eval = train_test_split(train, test_size=0.2, random_state=0)\n",
    "    # X = num_trees_train[list(filter(lambda column: column in cat.raw_features, cat.train.columns))]\n",
    "    # y = num_trees_train['score']\n",
    "    #\n",
    "    # eval_X = num_trees_eval[list(filter(lambda column: column in cat.raw_features, cat.train.columns))]\n",
    "    # eval_X = cat.pipeline.named_steps['prepare_features'].fit_transform(eval_X)\n",
    "    # eval_set = (eval_X, num_trees_eval['score'])\n",
    "    #\n",
    "    # cat.pipeline.fit(X=X, y=y, estimate__eval_set=eval_set)\n",
    "    # cat.model = cat.pipeline\n",
    "    # print(cat.model.named_steps['estimate'].get_params())\n",
    "    # cat.model.named_steps['estimate'].save_model('tmp/cat.model'.encode('utf-8'))\n",
    "\n",
    "    if hyperopt:\n",
    "        cat.run(do_lowess=DO_LOWESS)\n",
    "    else:\n",
    "        # train with default params\n",
    "        cat.pipeline.fit(X=cat.X_train, y=cat.y_train)\n",
    "    cat.model = cat.pipeline\n",
    "    cat.stats()\n",
    "    cat.plot_predicted_vs_actual(do_lowess=DO_LOWESS)\n",
    "    cat.plot_feature_importance()"
   ]
  }
 ],
 "metadata": {
  "kernelspec": {
   "display_name": "Python 3",
   "language": "python",
   "name": "python3"
  },
  "language_info": {
   "codemirror_mode": {
    "name": "ipython",
    "version": 3
   },
   "file_extension": ".py",
   "mimetype": "text/x-python",
   "name": "python",
   "nbconvert_exporter": "python",
   "pygments_lexer": "ipython3",
   "version": "3.6.3"
  }
 },
 "nbformat": 4,
 "nbformat_minor": 2
}
