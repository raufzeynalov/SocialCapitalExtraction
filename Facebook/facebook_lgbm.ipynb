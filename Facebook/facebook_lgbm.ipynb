{
 "cells": [
  {
   "cell_type": "code",
   "execution_count": 1,
   "metadata": {},
   "outputs": [
    {
     "name": "stderr",
     "output_type": "stream",
     "text": [
      "C:\\ProgramData\\Anaconda3\\lib\\site-packages\\statsmodels\\compat\\pandas.py:56: FutureWarning: The pandas.core.datetools module is deprecated and will be removed in a future version. Please use the pandas.tseries module instead.\n",
      "  from pandas.core import datetools\n"
     ]
    }
   ],
   "source": [
    "#imports\n",
    "import lightgbm as lgb\n",
    "import numpy as np\n",
    "import pandas as pd\n",
    "import sqlalchemy\n",
    "from catboost import CatBoostRegressor\n",
    "from hyperopt import hp\n",
    "from hyperopt.pyll import scope\n",
    "from sklearn.model_selection import train_test_split\n",
    "from sklearn.pipeline import Pipeline, FeatureUnion\n",
    "\n",
    "import os\n",
    "import sys\n",
    "module_path = os.path.abspath(os.path.join('..'))\n",
    "if module_path not in sys.path:\n",
    "    sys.path.append(module_path)\n",
    "\n",
    "from models.hyperopt_model import HyperoptModel\n",
    "from models.utils import CustomDataFrameMapper\n",
    "from models.utils import get_features"
   ]
  },
  {
   "cell_type": "code",
   "execution_count": 2,
   "metadata": {
    "collapsed": true,
    "scrolled": false
   },
   "outputs": [],
   "source": [
    "# read the data\n",
    "preprocessed_data = pd.read_pickle('./data/preprocesed_data.pd')\n",
    "\n",
    "# Create a dataframe\n",
    "df = pd.DataFrame(preprocessed_data)"
   ]
  },
  {
   "cell_type": "code",
   "execution_count": 3,
   "metadata": {
    "collapsed": true
   },
   "outputs": [],
   "source": [
    "# Create two new dataframes, one with the training rows, one with the test rows\n",
    "train, test=train_test_split(df, test_size=0.2, random_state=0)"
   ]
  },
  {
   "cell_type": "code",
   "execution_count": 4,
   "metadata": {},
   "outputs": [
    {
     "name": "stdout",
     "output_type": "stream",
     "text": [
      "Number of observations in the training data: 9303\n",
      "Number of observations in the test data: 2326\n"
     ]
    }
   ],
   "source": [
    "# Show the number of observations for the test and training dataframes\n",
    "print('Number of observations in the training data:', len(train))\n",
    "print('Number of observations in the test data:',len(test))"
   ]
  },
  {
   "cell_type": "code",
   "execution_count": 5,
   "metadata": {
    "scrolled": true
   },
   "outputs": [
    {
     "name": "stdout",
     "output_type": "stream",
     "text": [
      "Performing parameters optimization...\n",
      "[1/50]\tcv_eval_time=12.62 sec\tRMSE=0.087764\tR^2=0.625503\n",
      "[2/50]\tcv_eval_time=44.39 sec\tRMSE=0.068023\tR^2=0.774703\n",
      "[3/50]\tcv_eval_time=11.86 sec\tRMSE=0.089884\tR^2=0.606522\n",
      "[4/50]\tcv_eval_time=18.93 sec\tRMSE=0.073356\tR^2=0.740015\n",
      "[5/50]\tcv_eval_time=34.09 sec\tRMSE=0.104866\tR^2=0.465882\n",
      "[6/50]\tcv_eval_time=50.76 sec\tRMSE=0.097119\tR^2=0.540366\n",
      "[7/50]\tcv_eval_time=11.42 sec\tRMSE=0.083055\tR^2=0.661602\n",
      "[8/50]\tcv_eval_time=47.26 sec\tRMSE=0.074657\tR^2=0.728273\n",
      "[9/50]\tcv_eval_time=15.90 sec\tRMSE=0.118731\tR^2=0.313019\n",
      "[10/50]\tcv_eval_time=52.75 sec\tRMSE=0.105831\tR^2=0.443711\n",
      "[11/50]\tcv_eval_time=20.31 sec\tRMSE=0.082299\tR^2=0.670907\n",
      "[12/50]\tcv_eval_time=34.27 sec\tRMSE=0.073296\tR^2=0.737763\n",
      "[13/50]\tcv_eval_time=47.50 sec\tRMSE=0.069833\tR^2=0.764215\n",
      "[14/50]\tcv_eval_time=11.76 sec\tRMSE=0.120417\tR^2=0.292921\n",
      "[15/50]\tcv_eval_time=12.07 sec\tRMSE=0.071680\tR^2=0.750777\n",
      "[16/50]\tcv_eval_time=15.64 sec\tRMSE=0.090164\tR^2=0.604867\n",
      "[17/50]\tcv_eval_time=13.00 sec\tRMSE=0.070085\tR^2=0.759595\n",
      "[18/50]\tcv_eval_time=60.83 sec\tRMSE=0.102367\tR^2=0.507667\n",
      "[19/50]\tcv_eval_time=78.71 sec\tRMSE=0.068965\tR^2=0.767094\n",
      "[20/50]\tcv_eval_time=111.74 sec\tRMSE=0.116557\tR^2=0.339117\n",
      "[21/50]\tcv_eval_time=24.08 sec\tRMSE=0.069259\tR^2=0.767519\n",
      "[22/50]\tcv_eval_time=156.31 sec\tRMSE=0.070119\tR^2=0.759451\n",
      "[23/50]\tcv_eval_time=14.58 sec\tRMSE=0.071194\tR^2=0.752875\n",
      "[24/50]\tcv_eval_time=22.89 sec\tRMSE=0.069413\tR^2=0.765478\n",
      "[25/50]\tcv_eval_time=121.73 sec\tRMSE=0.069583\tR^2=0.767544\n",
      "[26/50]\tcv_eval_time=44.49 sec\tRMSE=0.070807\tR^2=0.753950\n",
      "[27/50]\tcv_eval_time=88.06 sec\tRMSE=0.069098\tR^2=0.771128\n",
      "[28/50]\tcv_eval_time=177.82 sec\tRMSE=0.069214\tR^2=0.765532\n",
      "[29/50]\tcv_eval_time=13.09 sec\tRMSE=0.084926\tR^2=0.648839\n",
      "[30/50]\tcv_eval_time=12.97 sec\tRMSE=0.076718\tR^2=0.708483\n",
      "[31/50]\tcv_eval_time=11.28 sec\tRMSE=0.075882\tR^2=0.719863\n",
      "[32/50]\tcv_eval_time=139.27 sec\tRMSE=0.067260\tR^2=0.777812\n",
      "[33/50]\tcv_eval_time=8.69 sec\tRMSE=0.106182\tR^2=0.452323\n",
      "[34/50]\tcv_eval_time=418.58 sec\tRMSE=0.071133\tR^2=0.755836\n",
      "[35/50]\tcv_eval_time=29.32 sec\tRMSE=0.073563\tR^2=0.736517\n",
      "[36/50]\tcv_eval_time=18.24 sec\tRMSE=0.069630\tR^2=0.761874\n",
      "[37/50]\tcv_eval_time=10.69 sec\tRMSE=0.070658\tR^2=0.757622\n",
      "[38/50]\tcv_eval_time=15.68 sec\tRMSE=0.070054\tR^2=0.761030\n",
      "[39/50]\tcv_eval_time=6.61 sec\tRMSE=0.120498\tR^2=0.293394\n",
      "[40/50]\tcv_eval_time=116.49 sec\tRMSE=0.069624\tR^2=0.765281\n",
      "[41/50]\tcv_eval_time=17.25 sec\tRMSE=0.070405\tR^2=0.756730\n",
      "[42/50]\tcv_eval_time=21.29 sec\tRMSE=0.078293\tR^2=0.701075\n",
      "[43/50]\tcv_eval_time=20.92 sec\tRMSE=0.067863\tR^2=0.776707\n",
      "[44/50]\tcv_eval_time=11.54 sec\tRMSE=0.069856\tR^2=0.763885\n",
      "[45/50]\tcv_eval_time=12.97 sec\tRMSE=0.082730\tR^2=0.667278\n",
      "[46/50]\tcv_eval_time=6.92 sec\tRMSE=0.107261\tR^2=0.439982\n",
      "[47/50]\tcv_eval_time=18.74 sec\tRMSE=0.099561\tR^2=0.516656\n",
      "[48/50]\tcv_eval_time=13.89 sec\tRMSE=0.067995\tR^2=0.774773\n",
      "[49/50]\tcv_eval_time=68.79 sec\tRMSE=0.071169\tR^2=0.752907\n",
      "[50/50]\tcv_eval_time=119.50 sec\tRMSE=0.067743\tR^2=0.778182\n",
      " elapsed time: 41min 11s\n",
      "\n",
      "Stats (train | test):\n",
      "\tR^2 score:\t\t0.8830\n",
      "\t\t\t\t\t0.7929\n",
      "\tRMSE:\t\t\t0.0490\n",
      "\t\t\t\t\t0.0653\n",
      "\tMean error:\t\t0.0376\n",
      "\t\t\t\t\t0.0501\n",
      "\n",
      "Best parameters set:\n",
      "{'estimate__bagging_fraction': 0.7394781981136033,\n",
      " 'estimate__feature_fraction': 0.9385660204777418,\n",
      " 'estimate__lambda_l1': 0.020835973532181865,\n",
      " 'estimate__lambda_l2': 0.03941529177232025,\n",
      " 'estimate__learning_rate': 0.035919305210976936,\n",
      " 'estimate__min_data_in_leaf': 17,\n",
      " 'estimate__min_sum_hessian_in_leaf': 1.3190919274009395e-05,\n",
      " 'estimate__n_estimators': 400,\n",
      " 'estimate__num_leaves': 33,\n",
      " 'estimate__objective': 'regression',\n",
      " 'estimate__seed': 0}\n",
      "\n",
      "Plotting predicted vs. actual ...done\n",
      "\n",
      "Plotting feature importances ...done\n",
      "\n"
     ]
    }
   ],
   "source": [
    "    #some parameters\n",
    "    DO_LOWESS = False\n",
    "    hyperopt = True\n",
    "    # Run LGBMRegressor with hyperopt optimization\n",
    "    lgbm = HyperoptModel(train.copy(), test.copy(), 'lgbm', cv=5)\n",
    "    comment_features, mention_features, post_features, user_features = get_features()\n",
    "    lgbm.raw_features = []\n",
    "    lgbm.pipeline = Pipeline([\n",
    "        ('prepare_features', FeatureUnion([\n",
    "            ('user_stats', user_features),\n",
    "            ('mention_stats', mention_features),\n",
    "            ('posts_stats', post_features),\n",
    "            ('comments_stats', comment_features)\n",
    "        ])),\n",
    "        ('estimate', lgb.LGBMRegressor())\n",
    "    ])\n",
    "    for transformer in lgbm.pipeline.named_steps['prepare_features'].transformer_list:\n",
    "        lgbm.raw_features += [t[0] if isinstance(t[0], str) else t[0][0] for t in transformer[1].features]\n",
    "   \n",
    "    \"\"\" find number of trees \"\"\"\n",
    "    # num_trees_train, num_trees_eval = train_test_split(train, test_size=0.2, random_state=0)\n",
    "    # X = num_trees_train[list(filter(lambda column: column in lgbm.raw_features, lgbm.train.columns))]\n",
    "    # y = num_trees_train['score']\n",
    "    #\n",
    "    # eval_X = num_trees_eval[list(filter(lambda column: column in lgbm.raw_features, lgbm.train.columns))]\n",
    "    # eval_X = lgbm.pipeline.named_steps['prepare_features'].fit_transform(eval_X)\n",
    "    # eval_set = (eval_X, num_trees_eval['score'])\n",
    "    #\n",
    "    # best = lgbm.pipeline.fit(X=X, y=y, estimate__eval_set=eval_set, estimate__early_stopping_rounds=10)\n",
    "    # print(best.named_steps['estimate'].best_iteration)\n",
    "\n",
    "    lgbm.space = {\n",
    "        'estimate__objective': hp.choice('estimate__objective', ['regression']),\n",
    "        'estimate__n_estimators': hp.choice('estimate__n_estimators', [400]),\n",
    "        'estimate__seed': hp.choice('estimate__seed', [0]),\n",
    "\n",
    "        'estimate__learning_rate': hp.loguniform('estimate__learning_rate', -7, 0),\n",
    "        'estimate__num_leaves': scope.int(hp.qloguniform('estimate__num_leaves', 1, 7, 1)),\n",
    "        'estimate__feature_fraction': hp.uniform('estimate__feature_fraction', 0.5, 1),\n",
    "        'estimate__bagging_fraction': hp.uniform('estimate__bagging_fraction', 0.5, 1),\n",
    "        'estimate__min_data_in_leaf': scope.int(hp.qloguniform('estimate__min_data_in_leaf', 0, 6, 1)),\n",
    "        'estimate__min_sum_hessian_in_leaf': hp.loguniform('estimate__min_sum_hessian_in_leaf', -16, 5),\n",
    "        'estimate__lambda_l1': hp.choice('lambda_l1', [0, hp.loguniform('estimate__lambda_l1_positive', -16, 2)]),\n",
    "        'estimate__lambda_l2': hp.choice('lambda_l2', [0, hp.loguniform('estimate__lambda_l2_positive', -16, 2)]),\n",
    "    }\n",
    "\n",
    "    if hyperopt:\n",
    "        lgbm.run(do_lowess=DO_LOWESS)\n",
    "    else:\n",
    "        # train with default params\n",
    "        lgbm.pipeline.fit(X=lgbm.X_train, y=lgbm.y_train)\n",
    "        lgbm.model = lgbm.pipeline\n",
    "        lgbm.stats()\n",
    "        lgbm.plot_predicted_vs_actual()\n",
    "        lgbm.plot_feature_importance()"
   ]
  },
  {
   "cell_type": "code",
   "execution_count": null,
   "metadata": {
    "collapsed": true
   },
   "outputs": [],
   "source": []
  }
 ],
 "metadata": {
  "kernelspec": {
   "display_name": "Python 3",
   "language": "python",
   "name": "python3"
  },
  "language_info": {
   "codemirror_mode": {
    "name": "ipython",
    "version": 3
   },
   "file_extension": ".py",
   "mimetype": "text/x-python",
   "name": "python",
   "nbconvert_exporter": "python",
   "pygments_lexer": "ipython3",
   "version": "3.6.3"
  }
 },
 "nbformat": 4,
 "nbformat_minor": 2
}
