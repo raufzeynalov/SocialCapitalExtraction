{
 "cells": [
  {
   "cell_type": "code",
   "execution_count": 1,
   "metadata": {},
   "outputs": [
    {
     "name": "stderr",
     "output_type": "stream",
     "text": [
      "C:\\ProgramData\\Anaconda3\\lib\\site-packages\\statsmodels\\compat\\pandas.py:56: FutureWarning: The pandas.core.datetools module is deprecated and will be removed in a future version. Please use the pandas.tseries module instead.\n",
      "  from pandas.core import datetools\n"
     ]
    }
   ],
   "source": [
    "#imports\n",
    "import lightgbm as lgb\n",
    "import numpy as np\n",
    "import pandas as pd\n",
    "import sqlalchemy\n",
    "from catboost import CatBoostRegressor\n",
    "from hyperopt import hp\n",
    "from hyperopt.pyll import scope\n",
    "from sklearn.model_selection import train_test_split\n",
    "from sklearn.pipeline import Pipeline, FeatureUnion\n",
    "\n",
    "import os\n",
    "import sys\n",
    "module_path = os.path.abspath(os.path.join('..'))\n",
    "if module_path not in sys.path:\n",
    "    sys.path.append(module_path)\n",
    "\n",
    "from models.hyperopt_model import HyperoptModel\n",
    "from models.utils import CustomDataFrameMapper\n",
    "from models.utils import get_features"
   ]
  },
  {
   "cell_type": "code",
   "execution_count": 2,
   "metadata": {
    "collapsed": true,
    "scrolled": false
   },
   "outputs": [],
   "source": [
    "# read the data\n",
    "preprocessed_data = pd.read_pickle('./data/preprocesed_data.pd')\n",
    "\n",
    "# Create a dataframe\n",
    "df = pd.DataFrame(preprocessed_data)"
   ]
  },
  {
   "cell_type": "code",
   "execution_count": 3,
   "metadata": {
    "collapsed": true
   },
   "outputs": [],
   "source": [
    "# Create two new dataframes, one with the training rows, one with the test rows\n",
    "train, test=train_test_split(df, test_size=0.2, random_state=0)"
   ]
  },
  {
   "cell_type": "code",
   "execution_count": 4,
   "metadata": {},
   "outputs": [
    {
     "name": "stdout",
     "output_type": "stream",
     "text": [
      "Number of observations in the training data: 9303\n",
      "Number of observations in the test data: 2326\n"
     ]
    }
   ],
   "source": [
    "# Show the number of observations for the test and training dataframes\n",
    "print('Number of observations in the training data:', len(train))\n",
    "print('Number of observations in the test data:',len(test))"
   ]
  },
  {
   "cell_type": "code",
   "execution_count": 5,
   "metadata": {
    "scrolled": true
   },
   "outputs": [
    {
     "name": "stdout",
     "output_type": "stream",
     "text": [
      "Performing parameters optimization...\n",
      "[1/30]\tcv_eval_time=19.68 sec\tRMSE=0.073731\tR^2=0.734873\n",
      "[2/30]\tcv_eval_time=10.19 sec\tRMSE=0.073471\tR^2=0.739911\n",
      "[3/30]\tcv_eval_time=97.84 sec\tRMSE=0.071500\tR^2=0.749483\n",
      "[4/30]\tcv_eval_time=3.41 sec\tRMSE=0.082047\tR^2=0.674185\n",
      "[5/30]\tcv_eval_time=36.57 sec\tRMSE=0.094365\tR^2=0.564780\n",
      "[6/30]\tcv_eval_time=2.86 sec\tRMSE=0.068058\tR^2=0.774641\n",
      "[7/30]\tcv_eval_time=2.67 sec\tRMSE=0.079544\tR^2=0.693945\n",
      "[8/30]\tcv_eval_time=4.39 sec\tRMSE=0.071233\tR^2=0.752367\n",
      "[9/30]\tcv_eval_time=80.22 sec\tRMSE=0.073992\tR^2=0.736529\n",
      "[10/30]\tcv_eval_time=5.25 sec\tRMSE=0.069022\tR^2=0.765856\n",
      "[11/30]\tcv_eval_time=5.01 sec\tRMSE=0.113998\tR^2=0.367151\n",
      "[12/30]\tcv_eval_time=10.71 sec\tRMSE=0.068102\tR^2=0.772301\n",
      "[13/30]\tcv_eval_time=2.75 sec\tRMSE=0.120193\tR^2=0.296859\n",
      "[14/30]\tcv_eval_time=7.61 sec\tRMSE=0.068829\tR^2=0.770808\n",
      "[15/30]\tcv_eval_time=4.18 sec\tRMSE=0.068719\tR^2=0.770100\n",
      "[16/30]\tcv_eval_time=14.73 sec\tRMSE=0.068513\tR^2=0.772376\n",
      "[17/30]\tcv_eval_time=28.50 sec\tRMSE=0.068016\tR^2=0.770386\n",
      "[18/30]\tcv_eval_time=3.56 sec\tRMSE=0.074981\tR^2=0.733688\n",
      "[19/30]\tcv_eval_time=5.21 sec\tRMSE=0.077311\tR^2=0.710458\n",
      "[20/30]\tcv_eval_time=5.29 sec\tRMSE=0.071648\tR^2=0.755611\n",
      "[21/30]\tcv_eval_time=9.12 sec\tRMSE=0.079810\tR^2=0.689855\n",
      "[22/30]\tcv_eval_time=30.05 sec\tRMSE=0.176454\tR^2=-0.471297\n",
      "[23/30]\tcv_eval_time=59.21 sec\tRMSE=0.070745\tR^2=0.757175\n",
      "[24/30]\tcv_eval_time=7.53 sec\tRMSE=0.081424\tR^2=0.675368\n",
      "[25/30]\tcv_eval_time=201.36 sec\tRMSE=0.074165\tR^2=0.729247\n",
      "[26/30]\tcv_eval_time=38.57 sec\tRMSE=0.070638\tR^2=0.755083\n",
      "[27/30]\tcv_eval_time=8.54 sec\tRMSE=0.091961\tR^2=0.582490\n",
      "[28/30]\tcv_eval_time=13.57 sec\tRMSE=0.089751\tR^2=0.608371\n",
      "[29/30]\tcv_eval_time=2.56 sec\tRMSE=0.068189\tR^2=0.773416\n",
      "[30/30]\tcv_eval_time=21.91 sec\tRMSE=0.070676\tR^2=0.757590\n",
      " elapsed time: 12min 24s\n",
      "\n",
      "Stats (train | test):\n",
      "\tR^2 score:\t\t0.9517\n",
      "\t\t\t\t\t0.7901\n",
      "\tRMSE:\t\t\t0.0315\n",
      "\t\t\t\t\t0.0658\n",
      "\tMean error:\t\t0.0252\n",
      "\t\t\t\t\t0.0504\n",
      "\n",
      "Best parameters set:\n",
      "{'estimate__bagging_fraction': 0.5403887399331972,\n",
      " 'estimate__feature_fraction': 0.7253669690389104,\n",
      " 'estimate__lambda_l1': 0,\n",
      " 'estimate__lambda_l2': 0,\n",
      " 'estimate__learning_rate': 0.02041919928988827,\n",
      " 'estimate__min_data_in_leaf': 2,\n",
      " 'estimate__min_sum_hessian_in_leaf': 0.0002842848801602525,\n",
      " 'estimate__n_estimators': 400,\n",
      " 'estimate__num_leaves': 146,\n",
      " 'estimate__objective': 'regression',\n",
      " 'estimate__seed': 0}\n",
      "\n",
      "Plotting predicted vs. actual ...done\n",
      "\n",
      "Plotting feature importances ...done\n",
      "\n"
     ]
    }
   ],
   "source": [
    "    #some parameters\n",
    "    DO_LOWESS = False\n",
    "    hyperopt = True\n",
    "    # Run LGBMRegressor with hyperopt optimization\n",
    "    lgbm = HyperoptModel(train.copy(), test.copy(), 'lgbm', cv=5)\n",
    "    comment_features, mention_features, post_features, user_features = get_features()\n",
    "    lgbm.raw_features = []\n",
    "    lgbm.pipeline = Pipeline([\n",
    "        ('prepare_features', FeatureUnion([\n",
    "            ('user_stats', user_features),\n",
    "            ('mention_stats', mention_features),\n",
    "            ('posts_stats', post_features),\n",
    "            ('comments_stats', comment_features)\n",
    "        ])),\n",
    "        ('estimate', lgb.LGBMRegressor())\n",
    "    ])\n",
    "    for transformer in lgbm.pipeline.named_steps['prepare_features'].transformer_list:\n",
    "        lgbm.raw_features += [t[0][0] for t in transformer[1].features]\n",
    "   \n",
    "    \"\"\" find number of trees \"\"\"\n",
    "    # num_trees_train, num_trees_eval = train_test_split(train, test_size=0.2, random_state=0)\n",
    "    # X = num_trees_train[list(filter(lambda column: column in lgbm.raw_features, lgbm.train.columns))]\n",
    "    # y = num_trees_train['score']\n",
    "    #\n",
    "    # eval_X = num_trees_eval[list(filter(lambda column: column in lgbm.raw_features, lgbm.train.columns))]\n",
    "    # eval_X = lgbm.pipeline.named_steps['prepare_features'].fit_transform(eval_X)\n",
    "    # eval_set = (eval_X, num_trees_eval['score'])\n",
    "    #\n",
    "    # best = lgbm.pipeline.fit(X=X, y=y, estimate__eval_set=eval_set, estimate__early_stopping_rounds=10)\n",
    "    # print(best.named_steps['estimate'].best_iteration)\n",
    "\n",
    "    lgbm.space = {\n",
    "        'estimate__objective': hp.choice('estimate__objective', ['regression']),\n",
    "        'estimate__n_estimators': hp.choice('estimate__n_estimators', [400]),\n",
    "        'estimate__seed': hp.choice('estimate__seed', [0]),\n",
    "\n",
    "        'estimate__learning_rate': hp.loguniform('estimate__learning_rate', -7, 0),\n",
    "        'estimate__num_leaves': scope.int(hp.qloguniform('estimate__num_leaves', 1, 7, 1)),\n",
    "        'estimate__feature_fraction': hp.uniform('estimate__feature_fraction', 0.5, 1),\n",
    "        'estimate__bagging_fraction': hp.uniform('estimate__bagging_fraction', 0.5, 1),\n",
    "        'estimate__min_data_in_leaf': scope.int(hp.qloguniform('estimate__min_data_in_leaf', 0, 6, 1)),\n",
    "        'estimate__min_sum_hessian_in_leaf': hp.loguniform('estimate__min_sum_hessian_in_leaf', -16, 5),\n",
    "        'estimate__lambda_l1': hp.choice('lambda_l1', [0, hp.loguniform('estimate__lambda_l1_positive', -16, 2)]),\n",
    "        'estimate__lambda_l2': hp.choice('lambda_l2', [0, hp.loguniform('estimate__lambda_l2_positive', -16, 2)]),\n",
    "    }\n",
    "\n",
    "    if hyperopt:\n",
    "        lgbm.run(do_lowess=DO_LOWESS)\n",
    "    else:\n",
    "        # train with default params\n",
    "        lgbm.pipeline.fit(X=lgbm.X_train, y=lgbm.y_train)\n",
    "        lgbm.model = lgbm.pipeline\n",
    "        lgbm.stats()\n",
    "        lgbm.plot_predicted_vs_actual()\n",
    "        lgbm.plot_feature_importance()"
   ]
  },
  {
   "cell_type": "code",
   "execution_count": null,
   "metadata": {
    "collapsed": true
   },
   "outputs": [],
   "source": []
  }
 ],
 "metadata": {
  "kernelspec": {
   "display_name": "Python 3",
   "language": "python",
   "name": "python3"
  },
  "language_info": {
   "codemirror_mode": {
    "name": "ipython",
    "version": 3
   },
   "file_extension": ".py",
   "mimetype": "text/x-python",
   "name": "python",
   "nbconvert_exporter": "python",
   "pygments_lexer": "ipython3",
   "version": "3.6.3"
  }
 },
 "nbformat": 4,
 "nbformat_minor": 2
}
