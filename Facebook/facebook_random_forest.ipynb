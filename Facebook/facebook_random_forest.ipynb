{
 "cells": [
  {
   "cell_type": "code",
   "execution_count": 1,
   "metadata": {},
   "outputs": [
    {
     "name": "stderr",
     "output_type": "stream",
     "text": [
      "C:\\ProgramData\\Anaconda3\\lib\\site-packages\\statsmodels\\compat\\pandas.py:56: FutureWarning: The pandas.core.datetools module is deprecated and will be removed in a future version. Please use the pandas.tseries module instead.\n",
      "  from pandas.core import datetools\n"
     ]
    }
   ],
   "source": [
    "#imports\n",
    "import numpy as np\n",
    "import pandas as pd\n",
    "from hyperopt import hp\n",
    "from hyperopt.pyll import scope\n",
    "from sklearn.model_selection import train_test_split\n",
    "from sklearn.pipeline import Pipeline, FeatureUnion\n",
    "from sklearn.ensemble import RandomForestRegressor\n",
    "\n",
    "import os\n",
    "import sys\n",
    "module_path = os.path.abspath(os.path.join('..'))\n",
    "if module_path not in sys.path:\n",
    "    sys.path.append(module_path)\n",
    "\n",
    "from models.hyperopt_model import HyperoptModel\n",
    "from models.utils import CustomDataFrameMapper\n",
    "from models.utils import get_features"
   ]
  },
  {
   "cell_type": "code",
   "execution_count": 2,
   "metadata": {
    "collapsed": true,
    "scrolled": false
   },
   "outputs": [],
   "source": [
    "# read the data\n",
    "preprocessed_data = pd.read_pickle('./data/preprocesed_data.pd')\n",
    "\n",
    "# Create a dataframe \n",
    "df = pd.DataFrame(preprocessed_data)"
   ]
  },
  {
   "cell_type": "code",
   "execution_count": 3,
   "metadata": {
    "collapsed": true
   },
   "outputs": [],
   "source": [
    "# Create two new dataframes, one with the training rows, one with the test rows\n",
    "train, test=train_test_split(df, test_size=0.2, random_state=0)"
   ]
  },
  {
   "cell_type": "code",
   "execution_count": 4,
   "metadata": {},
   "outputs": [
    {
     "name": "stdout",
     "output_type": "stream",
     "text": [
      "Number of observations in the training data: 9303\n",
      "Number of observations in the test data: 2326\n"
     ]
    }
   ],
   "source": [
    "# Show the number of observations for the test and training dataframes\n",
    "print('Number of observations in the training data:', len(train))\n",
    "print('Number of observations in the test data:',len(test))"
   ]
  },
  {
   "cell_type": "code",
   "execution_count": 5,
   "metadata": {
    "scrolled": false
   },
   "outputs": [
    {
     "name": "stdout",
     "output_type": "stream",
     "text": [
      "Performing parameters optimization...\n",
      "[1/50]\tcv_eval_time=24.28 sec\tRMSE=0.083662\tR^2=0.659396\n",
      "[2/50]\tcv_eval_time=92.22 sec\tRMSE=0.085712\tR^2=0.642622\n",
      "[3/50]\tcv_eval_time=112.74 sec\tRMSE=0.085345\tR^2=0.645933\n",
      "[4/50]\tcv_eval_time=65.11 sec\tRMSE=0.089595\tR^2=0.609314\n",
      "[5/50]\tcv_eval_time=54.11 sec\tRMSE=0.080308\tR^2=0.683831\n",
      "[6/50]\tcv_eval_time=41.31 sec\tRMSE=0.111041\tR^2=0.398703\n",
      "[7/50]\tcv_eval_time=23.25 sec\tRMSE=0.086015\tR^2=0.639675\n",
      "[8/50]\tcv_eval_time=42.34 sec\tRMSE=0.079808\tR^2=0.689596\n",
      "[9/50]\tcv_eval_time=276.77 sec\tRMSE=0.083854\tR^2=0.657404\n",
      "[10/50]\tcv_eval_time=95.85 sec\tRMSE=0.084738\tR^2=0.652100\n",
      "[11/50]\tcv_eval_time=67.73 sec\tRMSE=0.088098\tR^2=0.622818\n",
      "[12/50]\tcv_eval_time=497.09 sec\tRMSE=0.074084\tR^2=0.732794\n",
      "[13/50]\tcv_eval_time=103.13 sec\tRMSE=0.089511\tR^2=0.611259\n",
      "[14/50]\tcv_eval_time=179.38 sec\tRMSE=0.082014\tR^2=0.673883\n",
      "[15/50]\tcv_eval_time=69.65 sec\tRMSE=0.086260\tR^2=0.638139\n",
      "[16/50]\tcv_eval_time=2.33 sec\tRMSE=0.089558\tR^2=0.606968\n",
      "[17/50]\tcv_eval_time=380.93 sec\tRMSE=0.078110\tR^2=0.704653\n",
      "[18/50]\tcv_eval_time=99.92 sec\tRMSE=0.086399\tR^2=0.637161\n",
      "[19/50]\tcv_eval_time=195.37 sec\tRMSE=0.081624\tR^2=0.677266\n",
      "[20/50]\tcv_eval_time=201.09 sec\tRMSE=0.089112\tR^2=0.614565\n",
      "[21/50]\tcv_eval_time=335.03 sec\tRMSE=0.077978\tR^2=0.702766\n",
      "[22/50]\tcv_eval_time=196.63 sec\tRMSE=0.083692\tR^2=0.656413\n",
      "[23/50]\tcv_eval_time=281.62 sec\tRMSE=0.087909\tR^2=0.621643\n"
     ]
    },
    {
     "name": "stderr",
     "output_type": "stream",
     "text": [
      "C:\\ProgramData\\Anaconda3\\lib\\site-packages\\sklearn\\ensemble\\forest.py:724: UserWarning: Some inputs do not have OOB scores. This probably means too few trees were used to compute any reliable oob estimates.\n",
      "  warn(\"Some inputs do not have OOB scores. \"\n",
      "C:\\ProgramData\\Anaconda3\\lib\\site-packages\\sklearn\\ensemble\\forest.py:724: UserWarning: Some inputs do not have OOB scores. This probably means too few trees were used to compute any reliable oob estimates.\n",
      "  warn(\"Some inputs do not have OOB scores. \"\n",
      "C:\\ProgramData\\Anaconda3\\lib\\site-packages\\sklearn\\ensemble\\forest.py:724: UserWarning: Some inputs do not have OOB scores. This probably means too few trees were used to compute any reliable oob estimates.\n",
      "  warn(\"Some inputs do not have OOB scores. \"\n",
      "C:\\ProgramData\\Anaconda3\\lib\\site-packages\\sklearn\\ensemble\\forest.py:724: UserWarning: Some inputs do not have OOB scores. This probably means too few trees were used to compute any reliable oob estimates.\n",
      "  warn(\"Some inputs do not have OOB scores. \"\n",
      "C:\\ProgramData\\Anaconda3\\lib\\site-packages\\sklearn\\ensemble\\forest.py:724: UserWarning: Some inputs do not have OOB scores. This probably means too few trees were used to compute any reliable oob estimates.\n",
      "  warn(\"Some inputs do not have OOB scores. \"\n",
      "C:\\ProgramData\\Anaconda3\\lib\\site-packages\\sklearn\\ensemble\\forest.py:724: UserWarning: Some inputs do not have OOB scores. This probably means too few trees were used to compute any reliable oob estimates.\n",
      "  warn(\"Some inputs do not have OOB scores. \"\n"
     ]
    },
    {
     "name": "stdout",
     "output_type": "stream",
     "text": [
      "[24/50]\tcv_eval_time=1.79 sec\tRMSE=0.087045\tR^2=0.631361\n",
      "[25/50]\tcv_eval_time=95.19 sec\tRMSE=0.092078\tR^2=0.586126\n",
      "[26/50]\tcv_eval_time=437.02 sec\tRMSE=0.075074\tR^2=0.731276\n",
      "[27/50]\tcv_eval_time=182.76 sec\tRMSE=0.074401\tR^2=0.730452\n",
      "[28/50]\tcv_eval_time=332.82 sec\tRMSE=0.075748\tR^2=0.717617\n",
      "[29/50]\tcv_eval_time=27.20 sec\tRMSE=0.077392\tR^2=0.708600\n",
      "[30/50]\tcv_eval_time=199.63 sec\tRMSE=0.079670\tR^2=0.690837\n",
      "[31/50]\tcv_eval_time=61.23 sec\tRMSE=0.101811\tR^2=0.495304\n",
      "[32/50]\tcv_eval_time=387.12 sec\tRMSE=0.073592\tR^2=0.737347\n",
      "[33/50]\tcv_eval_time=3.21 sec\tRMSE=0.088410\tR^2=0.617213\n",
      "[34/50]\tcv_eval_time=70.18 sec\tRMSE=0.073331\tR^2=0.738516\n",
      "[35/50]\tcv_eval_time=494.26 sec\tRMSE=0.073460\tR^2=0.737012\n",
      "[36/50]\tcv_eval_time=17.92 sec\tRMSE=0.080267\tR^2=0.686592\n",
      "[37/50]\tcv_eval_time=468.14 sec\tRMSE=0.073732\tR^2=0.736815\n",
      "[38/50]\tcv_eval_time=14.25 sec\tRMSE=0.086115\tR^2=0.635087\n",
      "[39/50]\tcv_eval_time=235.14 sec\tRMSE=0.080497\tR^2=0.684810\n",
      "[40/50]\tcv_eval_time=103.78 sec\tRMSE=0.088256\tR^2=0.620840\n",
      "[41/50]\tcv_eval_time=189.14 sec\tRMSE=0.084922\tR^2=0.650867\n",
      "[42/50]\tcv_eval_time=99.99 sec\tRMSE=0.088576\tR^2=0.620004\n",
      "[43/50]\tcv_eval_time=39.43 sec\tRMSE=0.103499\tR^2=0.477662\n",
      "[44/50]\tcv_eval_time=98.45 sec\tRMSE=0.086207\tR^2=0.635475\n",
      "[45/50]\tcv_eval_time=41.02 sec\tRMSE=0.077630\tR^2=0.704867\n",
      "[46/50]\tcv_eval_time=113.29 sec\tRMSE=0.082225\tR^2=0.672037\n",
      "[47/50]\tcv_eval_time=239.36 sec\tRMSE=0.085241\tR^2=0.644400\n",
      "[48/50]\tcv_eval_time=157.76 sec\tRMSE=0.089111\tR^2=0.613503\n",
      "[49/50]\tcv_eval_time=58.28 sec\tRMSE=0.087973\tR^2=0.623739\n",
      "[50/50]\tcv_eval_time=53.00 sec\tRMSE=0.081226\tR^2=0.678945\n",
      " elapsed time: 2h 7min 57s\n",
      "\n",
      "Stats (train | test):\n",
      "\tR^2 score:\t\t0.9651\n",
      "\t\t\t\t\t0.7557\n",
      "\tRMSE:\t\t\t0.0268\n",
      "\t\t\t\t\t0.0710\n",
      "\tMean error:\t\t0.0203\n",
      "\t\t\t\t\t0.0544\n",
      "\n",
      "Best parameters set:\n",
      "{'estimate__max_features': 0.5954111977396234,\n",
      " 'estimate__min_samples_leaf': 1,\n",
      " 'estimate__n_estimators': 388,\n",
      " 'estimate__oob_score': True,\n",
      " 'estimate__random_state': 0}\n",
      "\n",
      "Plotting predicted vs. actual ...done\n",
      "\n",
      "Plotting feature importances ...done\n",
      "\n"
     ]
    }
   ],
   "source": [
    "    #parameters\n",
    "    DO_LOWESS = False\n",
    "    hyperopt = True\n",
    "    # Run RandomForestRegressor with hyperopt optimization\n",
    "    rf = HyperoptModel(train.copy(), test.copy(), 'rf', cv=3)\n",
    "    rf.raw_features = []\n",
    "    comment_features, mention_features, post_features, user_features = get_features()\n",
    "    rf.pipeline = Pipeline([\n",
    "        ('prepare_features', FeatureUnion([\n",
    "            ('user_stats', user_features),\n",
    "            ('mention_stats', mention_features),\n",
    "            ('posts_stats', post_features),\n",
    "            ('comments_stats', comment_features)\n",
    "        ])),\n",
    "        ('estimate', RandomForestRegressor())\n",
    "    ])\n",
    "    \n",
    "    for transformer in rf.pipeline.named_steps['prepare_features'].transformer_list:\n",
    "        rf.raw_features += [t[0] if isinstance(t[0], str) else t[0][0] for t in transformer[1].features]\n",
    "     # for transformer in rf.pipeline.named_steps['prepare_features'].transformer_list:\n",
    "      #    rf.raw_features += [t if isinstance(t, basestring) else t[0] for t, _, _ in transformer[1].features]\n",
    "    #print(rf.get_params().keys())\n",
    "    rf.space = {\n",
    "        'estimate__random_state': hp.choice('estimate__random_state', [0]),\n",
    "        'estimate__oob_score': hp.choice('estimate__oob_score', [True]),\n",
    "\n",
    "        'estimate__max_features': hp.uniform('estimate__max_features', 0, 1.),\n",
    "        'estimate__n_estimators': hp.choice('estimate__n_estimators', range(1, 3000 + 1)),\n",
    "        'estimate__min_samples_leaf': hp.choice('estimate__min_samples_leaf', range(1, 100 + 1)),\n",
    "        #'estimate__scale': hp.choice('estimate__scale', [0, 1.]),\n",
    "        #'estimate__normalize': hp.choice('estimate__normalize', [0, 1.]),\n",
    "    }\n",
    "\n",
    "    if hyperopt:\n",
    "        rf.run(do_lowess=DO_LOWESS)\n",
    "    else:\n",
    "        # train with default params\n",
    "        rf.pipeline.fit(X=rf.X_train, y=rf.y_train)\n",
    "        rf.model = rf.pipeline\n",
    "        rf.stats()\n",
    "        rf.plot_predicted_vs_actual()\n",
    "        rf.plot_feature_importance()"
   ]
  },
  {
   "cell_type": "code",
   "execution_count": null,
   "metadata": {
    "collapsed": true
   },
   "outputs": [],
   "source": []
  }
 ],
 "metadata": {
  "kernelspec": {
   "display_name": "Python 3",
   "language": "python",
   "name": "python3"
  },
  "language_info": {
   "codemirror_mode": {
    "name": "ipython",
    "version": 3
   },
   "file_extension": ".py",
   "mimetype": "text/x-python",
   "name": "python",
   "nbconvert_exporter": "python",
   "pygments_lexer": "ipython3",
   "version": "3.6.3"
  }
 },
 "nbformat": 4,
 "nbformat_minor": 2
}
