{
 "cells": [
  {
   "cell_type": "code",
   "execution_count": 1,
   "metadata": {},
   "outputs": [
    {
     "name": "stderr",
     "output_type": "stream",
     "text": [
      "C:\\ProgramData\\Anaconda3\\lib\\site-packages\\statsmodels\\compat\\pandas.py:56: FutureWarning: The pandas.core.datetools module is deprecated and will be removed in a future version. Please use the pandas.tseries module instead.\n",
      "  from pandas.core import datetools\n"
     ]
    }
   ],
   "source": [
    "#imports\n",
    "import lightgbm as lgb\n",
    "import numpy as np\n",
    "import pandas as pd\n",
    "import sqlalchemy\n",
    "from hyperopt import hp\n",
    "from hyperopt.pyll import scope\n",
    "from sklearn.model_selection import train_test_split\n",
    "from sklearn.pipeline import Pipeline, FeatureUnion\n",
    "\n",
    "import os\n",
    "import sys\n",
    "module_path = os.path.abspath(os.path.join('..'))\n",
    "if module_path not in sys.path:\n",
    "    sys.path.append(module_path)\n",
    "\n",
    "from models.hyperopt_model import HyperoptModel\n",
    "from models.utils import CustomDataFrameMapper\n",
    "from models.utils import _tree_features_transformations"
   ]
  },
  {
   "cell_type": "code",
   "execution_count": 2,
   "metadata": {
    "collapsed": true,
    "scrolled": false
   },
   "outputs": [],
   "source": [
    "# read the data\n",
    "preprocessed_data = pd.read_pickle('./data/preprocesed_data.200.20.big.pd')\n",
    "\n",
    "# Create a dataframe\n",
    "df = pd.DataFrame(preprocessed_data)"
   ]
  },
  {
   "cell_type": "code",
   "execution_count": 3,
   "metadata": {
    "collapsed": true
   },
   "outputs": [],
   "source": [
    "# Create two new dataframes, one with the training rows, one with the test rows\n",
    "train, test=train_test_split(df, test_size=0.2, random_state=0)"
   ]
  },
  {
   "cell_type": "code",
   "execution_count": 4,
   "metadata": {},
   "outputs": [
    {
     "name": "stdout",
     "output_type": "stream",
     "text": [
      "Number of observations in the training data: 114411\n",
      "Number of observations in the test data: 28603\n"
     ]
    }
   ],
   "source": [
    "# Show the number of observations for the test and training dataframes\n",
    "print('Number of observations in the training data:', len(train))\n",
    "print('Number of observations in the test data:',len(test))"
   ]
  },
  {
   "cell_type": "code",
   "execution_count": 5,
   "metadata": {
    "scrolled": true
   },
   "outputs": [
    {
     "name": "stdout",
     "output_type": "stream",
     "text": [
      "Performing parameters optimization...\n",
      "[1/50]\tcv_eval_time=884.29 sec\tRMSE=0.146225\tR^2=-0.861624\n",
      "[2/50]\tcv_eval_time=540.95 sec\tRMSE=0.089524\tR^2=0.293245\n",
      "[3/50]\tcv_eval_time=554.30 sec\tRMSE=0.100078\tR^2=0.119160\n",
      "[4/50]\tcv_eval_time=533.20 sec\tRMSE=0.096430\tR^2=0.182182\n",
      "[5/50]\tcv_eval_time=531.84 sec\tRMSE=0.099554\tR^2=0.128465\n",
      "[6/50]\tcv_eval_time=812.75 sec\tRMSE=0.081594\tR^2=0.413749\n",
      "[7/50]\tcv_eval_time=554.86 sec\tRMSE=0.081605\tR^2=0.414206\n",
      "[8/50]\tcv_eval_time=529.77 sec\tRMSE=0.083781\tR^2=0.381851\n",
      "[9/50]\tcv_eval_time=567.33 sec\tRMSE=0.082180\tR^2=0.405175\n",
      "[10/50]\tcv_eval_time=560.58 sec\tRMSE=0.081668\tR^2=0.412259\n",
      "[11/50]\tcv_eval_time=546.94 sec\tRMSE=0.086538\tR^2=0.341298\n",
      "[12/50]\tcv_eval_time=922.91 sec\tRMSE=0.082969\tR^2=0.391227\n",
      "[13/50]\tcv_eval_time=625.11 sec\tRMSE=0.080930\tR^2=0.423852\n",
      "[14/50]\tcv_eval_time=733.05 sec\tRMSE=0.083413\tR^2=0.388240\n",
      "[15/50]\tcv_eval_time=695.66 sec\tRMSE=0.086463\tR^2=0.342164\n",
      "[16/50]\tcv_eval_time=771.75 sec\tRMSE=0.084015\tR^2=0.376741\n",
      "[17/50]\tcv_eval_time=668.75 sec\tRMSE=0.080810\tR^2=0.424625\n",
      "[18/50]\tcv_eval_time=623.27 sec\tRMSE=0.082444\tR^2=0.402255\n",
      "[19/50]\tcv_eval_time=930.58 sec\tRMSE=0.093804\tR^2=0.226069\n",
      "[20/50]\tcv_eval_time=577.92 sec\tRMSE=0.081917\tR^2=0.409747\n",
      "[21/50]\tcv_eval_time=680.64 sec\tRMSE=0.081680\tR^2=0.412957\n",
      "[22/50]\tcv_eval_time=608.82 sec\tRMSE=0.084299\tR^2=0.373451\n",
      "[23/50]\tcv_eval_time=652.25 sec\tRMSE=0.081807\tR^2=0.411339\n",
      "[24/50]\tcv_eval_time=608.48 sec\tRMSE=0.087477\tR^2=0.326812\n",
      "[25/50]\tcv_eval_time=692.18 sec\tRMSE=0.080607\tR^2=0.426810\n",
      "[26/50]\tcv_eval_time=1066.10 sec\tRMSE=0.081485\tR^2=0.413135\n",
      "[27/50]\tcv_eval_time=742.00 sec\tRMSE=0.089886\tR^2=0.289381\n",
      "[28/50]\tcv_eval_time=669.85 sec\tRMSE=0.083423\tR^2=0.387134\n",
      "[29/50]\tcv_eval_time=791.22 sec\tRMSE=0.081095\tR^2=0.421108\n",
      "[30/50]\tcv_eval_time=696.88 sec\tRMSE=0.083212\tR^2=0.391255\n",
      "[31/50]\tcv_eval_time=976.90 sec\tRMSE=0.095600\tR^2=0.199379\n",
      "[32/50]\tcv_eval_time=647.96 sec\tRMSE=0.081205\tR^2=0.419802\n",
      "[33/50]\tcv_eval_time=554.58 sec\tRMSE=0.088975\tR^2=0.303945\n",
      "[34/50]\tcv_eval_time=624.13 sec\tRMSE=0.089655\tR^2=0.293599\n",
      "[35/50]\tcv_eval_time=926.03 sec\tRMSE=0.081907\tR^2=0.409557\n",
      "[36/50]\tcv_eval_time=753.98 sec\tRMSE=0.080734\tR^2=0.427040\n",
      "[37/50]\tcv_eval_time=803.11 sec\tRMSE=0.110009\tR^2=-0.066335\n",
      "[38/50]\tcv_eval_time=1024.32 sec\tRMSE=0.081574\tR^2=0.414389\n",
      "[39/50]\tcv_eval_time=736.78 sec\tRMSE=0.131075\tR^2=-0.513007\n",
      "[40/50]\tcv_eval_time=551.41 sec\tRMSE=0.085194\tR^2=0.361767\n",
      "[41/50]\tcv_eval_time=546.92 sec\tRMSE=0.084053\tR^2=0.378820\n",
      "[42/50]\tcv_eval_time=742.22 sec\tRMSE=0.086332\tR^2=0.345397\n",
      "[43/50]\tcv_eval_time=796.10 sec\tRMSE=0.081659\tR^2=0.412817\n",
      "[44/50]\tcv_eval_time=591.16 sec\tRMSE=0.090155\tR^2=0.291789\n",
      "[45/50]\tcv_eval_time=698.70 sec\tRMSE=0.093983\tR^2=0.223054\n",
      "[46/50]\tcv_eval_time=589.81 sec\tRMSE=0.080973\tR^2=0.423068\n",
      "[47/50]\tcv_eval_time=785.15 sec\tRMSE=0.081939\tR^2=0.410453\n",
      "[48/50]\tcv_eval_time=549.73 sec\tRMSE=0.093625\tR^2=0.229094\n",
      "[49/50]\tcv_eval_time=677.46 sec\tRMSE=0.080592\tR^2=0.429306\n",
      "[50/50]\tcv_eval_time=738.43 sec\tRMSE=0.081982\tR^2=0.410376\n",
      " elapsed time: 9h 38min 12s\n",
      "\n",
      "Stats (train | test):\n",
      "\tR^2 score:\t\t0.5989\n",
      "\t\t\t\t\t0.4359\n",
      "\tRMSE:\t\t\t0.0675\n",
      "\t\t\t\t\t0.0802\n",
      "\tMean error:\t\t0.0521\n",
      "\t\t\t\t\t0.0610\n",
      "\n",
      "Best parameters set:\n",
      "{'estimate__bagging_fraction': 0.7424547926380651,\n",
      " 'estimate__feature_fraction': 0.6695615733019702,\n",
      " 'estimate__lambda_l1': 0,\n",
      " 'estimate__lambda_l2': 0.28199707321841405,\n",
      " 'estimate__learning_rate': 0.034938717545280606,\n",
      " 'estimate__min_data_in_leaf': 12,\n",
      " 'estimate__min_sum_hessian_in_leaf': 0.0010048761491852846,\n",
      " 'estimate__n_estimators': 400,\n",
      " 'estimate__num_leaves': 165,\n",
      " 'estimate__objective': 'regression',\n",
      " 'estimate__seed': 0}\n",
      "\n",
      "Plotting predicted vs. actual ...done\n",
      "\n",
      "Plotting feature importances ...done\n",
      "\n"
     ]
    }
   ],
   "source": [
    "    #some parameters\n",
    "    DO_LOWESS = False\n",
    "    hyperopt = True\n",
    "    # Run LGBMRegressor with hyperopt optimization\n",
    "    answer_features_transformations, \\\n",
    "    question_features_transformations, \\\n",
    "    time_features_transformations, \\\n",
    "    user_features_transformations = _tree_features_transformations()\n",
    "\n",
    "    lgbm = HyperoptModel(train.copy(), test.copy(), 'lgbm', cv=5)\n",
    "    lgbm.raw_features = []\n",
    "    lgbm.pipeline = Pipeline([\n",
    "        ('prepare_features', FeatureUnion([\n",
    "            ('user_features', CustomDataFrameMapper(user_features_transformations)),\n",
    "            ('time_features', CustomDataFrameMapper(time_features_transformations)),\n",
    "            ('answer_features', CustomDataFrameMapper(answer_features_transformations)),\n",
    "            ('question_features', CustomDataFrameMapper(question_features_transformations))\n",
    "        ])),\n",
    "        ('estimate', lgb.LGBMRegressor(**{'bagging_fraction': 0.9583593582453502,\n",
    "                                          'feature_fraction': 0.797191970090108,\n",
    "                                          'lambda_l1': 0,\n",
    "                                          'lambda_l2': 0,\n",
    "                                          'learning_rate': 0.06967397660277702,\n",
    "                                          'min_data_in_leaf': 2,\n",
    "                                          'min_sum_hessian_in_leaf': 3.8117576166032006,\n",
    "                                          'n_estimators': 435,\n",
    "                                          'num_leaves': 287,\n",
    "                                          'objective': 'regression',\n",
    "                                          'seed': 0}))\n",
    "    ])\n",
    "    for transformer in lgbm.pipeline.named_steps['prepare_features'].transformer_list:\n",
    "        lgbm.raw_features += [t[0] if isinstance(t[0], str) else t[0][0] for t in transformer[1].features]\n",
    "\n",
    "    \"\"\" find number of trees \"\"\"\n",
    "    # num_trees_train, num_trees_eval = train_test_split(train, test_size=0.2, random_state=0)\n",
    "    # X = num_trees_train[list(filter(lambda column: column in lgbm.raw_features, lgbm.train.columns))]\n",
    "    # y = num_trees_train['score']\n",
    "    #\n",
    "    # eval_X = num_trees_eval[list(filter(lambda column: column in lgbm.raw_features, lgbm.train.columns))]\n",
    "    # eval_X = lgbm.pipeline.named_steps['prepare_features'].fit_transform(eval_X)\n",
    "    # eval_set = (eval_X, num_trees_eval['score'])\n",
    "    #\n",
    "    # best = lgbm.pipeline.fit(X=X, y=y, estimate__eval_set=eval_set, estimate__early_stopping_rounds=10)\n",
    "    # print(best.named_steps['estimate'].best_iteration)\n",
    "\n",
    "    lgbm.space = {\n",
    "        'estimate__objective': hp.choice('estimate__objective', ['regression']),\n",
    "        'estimate__n_estimators': hp.choice('estimate__n_estimators', [400]),\n",
    "        'estimate__seed': hp.choice('estimate__seed', [0]),\n",
    "\n",
    "        'estimate__learning_rate': hp.loguniform('estimate__learning_rate', -7, 0),\n",
    "        'estimate__num_leaves': scope.int(hp.qloguniform('estimate__num_leaves', 1, 7, 1)),\n",
    "        'estimate__feature_fraction': hp.uniform('estimate__feature_fraction', 0.5, 1),\n",
    "        'estimate__bagging_fraction': hp.uniform('estimate__bagging_fraction', 0.5, 1),\n",
    "        'estimate__min_data_in_leaf': scope.int(hp.qloguniform('estimate__min_data_in_leaf', 0, 6, 1)),\n",
    "        'estimate__min_sum_hessian_in_leaf': hp.loguniform('estimate__min_sum_hessian_in_leaf', -16, 5),\n",
    "        'estimate__lambda_l1': hp.choice('lambda_l1', [0, hp.loguniform('estimate__lambda_l1_positive', -16, 2)]),\n",
    "        'estimate__lambda_l2': hp.choice('lambda_l2', [0, hp.loguniform('estimate__lambda_l2_positive', -16, 2)]),\n",
    "    }\n",
    "\n",
    "    if hyperopt:\n",
    "        lgbm.run(do_lowess=DO_LOWESS)\n",
    "    else:\n",
    "        # train with default params\n",
    "        lgbm.pipeline.fit(X=lgbm.X_train, y=lgbm.y_train)\n",
    "        lgbm.model = lgbm.pipeline\n",
    "        lgbm.stats()\n",
    "        lgbm.plot_predicted_vs_actual()\n",
    "        lgbm.plot_residuals(r_type='raw', do_lowess=False)\n",
    "        lgbm.plot_feature_importance()\n"
   ]
  },
  {
   "cell_type": "code",
   "execution_count": null,
   "metadata": {
    "collapsed": true
   },
   "outputs": [],
   "source": []
  }
 ],
 "metadata": {
  "kernelspec": {
   "display_name": "Python 3",
   "language": "python",
   "name": "python3"
  },
  "language_info": {
   "codemirror_mode": {
    "name": "ipython",
    "version": 3
   },
   "file_extension": ".py",
   "mimetype": "text/x-python",
   "name": "python",
   "nbconvert_exporter": "python",
   "pygments_lexer": "ipython3",
   "version": "3.6.3"
  }
 },
 "nbformat": 4,
 "nbformat_minor": 2
}
