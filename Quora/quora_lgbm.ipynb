{
 "cells": [
  {
   "cell_type": "code",
   "execution_count": 2,
   "metadata": {},
   "outputs": [],
   "source": [
    "#imports\n",
    "import lightgbm as lgb\n",
    "import numpy as np\n",
    "import pandas as pd\n",
    "import sqlalchemy\n",
    "from hyperopt import hp\n",
    "from hyperopt.pyll import scope\n",
    "from sklearn.model_selection import train_test_split\n",
    "from sklearn.pipeline import Pipeline, FeatureUnion\n",
    "\n",
    "import os\n",
    "import sys\n",
    "module_path = os.path.abspath(os.path.join('..'))\n",
    "if module_path not in sys.path:\n",
    "    sys.path.append(module_path)\n",
    "\n",
    "from models.hyperopt_model import HyperoptModel\n",
    "from models.utils import CustomDataFrameMapper\n",
    "from models.utils import _tree_features_transformations"
   ]
  },
  {
   "cell_type": "code",
   "execution_count": 3,
   "metadata": {
    "scrolled": false
   },
   "outputs": [],
   "source": [
    "# read the data\n",
    "preprocessed_data = pd.read_pickle('./data/preprocesed_data.200.20.big.pd')\n",
    "\n",
    "# Create a dataframe\n",
    "df = pd.DataFrame(preprocessed_data)"
   ]
  },
  {
   "cell_type": "code",
   "execution_count": 4,
   "metadata": {
    "collapsed": true
   },
   "outputs": [],
   "source": [
    "# Create two new dataframes, one with the training rows, one with the test rows\n",
    "train, test=train_test_split(df, test_size=0.2, random_state=0)"
   ]
  },
  {
   "cell_type": "code",
   "execution_count": 5,
   "metadata": {},
   "outputs": [
    {
     "name": "stdout",
     "output_type": "stream",
     "text": [
      "Number of observations in the training data: 114411\n",
      "Number of observations in the test data: 28603\n"
     ]
    }
   ],
   "source": [
    "# Show the number of observations for the test and training dataframes\n",
    "print('Number of observations in the training data:', len(train))\n",
    "print('Number of observations in the test data:',len(test))"
   ]
  },
  {
   "cell_type": "code",
   "execution_count": null,
   "metadata": {
    "scrolled": true
   },
   "outputs": [
    {
     "name": "stdout",
     "output_type": "stream",
     "text": [
      "Performing parameters optimization...\n"
     ]
    }
   ],
   "source": [
    "    #some parameters\n",
    "    DO_LOWESS = False\n",
    "    hyperopt = True\n",
    "    # Run LGBMRegressor with hyperopt optimization\n",
    "    answer_features_transformations, \\\n",
    "    question_features_transformations, \\\n",
    "    time_features_transformations, \\\n",
    "    user_features_transformations = _tree_features_transformations()\n",
    "\n",
    "    lgbm = HyperoptModel(train.copy(), test.copy(), 'lgbm', cv=5)\n",
    "    lgbm.raw_features = []\n",
    "    lgbm.pipeline = Pipeline([\n",
    "        ('prepare_features', FeatureUnion([\n",
    "            ('user_features', CustomDataFrameMapper(user_features_transformations)),\n",
    "            ('time_features', CustomDataFrameMapper(time_features_transformations)),\n",
    "            ('answer_features', CustomDataFrameMapper(answer_features_transformations)),\n",
    "            ('question_features', CustomDataFrameMapper(question_features_transformations))\n",
    "        ])),\n",
    "        ('estimate', lgb.LGBMRegressor(**{'bagging_fraction': 0.9583593582453502,\n",
    "                                          'feature_fraction': 0.797191970090108,\n",
    "                                          'lambda_l1': 0,\n",
    "                                          'lambda_l2': 0,\n",
    "                                          'learning_rate': 0.06967397660277702,\n",
    "                                          'min_data_in_leaf': 2,\n",
    "                                          'min_sum_hessian_in_leaf': 3.8117576166032006,\n",
    "                                          'n_estimators': 435,\n",
    "                                          'num_leaves': 287,\n",
    "                                          'objective': 'regression',\n",
    "                                          'seed': 0}))\n",
    "    ])\n",
    "    for transformer in lgbm.pipeline.named_steps['prepare_features'].transformer_list:\n",
    "        lgbm.raw_features += [t[0] if isinstance(t[0], str) else t[0][0] for t in transformer[1].features]\n",
    "\n",
    "    \"\"\" find number of trees \"\"\"\n",
    "    # num_trees_train, num_trees_eval = train_test_split(train, test_size=0.2, random_state=0)\n",
    "    # X = num_trees_train[list(filter(lambda column: column in lgbm.raw_features, lgbm.train.columns))]\n",
    "    # y = num_trees_train['score']\n",
    "    #\n",
    "    # eval_X = num_trees_eval[list(filter(lambda column: column in lgbm.raw_features, lgbm.train.columns))]\n",
    "    # eval_X = lgbm.pipeline.named_steps['prepare_features'].fit_transform(eval_X)\n",
    "    # eval_set = (eval_X, num_trees_eval['score'])\n",
    "    #\n",
    "    # best = lgbm.pipeline.fit(X=X, y=y, estimate__eval_set=eval_set, estimate__early_stopping_rounds=10)\n",
    "    # print(best.named_steps['estimate'].best_iteration)\n",
    "\n",
    "    lgbm.space = {\n",
    "        'estimate__objective': hp.choice('estimate__objective', ['regression']),\n",
    "        'estimate__n_estimators': hp.choice('estimate__n_estimators', [400]),\n",
    "        'estimate__seed': hp.choice('estimate__seed', [0]),\n",
    "\n",
    "        'estimate__learning_rate': hp.loguniform('estimate__learning_rate', -7, 0),\n",
    "        'estimate__num_leaves': scope.int(hp.qloguniform('estimate__num_leaves', 0, 7, 1)),\n",
    "        'estimate__feature_fraction': hp.uniform('estimate__feature_fraction', 0.5, 1),\n",
    "        'estimate__bagging_fraction': hp.uniform('estimate__bagging_fraction', 0.5, 1),\n",
    "        'estimate__min_data_in_leaf': scope.int(hp.qloguniform('estimate__min_data_in_leaf', 0, 6, 1)),\n",
    "        'estimate__min_sum_hessian_in_leaf': hp.loguniform('estimate__min_sum_hessian_in_leaf', -16, 5),\n",
    "        'estimate__lambda_l1': hp.choice('lambda_l1', [0, hp.loguniform('estimate__lambda_l1_positive', -16, 2)]),\n",
    "        'estimate__lambda_l2': hp.choice('lambda_l2', [0, hp.loguniform('estimate__lambda_l2_positive', -16, 2)]),\n",
    "    }\n",
    "\n",
    "    if hyperopt:\n",
    "        lgbm.run(do_lowess=DO_LOWESS)\n",
    "    else:\n",
    "        # train with default params\n",
    "        lgbm.pipeline.fit(X=lgbm.X_train, y=lgbm.y_train)\n",
    "        lgbm.model = lgbm.pipeline\n",
    "        lgbm.stats()\n",
    "        lgbm.plot_predicted_vs_actual()\n",
    "        lgbm.plot_residuals(r_type='raw', do_lowess=False)\n",
    "        lgbm.plot_feature_importance()\n"
   ]
  },
  {
   "cell_type": "code",
   "execution_count": null,
   "metadata": {
    "collapsed": true
   },
   "outputs": [],
   "source": []
  }
 ],
 "metadata": {
  "kernelspec": {
   "display_name": "Python 3",
   "language": "python",
   "name": "python3"
  },
  "language_info": {
   "codemirror_mode": {
    "name": "ipython",
    "version": 3
   },
   "file_extension": ".py",
   "mimetype": "text/x-python",
   "name": "python",
   "nbconvert_exporter": "python",
   "pygments_lexer": "ipython3",
   "version": "3.6.3"
  }
 },
 "nbformat": 4,
 "nbformat_minor": 2
}
