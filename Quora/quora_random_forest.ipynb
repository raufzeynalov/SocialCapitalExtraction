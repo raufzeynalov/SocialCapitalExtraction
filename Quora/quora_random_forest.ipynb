{
 "cells": [
  {
   "cell_type": "code",
   "execution_count": 1,
   "metadata": {},
   "outputs": [
    {
     "name": "stderr",
     "output_type": "stream",
     "text": [
      "C:\\ProgramData\\Anaconda3\\lib\\site-packages\\statsmodels\\compat\\pandas.py:56: FutureWarning: The pandas.core.datetools module is deprecated and will be removed in a future version. Please use the pandas.tseries module instead.\n",
      "  from pandas.core import datetools\n"
     ]
    }
   ],
   "source": [
    "#imports\n",
    "import numpy as np\n",
    "import pandas as pd\n",
    "import sqlalchemy\n",
    "from hyperopt import hp\n",
    "from hyperopt.pyll import scope\n",
    "from sklearn.ensemble import RandomForestRegressor\n",
    "from sklearn.model_selection import train_test_split\n",
    "from sklearn.pipeline import Pipeline, FeatureUnion\n",
    "\n",
    "import os\n",
    "import sys\n",
    "module_path = os.path.abspath(os.path.join('..'))\n",
    "if module_path not in sys.path:\n",
    "    sys.path.append(module_path)\n",
    "\n",
    "from models.hyperopt_model import HyperoptModel\n",
    "from models.utils import CustomDataFrameMapper\n",
    "from models.utils import _tree_features_transformations"
   ]
  },
  {
   "cell_type": "code",
   "execution_count": 2,
   "metadata": {
    "collapsed": true,
    "scrolled": false
   },
   "outputs": [],
   "source": [
    "# read the data\n",
    "preprocessed_data = pd.read_pickle('./data/preprocesed_data.200.20.big.pd')\n",
    "\n",
    "# Create a dataframe\n",
    "df = pd.DataFrame(preprocessed_data)"
   ]
  },
  {
   "cell_type": "code",
   "execution_count": 3,
   "metadata": {
    "collapsed": true
   },
   "outputs": [],
   "source": [
    "# Create two new dataframes, one with the training rows, one with the test rows\n",
    "train, test=train_test_split(df, test_size=0.2, random_state=0)"
   ]
  },
  {
   "cell_type": "code",
   "execution_count": null,
   "metadata": {},
   "outputs": [
    {
     "name": "stdout",
     "output_type": "stream",
     "text": [
      "Number of observations in the training data: 114411\n",
      "Number of observations in the test data: 28603\n"
     ]
    }
   ],
   "source": [
    "# Show the number of observations for the test and training dataframes\n",
    "print('Number of observations in the training data:', len(train))\n",
    "print('Number of observations in the test data:',len(test))"
   ]
  },
  {
   "cell_type": "code",
   "execution_count": null,
   "metadata": {
    "scrolled": true
   },
   "outputs": [],
   "source": [
    "    #some parameters\n",
    "    DO_LOWESS = False\n",
    "    hyperopt = False\n",
    "    # Run RandomForestRegressor with hyperopt optimization\n",
    "    answer_features_transformations, \\\n",
    "    question_features_transformations, \\\n",
    "    time_features_transformations, \\\n",
    "    user_features_transformations = _tree_features_transformations()\n",
    "\n",
    "    rf = HyperoptModel(train.copy(), test.copy(),'rf', cv=3, max_evals = 10)\n",
    "    rf.raw_features = []\n",
    "    rf.pipeline = Pipeline([\n",
    "        ('prepare_features', FeatureUnion([\n",
    "            ('user_features', CustomDataFrameMapper(user_features_transformations)),\n",
    "            ('time_features', CustomDataFrameMapper(time_features_transformations)),\n",
    "            ('answer_features', CustomDataFrameMapper(answer_features_transformations)),\n",
    "            ('question_features', CustomDataFrameMapper(question_features_transformations))\n",
    "        ])),\n",
    "        ('estimate', RandomForestRegressor(**{'max_features': 0.5907165396346349,\n",
    "                                              'min_samples_leaf': 10,\n",
    "                                              'n_estimators': 2208,\n",
    "                                              'oob_score': True,\n",
    "                                              'random_state': 0}))\n",
    "    ])\n",
    "    for transformer in rf.pipeline.named_steps['prepare_features'].transformer_list:\n",
    "        rf.raw_features += [t[0] if isinstance(t[0], str) else t[0][0] for t in transformer[1].features]\n",
    "\n",
    "    rf.space = {\n",
    "        'estimate__random_state': hp.choice('estimate__random_state', [0]),\n",
    "        'estimate__oob_score': hp.choice('estimate__oob_score', [True]),\n",
    "\n",
    "        'estimate__max_features': hp.uniform('estimate__max_features', 0, 1.),\n",
    "        'estimate__n_estimators': hp.choice('estimate__n_estimators', range(1, 3000 + 1)),\n",
    "        #'estimate__criterion': hp.choice('estimate__criterion', ['gini', 'entropy']),\n",
    "        'estimate__min_samples_leaf': hp.choice('estimate__min_samples_leaf', range(1, 100 + 1)),\n",
    "        #'estimate__scale': hp.choice('estimate__scale', [0, 1.]),\n",
    "        #'estimate__normalize': hp.choice('estimate__normalize', [0, 1.]),\n",
    "    }\n",
    "\n",
    "    if hyperopt:\n",
    "        rf.run(do_lowess=DO_LOWESS)\n",
    "    else:\n",
    "        # train with default params\n",
    "        rf.pipeline.fit(X=rf.X_train, y=rf.y_train)\n",
    "        rf.model = rf.pipeline\n",
    "        rf.stats()\n",
    "        rf.plot_predicted_vs_actual()\n",
    "        rf.plot_residuals(r_type='raw', do_lowess=False)\n",
    "        rf.plot_feature_importance()"
   ]
  },
  {
   "cell_type": "code",
   "execution_count": null,
   "metadata": {
    "collapsed": true
   },
   "outputs": [],
   "source": []
  }
 ],
 "metadata": {
  "kernelspec": {
   "display_name": "Python 3",
   "language": "python",
   "name": "python3"
  },
  "language_info": {
   "codemirror_mode": {
    "name": "ipython",
    "version": 3
   },
   "file_extension": ".py",
   "mimetype": "text/x-python",
   "name": "python",
   "nbconvert_exporter": "python",
   "pygments_lexer": "ipython3",
   "version": "3.6.3"
  }
 },
 "nbformat": 4,
 "nbformat_minor": 2
}
