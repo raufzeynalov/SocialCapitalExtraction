{
 "cells": [
  {
   "cell_type": "code",
   "execution_count": 1,
   "metadata": {},
   "outputs": [
    {
     "name": "stderr",
     "output_type": "stream",
     "text": [
      "C:\\ProgramData\\Anaconda3\\lib\\site-packages\\statsmodels\\compat\\pandas.py:56: FutureWarning: The pandas.core.datetools module is deprecated and will be removed in a future version. Please use the pandas.tseries module instead.\n",
      "  from pandas.core import datetools\n"
     ]
    }
   ],
   "source": [
    "#imports\n",
    "import numpy as np\n",
    "import pandas as pd\n",
    "import sqlalchemy\n",
    "from hyperopt import hp\n",
    "from hyperopt.pyll import scope\n",
    "from sklearn.model_selection import train_test_split\n",
    "from sklearn.pipeline import Pipeline, FeatureUnion\n",
    "from sklearn.svm import SVR\n",
    "\n",
    "import os\n",
    "import sys\n",
    "module_path = os.path.abspath(os.path.join('..'))\n",
    "if module_path not in sys.path:\n",
    "    sys.path.append(module_path)\n",
    "\n",
    "from models.hyperopt_model import HyperoptModel\n",
    "from models.utils import CustomDataFrameMapper\n",
    "from models.utils import _svr_features_transformations"
   ]
  },
  {
   "cell_type": "code",
   "execution_count": 4,
   "metadata": {
    "scrolled": false
   },
   "outputs": [
    {
     "name": "stdout",
     "output_type": "stream",
     "text": [
      "Index(['user_id', 'user_answers_num', 'user_questions_num', 'user_blogs_num',\n",
      "       'user_posts_num', 'user_edits_num', 'user_followers_num',\n",
      "       'user_followings_num', 'user_has_picture', 'user_topics_num',\n",
      "       'user_bio', 'answer_id', 'answer_is_downvoted', 'answer_comments_num',\n",
      "       'answer_content', 'answer_user_credential', 'answer_upvotes_num',\n",
      "       'answer_views_num', 'answer_timestamp', 'answer_rank', 'question_id',\n",
      "       'question_title', 'question_fetched_answers_num',\n",
      "       'question_expected_answers_num', 'question_followers_num',\n",
      "       'question_comments_num', 'user_fetched_answers_num', 'days_since_epoch',\n",
      "       'days_rescaled', 'score', 'user_z_score', 'user_ff_ratio',\n",
      "       'max_answer_rank', 'answer_rank_ratio', 'user_top_score_ratio',\n",
      "       'question_subjectivity', 'answer_smog_index', 'answer_smog_min_age',\n",
      "       'user_obj_presense', 'user_subj_presense', 'Unnamed: 0', 'lda_1',\n",
      "       'lda_2', 'lda_3', 'lda_4', 'lda_5', 'lda_6', 'lda_7', 'lda_8', 'lda_9',\n",
      "       'lda_10', 'lda_11', 'lda_12', 'lda_13', 'lda_14', 'lda_15', 'lda_16',\n",
      "       'lda_17', 'lda_18', 'lda_19', 'lda_20', 'user_topic_presense_1',\n",
      "       'user_topic_presense_2', 'user_topic_presense_3',\n",
      "       'user_topic_presense_4', 'user_topic_presense_5',\n",
      "       'user_topic_presense_6', 'user_topic_presense_7',\n",
      "       'user_topic_presense_8', 'user_topic_presense_9',\n",
      "       'user_topic_presense_10', 'user_topic_presense_11',\n",
      "       'user_topic_presense_12', 'user_topic_presense_13',\n",
      "       'user_topic_presense_14', 'user_topic_presense_15',\n",
      "       'user_topic_presense_16', 'user_topic_presense_17',\n",
      "       'user_topic_presense_18', 'user_topic_presense_19',\n",
      "       'user_topic_presense_20'],\n",
      "      dtype='object')\n",
      "Int64Index([     0,      1,      2,      5,     14,     15,     22,     24,\n",
      "                31,     33,\n",
      "            ...\n",
      "            510885, 510890, 510891, 510892, 510893, 510895, 510906, 510908,\n",
      "            510909, 510918],\n",
      "           dtype='int64', length=143014)\n"
     ]
    }
   ],
   "source": [
    "# read the data\n",
    "preprocessed_data = pd.read_pickle('./data/preprocesed_data.200.20.big.pd')\n",
    "print(preprocessed_data.columns)\n",
    "# Create a dataframe\n",
    "df = pd.DataFrame(preprocessed_data)\n",
    "print(df)"
   ]
  },
  {
   "cell_type": "code",
   "execution_count": 3,
   "metadata": {
    "collapsed": true
   },
   "outputs": [],
   "source": [
    "# Create two new dataframes, one with the training rows, one with the test rows\n",
    "train, test=train_test_split(df, test_size=0.2, random_state=0)"
   ]
  },
  {
   "cell_type": "code",
   "execution_count": 4,
   "metadata": {},
   "outputs": [
    {
     "name": "stdout",
     "output_type": "stream",
     "text": [
      "Number of observations in the training data: 114411\n",
      "Number of observations in the test data: 28603\n"
     ]
    }
   ],
   "source": [
    "# Show the number of observations for the test and training dataframes\n",
    "print('Number of observations in the training data:', len(train))\n",
    "print('Number of observations in the test data:',len(test))"
   ]
  },
  {
   "cell_type": "code",
   "execution_count": null,
   "metadata": {
    "scrolled": true
   },
   "outputs": [
    {
     "name": "stderr",
     "output_type": "stream",
     "text": [
      "C:\\ProgramData\\Anaconda3\\lib\\site-packages\\sklearn\\base.py:311: UserWarning: Trying to unpickle estimator CountVectorizer from version 0.18.1 when using version 0.19.1. This might lead to breaking code or invalid results. Use at your own risk.\n",
      "  UserWarning)\n",
      "C:\\ProgramData\\Anaconda3\\lib\\site-packages\\sklearn\\base.py:311: UserWarning: Trying to unpickle estimator TfidfTransformer from version 0.18.1 when using version 0.19.1. This might lead to breaking code or invalid results. Use at your own risk.\n",
      "  UserWarning)\n",
      "C:\\ProgramData\\Anaconda3\\lib\\site-packages\\sklearn\\base.py:311: UserWarning: Trying to unpickle estimator SGDClassifier from version 0.18.1 when using version 0.19.1. This might lead to breaking code or invalid results. Use at your own risk.\n",
      "  UserWarning)\n",
      "C:\\ProgramData\\Anaconda3\\lib\\site-packages\\sklearn\\base.py:311: UserWarning: Trying to unpickle estimator Pipeline from version 0.18.1 when using version 0.19.1. This might lead to breaking code or invalid results. Use at your own risk.\n",
      "  UserWarning)\n"
     ]
    },
    {
     "name": "stdout",
     "output_type": "stream",
     "text": [
      "Performing parameters optimization...\n"
     ]
    },
    {
     "name": "stderr",
     "output_type": "stream",
     "text": [
      "C:\\ProgramData\\Anaconda3\\lib\\site-packages\\sklearn\\base.py:311: UserWarning: Trying to unpickle estimator CountVectorizer from version 0.18.1 when using version 0.19.1. This might lead to breaking code or invalid results. Use at your own risk.\n",
      "  UserWarning)\n",
      "C:\\ProgramData\\Anaconda3\\lib\\site-packages\\sklearn\\base.py:311: UserWarning: Trying to unpickle estimator TfidfTransformer from version 0.18.1 when using version 0.19.1. This might lead to breaking code or invalid results. Use at your own risk.\n",
      "  UserWarning)\n",
      "C:\\ProgramData\\Anaconda3\\lib\\site-packages\\sklearn\\base.py:311: UserWarning: Trying to unpickle estimator SGDClassifier from version 0.18.1 when using version 0.19.1. This might lead to breaking code or invalid results. Use at your own risk.\n",
      "  UserWarning)\n",
      "C:\\ProgramData\\Anaconda3\\lib\\site-packages\\sklearn\\base.py:311: UserWarning: Trying to unpickle estimator Pipeline from version 0.18.1 when using version 0.19.1. This might lead to breaking code or invalid results. Use at your own risk.\n",
      "  UserWarning)\n",
      "C:\\ProgramData\\Anaconda3\\lib\\site-packages\\sklearn\\base.py:311: UserWarning: Trying to unpickle estimator CountVectorizer from version 0.18.1 when using version 0.19.1. This might lead to breaking code or invalid results. Use at your own risk.\n",
      "  UserWarning)\n",
      "C:\\ProgramData\\Anaconda3\\lib\\site-packages\\sklearn\\base.py:311: UserWarning: Trying to unpickle estimator TfidfTransformer from version 0.18.1 when using version 0.19.1. This might lead to breaking code or invalid results. Use at your own risk.\n",
      "  UserWarning)\n",
      "C:\\ProgramData\\Anaconda3\\lib\\site-packages\\sklearn\\base.py:311: UserWarning: Trying to unpickle estimator SGDClassifier from version 0.18.1 when using version 0.19.1. This might lead to breaking code or invalid results. Use at your own risk.\n",
      "  UserWarning)\n",
      "C:\\ProgramData\\Anaconda3\\lib\\site-packages\\sklearn\\base.py:311: UserWarning: Trying to unpickle estimator Pipeline from version 0.18.1 when using version 0.19.1. This might lead to breaking code or invalid results. Use at your own risk.\n",
      "  UserWarning)\n"
     ]
    }
   ],
   "source": [
    "    #some parameters\n",
    "    DO_LOWESS = False\n",
    "    hyperopt = True\n",
    "    # Run SVR with hyperopt optimization\n",
    "    answer_features_transformations, question_features_transformations, time_features_transformations, user_features_transformations = _svr_features_transformations()\n",
    "\n",
    "    svm = HyperoptModel(train.copy(), test.copy(), 'svr', cv=3)\n",
    "    svm.pipeline = Pipeline([\n",
    "        ('prepare_features', FeatureUnion([\n",
    "            ('user_features', CustomDataFrameMapper(user_features_transformations)),\n",
    "            ('time_features', CustomDataFrameMapper(time_features_transformations)),\n",
    "            ('answer_features', CustomDataFrameMapper(answer_features_transformations)),\n",
    "            ('question_features', CustomDataFrameMapper(question_features_transformations))\n",
    "        ])),\n",
    "        ('estimate', SVR(C=3.376124349816575, gamma=0.0069678844996990535, kernel='rbf'))\n",
    "    ])\n",
    "    svm.raw_features = []\n",
    "    for transformer in svm.pipeline.named_steps['prepare_features'].transformer_list:\n",
    "        svm.raw_features += [t[0] if isinstance(t[0], str) else t[0][0] for t in transformer[1].features]\n",
    "\n",
    "    \"\"\"\n",
    "    1) The C parameter trades off misclassification of training examples against simplicity of the decision surface. \n",
    "    A low C makes the decision surface smooth, while a high C aims at classifying all training examples correctly \n",
    "        by giving the model freedom to select more samples as support vectors.\n",
    "        \n",
    "    2)  The gamma parameter defines how far the influence of a single training example reaches, \n",
    "    with low values meaning ‘far’ and high values meaning ‘close’. \n",
    "    The gamma parameters can be seen as the inverse of the \n",
    "        radius of influence of samples selected by the model as support vectors.\n",
    "    \"\"\"\n",
    "\n",
    "    # default_gamma = 1. / len(svm.raw_features)\n",
    "    svm.space = {\n",
    "        'estimate__C': hp.uniform('estimate__C', 0, 10.),\n",
    "        'estimate__kernel': hp.choice('estimate__kernel', ['linear', 'sigmoid', 'rbf']),\n",
    "        'estimate__gamma': hp.uniform('estimate__gamma', 0, 10.),\n",
    "    }\n",
    "\n",
    "    if hyperopt:\n",
    "        svm.run(do_lowess=DO_LOWESS)\n",
    "    else:\n",
    "        # train with default params\n",
    "        svm.pipeline.fit(X=svm.X_train, y=svm.y_train)\n",
    "        svm.model = svm.pipeline\n",
    "        svm.stats()\n",
    "        svm.plot_predicted_vs_actual()\n",
    "        svm.plot_residuals(r_type='raw', do_lowess=False)\n",
    "        svm.plot_feature_importance()\n"
   ]
  },
  {
   "cell_type": "code",
   "execution_count": null,
   "metadata": {
    "collapsed": true
   },
   "outputs": [],
   "source": []
  }
 ],
 "metadata": {
  "kernelspec": {
   "display_name": "Python 3",
   "language": "python",
   "name": "python3"
  },
  "language_info": {
   "codemirror_mode": {
    "name": "ipython",
    "version": 3
   },
   "file_extension": ".py",
   "mimetype": "text/x-python",
   "name": "python",
   "nbconvert_exporter": "python",
   "pygments_lexer": "ipython3",
   "version": "3.6.3"
  }
 },
 "nbformat": 4,
 "nbformat_minor": 2
}
