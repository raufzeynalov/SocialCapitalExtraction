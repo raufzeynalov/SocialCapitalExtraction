{
 "cells": [
  {
   "cell_type": "code",
   "execution_count": 1,
   "metadata": {},
   "outputs": [
    {
     "name": "stderr",
     "output_type": "stream",
     "text": [
      "C:\\ProgramData\\Anaconda3\\lib\\site-packages\\statsmodels\\compat\\pandas.py:56: FutureWarning: The pandas.core.datetools module is deprecated and will be removed in a future version. Please use the pandas.tseries module instead.\n",
      "  from pandas.core import datetools\n"
     ]
    }
   ],
   "source": [
    "#imports\n",
    "import numpy as np\n",
    "import pandas as pd\n",
    "from catboost import CatBoostRegressor\n",
    "from hyperopt import hp\n",
    "from hyperopt.pyll import scope\n",
    "from sklearn.model_selection import train_test_split\n",
    "from sklearn.pipeline import Pipeline\n",
    "from catboost import CatBoostRegressor\n",
    "\n",
    "import os\n",
    "import sys\n",
    "module_path = os.path.abspath(os.path.join('../..'))\n",
    "if module_path not in sys.path:\n",
    "    sys.path.append(module_path)\n",
    "\n",
    "from models.hyperopt_model import HyperoptModel"
   ]
  },
  {
   "cell_type": "code",
   "execution_count": 2,
   "metadata": {
    "collapsed": true,
    "scrolled": false
   },
   "outputs": [],
   "source": [
    "# read the data\n",
    "preprocessed_data = pd.read_pickle('../data/preprocessed_science_hindex.pd')\n",
    "\n",
    "# Create a dataframe\n",
    "df = pd.DataFrame(preprocessed_data)"
   ]
  },
  {
   "cell_type": "code",
   "execution_count": 3,
   "metadata": {
    "collapsed": true
   },
   "outputs": [],
   "source": [
    "# Create two new dataframes, one with the training rows, one with the test rows\n",
    "train, test=train_test_split(df, test_size=0.2, random_state=0)"
   ]
  },
  {
   "cell_type": "code",
   "execution_count": 4,
   "metadata": {},
   "outputs": [
    {
     "name": "stdout",
     "output_type": "stream",
     "text": [
      "Number of observations in the training data: 79342\n",
      "Number of observations in the test data: 19836\n"
     ]
    }
   ],
   "source": [
    "# Show the number of observations for the test and training dataframes\n",
    "print('Number of observations in the training data:', len(train))\n",
    "print('Number of observations in the test data:',len(test))"
   ]
  },
  {
   "cell_type": "code",
   "execution_count": 5,
   "metadata": {
    "scrolled": true
   },
   "outputs": [
    {
     "name": "stdout",
     "output_type": "stream",
     "text": [
      "Performing parameters optimization...\n",
      "[1/30]\tcv_eval_time=1867.16 sec\tRMSE=0.070135\tR^2=0.846103\n",
      "[2/30]\tcv_eval_time=1838.16 sec\tRMSE=0.070345\tR^2=0.844834\n",
      "[3/30]\tcv_eval_time=1850.50 sec\tRMSE=0.075790\tR^2=0.819884\n",
      "[4/30]\tcv_eval_time=1842.79 sec\tRMSE=0.073090\tR^2=0.832582\n",
      "[5/30]\tcv_eval_time=1846.11 sec\tRMSE=0.070075\tR^2=0.846145\n",
      "[6/30]\tcv_eval_time=1866.43 sec\tRMSE=0.072978\tR^2=0.834411\n",
      "[7/30]\tcv_eval_time=1846.48 sec\tRMSE=0.070397\tR^2=0.845329\n",
      "[8/30]\tcv_eval_time=1837.59 sec\tRMSE=0.071859\tR^2=0.838422\n",
      "[9/30]\tcv_eval_time=1873.15 sec\tRMSE=0.070734\tR^2=0.843239\n",
      "[10/30]\tcv_eval_time=1857.85 sec\tRMSE=0.070154\tR^2=0.845815\n",
      "[11/30]\tcv_eval_time=1881.60 sec\tRMSE=0.070054\tR^2=0.846152\n",
      "[12/30]\tcv_eval_time=1849.01 sec\tRMSE=0.073794\tR^2=0.829125\n",
      "[13/30]\tcv_eval_time=1895.67 sec\tRMSE=0.073177\tR^2=0.832223\n",
      "[14/30]\tcv_eval_time=1864.01 sec\tRMSE=0.070026\tR^2=0.846126\n",
      "[15/30]\tcv_eval_time=2007.66 sec\tRMSE=0.070121\tR^2=0.846573\n",
      "[16/30]\tcv_eval_time=1921.72 sec\tRMSE=0.077175\tR^2=0.813547\n",
      "[17/30]\tcv_eval_time=2032.35 sec\tRMSE=0.070764\tR^2=0.844118\n",
      "[18/30]\tcv_eval_time=1929.60 sec\tRMSE=0.070305\tR^2=0.845481\n",
      "[19/30]\tcv_eval_time=2040.40 sec\tRMSE=0.071742\tR^2=0.838941\n",
      "[20/30]\tcv_eval_time=1943.86 sec\tRMSE=0.071076\tR^2=0.841764\n",
      "[21/30]\tcv_eval_time=2007.06 sec\tRMSE=0.070129\tR^2=0.846474\n",
      "[22/30]\tcv_eval_time=1516.84 sec\tRMSE=0.070301\tR^2=0.845306\n",
      "[23/30]\tcv_eval_time=1378.45 sec\tRMSE=0.070944\tR^2=0.842075\n",
      "[24/30]\tcv_eval_time=1266.01 sec\tRMSE=0.081064\tR^2=0.792525\n",
      "[25/30]\tcv_eval_time=1156.86 sec\tRMSE=0.070243\tR^2=0.845426\n",
      "[26/30]\tcv_eval_time=1116.42 sec\tRMSE=0.071284\tR^2=0.840608\n",
      "[27/30]\tcv_eval_time=1155.83 sec\tRMSE=0.069993\tR^2=0.846155\n",
      "[28/30]\tcv_eval_time=1115.39 sec\tRMSE=0.070036\tR^2=0.845744\n",
      "[29/30]\tcv_eval_time=1149.73 sec\tRMSE=0.070217\tR^2=0.845675\n",
      "[30/30]\tcv_eval_time=1114.99 sec\tRMSE=0.070552\tR^2=0.843496\n",
      " elapsed time: 14h 7min 51s\n",
      "\n",
      "Stats (train | test):\n",
      "\tR^2 score:\t\t0.8752\n",
      "\t\t\t\t\t0.8514\n",
      "\tRMSE:\t\t\t0.0631\n",
      "\t\t\t\t\t0.0688\n",
      "\tMean error:\t\t0.0488\n",
      "\t\t\t\t\t0.0530\n",
      "\tPearson:\t\t0.9356\n",
      "\t\t\t\t\t0.9227\n",
      "\tSpearman:\t\t0.9080\n",
      "\t\t\t\t\t0.8920\n",
      "\tKendallTau:\t\t0.7938\n",
      "\t\t\t\t\t0.7721\n",
      "\n",
      "Best parameters set:\n",
      "{'estimate__bagging_temperature': 0.628648604370665,\n",
      " 'estimate__iterations': 1300,\n",
      " 'estimate__l2_leaf_reg': 6.946085821903085,\n",
      " 'estimate__learning_rate': 0.11015516004677615,\n",
      " 'estimate__loss_function': 'RMSE',\n",
      " 'estimate__random_seed': 0,\n",
      " 'estimate__random_strength': 1,\n",
      " 'estimate__thread_count': 4,\n",
      " 'estimate__train_dir': 'outputs/cat',\n",
      " 'estimate__used_ram_limit': 4294967296}\n",
      "\n",
      "Could not create plots\n"
     ]
    }
   ],
   "source": [
    "    #some parameters\n",
    "    DO_LOWESS = False\n",
    "    hyperopt = True\n",
    "    # Run CatBoostRegressor with hyperopt optimization\n",
    "    cat = HyperoptModel(train.copy(), test.copy(),'cat', cv=3, max_evals = 30)\n",
    "\n",
    "    cat.pipeline = Pipeline([\n",
    "        ('estimate', CatBoostRegressor())\n",
    "    ])\n",
    "    \n",
    "    features = list(df)\n",
    "    features.remove('score')\n",
    "    cat.raw_features = features\n",
    "    \n",
    "    cat.space = {\n",
    "        'estimate__iterations': hp.choice('estimate__iterations', [1300]),\n",
    "        'estimate__loss_function': hp.choice('estimate__loss_function', ['RMSE']),\n",
    "        'estimate__train_dir': hp.choice('estimate__train_dir', ['outputs/cat']),\n",
    "        'estimate__thread_count': hp.choice('estimate__thread_count', [4]),\n",
    "        'estimate__used_ram_limit': hp.choice('estimate__used_ram_limit', [1024 * 1024 * 1024 * 4]),  # 4gb\n",
    "        'estimate__random_seed': hp.choice('estimate__random_seed', [0]),\n",
    "\n",
    "        'estimate__learning_rate': hp.loguniform('estimate__learning_rate', -5, 0),\n",
    "        'estimate__random_strength': hp.choice('estimate__random_strength', [1, 20]),\n",
    "        'estimate__l2_leaf_reg': hp.loguniform('estimate__l2_leaf_reg', 0, np.log(10)),\n",
    "        'estimate__bagging_temperature': hp.uniform('estimate__bagging_temperature', 0, 1),\n",
    "    }\n",
    "\n",
    "    \"\"\"\n",
    "    find the best number of trees (following https://tech.yandex.com/catboost/doc/dg/concepts/parameter-tuning_trees-number-docpage/#parameter-tuning_trees-number)\n",
    "    need to also substitute the CatBoostRegressor parameters with:\n",
    "        ('estimate', CatBoostRegressor(iterations=10000, loss_function='RMSE', auto_stop_pval=1e-4, use_best_model=True, train_dir='outputs/cat_trees', verbose=True))\n",
    "    \"\"\"\n",
    "    # num_trees_train, num_trees_eval = train_test_split(train, test_size=0.2, random_state=0)\n",
    "    # X = num_trees_train[list(filter(lambda column: column in cat.raw_features, cat.train.columns))]\n",
    "    # y = num_trees_train['score']\n",
    "    #\n",
    "    # eval_X = num_trees_eval[list(filter(lambda column: column in cat.raw_features, cat.train.columns))]\n",
    "    # eval_X = cat.pipeline.named_steps['prepare_features'].fit_transform(eval_X)\n",
    "    # eval_set = (eval_X, num_trees_eval['score'])\n",
    "    #\n",
    "    # cat.pipeline.fit(X=X, y=y, estimate__eval_set=eval_set)\n",
    "    # cat.model = cat.pipeline\n",
    "    # print(cat.model.named_steps['estimate'].get_params())\n",
    "    # cat.model.named_steps['estimate'].save_model('tmp/cat.model'.encode('utf-8'))\n",
    "\n",
    "    if hyperopt:\n",
    "        cat.run(do_lowess=DO_LOWESS)\n",
    "    else:\n",
    "        # train with default params\n",
    "        cat.pipeline.fit(X=cat.X_train, y=cat.y_train)\n",
    "        cat.model = cat.pipeline\n",
    "        cat.stats()\n",
    "        cat.plot_predicted_vs_actual(do_lowess=DO_LOWESS)\n",
    "        cat.plot_feature_importance()\n",
    "        #cat.qq_plot()"
   ]
  },
  {
   "cell_type": "code",
   "execution_count": null,
   "metadata": {
    "collapsed": true
   },
   "outputs": [],
   "source": []
  }
 ],
 "metadata": {
  "kernelspec": {
   "display_name": "Python 3",
   "language": "python",
   "name": "python3"
  },
  "language_info": {
   "codemirror_mode": {
    "name": "ipython",
    "version": 3
   },
   "file_extension": ".py",
   "mimetype": "text/x-python",
   "name": "python",
   "nbconvert_exporter": "python",
   "pygments_lexer": "ipython3",
   "version": "3.6.3"
  }
 },
 "nbformat": 4,
 "nbformat_minor": 2
}
