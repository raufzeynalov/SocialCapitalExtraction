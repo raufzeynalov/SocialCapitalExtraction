{
 "cells": [
  {
   "cell_type": "code",
   "execution_count": 1,
   "metadata": {},
   "outputs": [
    {
     "name": "stderr",
     "output_type": "stream",
     "text": [
      "C:\\ProgramData\\Anaconda3\\lib\\site-packages\\statsmodels\\compat\\pandas.py:56: FutureWarning: The pandas.core.datetools module is deprecated and will be removed in a future version. Please use the pandas.tseries module instead.\n",
      "  from pandas.core import datetools\n"
     ]
    }
   ],
   "source": [
    "#imports\n",
    "import numpy as np\n",
    "import pandas as pd\n",
    "from hyperopt import hp\n",
    "from hyperopt.pyll import scope\n",
    "from sklearn.model_selection import train_test_split\n",
    "from sklearn.pipeline import Pipeline\n",
    "from sklearn import linear_model\n",
    "\n",
    "import os\n",
    "import sys\n",
    "module_path = os.path.abspath(os.path.join('../..'))\n",
    "if module_path not in sys.path:\n",
    "    sys.path.append(module_path)\n",
    "\n",
    "from models.hyperopt_model import HyperoptModel"
   ]
  },
  {
   "cell_type": "code",
   "execution_count": 2,
   "metadata": {
    "collapsed": true,
    "scrolled": false
   },
   "outputs": [],
   "source": [
    "# read the data\n",
    "preprocessed_data = pd.read_pickle('../data/preprocessed_science_hindex.pd')\n",
    "\n",
    "# Create a dataframe\n",
    "df = pd.DataFrame(preprocessed_data)"
   ]
  },
  {
   "cell_type": "code",
   "execution_count": 3,
   "metadata": {
    "collapsed": true
   },
   "outputs": [],
   "source": [
    "# Create two new dataframes, one with the training rows, one with the test rows\n",
    "train, test=train_test_split(df, test_size=0.2, random_state=0)"
   ]
  },
  {
   "cell_type": "code",
   "execution_count": null,
   "metadata": {},
   "outputs": [
    {
     "name": "stdout",
     "output_type": "stream",
     "text": [
      "Number of observations in the training data: 79342\n",
      "Number of observations in the test data: 19836\n"
     ]
    }
   ],
   "source": [
    "# Show the number of observations for the test and training dataframes\n",
    "print('Number of observations in the training data:', len(train))\n",
    "print('Number of observations in the test data:',len(test))"
   ]
  },
  {
   "cell_type": "code",
   "execution_count": null,
   "metadata": {
    "scrolled": true
   },
   "outputs": [
    {
     "name": "stdout",
     "output_type": "stream",
     "text": [
      "Performing parameters optimization...\n",
      "[1/500]\tcv_eval_time=2.76 sec\tRMSE=0.150400\tR^2=0.291196\n",
      "[2/500]\tcv_eval_time=3.21 sec\tRMSE=0.147948\tR^2=0.314381\n",
      "[3/500]\tcv_eval_time=2.99 sec\tRMSE=0.150857\tR^2=0.287149\n",
      "[4/500]\tcv_eval_time=2.94 sec\tRMSE=0.151220\tR^2=0.283395\n",
      "[5/500]\tcv_eval_time=3.22 sec\tRMSE=0.151694\tR^2=0.278879\n",
      "[6/500]\tcv_eval_time=3.05 sec\tRMSE=0.149466\tR^2=0.300172\n",
      "[7/500]\tcv_eval_time=4.51 sec\tRMSE=0.148850\tR^2=0.305436\n",
      "[8/500]\tcv_eval_time=3.82 sec\tRMSE=0.147692\tR^2=0.316581\n",
      "[9/500]\tcv_eval_time=3.25 sec\tRMSE=0.147935\tR^2=0.314479\n",
      "[10/500]\tcv_eval_time=3.72 sec\tRMSE=0.150802\tR^2=0.287306\n",
      "[11/500]\tcv_eval_time=8.14 sec\tRMSE=0.147750\tR^2=0.316064\n",
      "[12/500]\tcv_eval_time=6.81 sec\tRMSE=0.148077\tR^2=0.312527\n",
      "[13/500]\tcv_eval_time=5.28 sec\tRMSE=0.147628\tR^2=0.317259\n",
      "[14/500]\tcv_eval_time=67.45 sec\tRMSE=0.145215\tR^2=0.339586\n",
      "[15/500]\tcv_eval_time=36.28 sec\tRMSE=0.151603\tR^2=0.280160\n",
      "[16/500]\tcv_eval_time=259.82 sec\tRMSE=0.143020\tR^2=0.358774\n",
      "[17/500]\tcv_eval_time=20.33 sec\tRMSE=0.148471\tR^2=0.309138\n",
      "[18/500]\tcv_eval_time=18.28 sec\tRMSE=0.148922\tR^2=0.305116\n",
      "[19/500]\tcv_eval_time=14.33 sec\tRMSE=0.150185\tR^2=0.293390\n",
      "[20/500]\tcv_eval_time=14.42 sec\tRMSE=0.150121\tR^2=0.294006\n"
     ]
    }
   ],
   "source": [
    "    #some parameters\n",
    "    DO_LOWESS = False\n",
    "    hyperopt = True\n",
    "    # Run Lasso with hyperopt optimization\n",
    "    lasso = HyperoptModel(train.copy(), test.copy(),'lasso', cv=10, max_evals = 500)\n",
    "    features = list(df)\n",
    "    features.remove('score')\n",
    "\n",
    "    lasso.pipeline = Pipeline([\n",
    "        ('estimate', linear_model.Lasso())\n",
    "    ])\n",
    "    \n",
    "    lasso.raw_features = features\n",
    "    lasso.space = {\n",
    "        'estimate__alpha': hp.uniform('estimate__alpha', 0, 10),\n",
    "    }\n",
    "\n",
    "    if hyperopt:\n",
    "        lasso.run(do_lowess=DO_LOWESS)\n",
    "    else:\n",
    "        # train with default params\n",
    "        lasso.pipeline.fit(X=lasso.X_train, y=lasso.y_train)\n",
    "        lasso.model = cat.pipeline\n",
    "        lasso.stats()\n",
    "        lasso.plot_feature_importance()\n",
    "        lasso.plot_predicted_vs_actual(do_lowess=DO_LOWESS)\n",
    "        lasso.qq_plot()"
   ]
  },
  {
   "cell_type": "code",
   "execution_count": null,
   "metadata": {
    "collapsed": true
   },
   "outputs": [],
   "source": []
  }
 ],
 "metadata": {
  "kernelspec": {
   "display_name": "Python 3",
   "language": "python",
   "name": "python3"
  },
  "language_info": {
   "codemirror_mode": {
    "name": "ipython",
    "version": 3
   },
   "file_extension": ".py",
   "mimetype": "text/x-python",
   "name": "python",
   "nbconvert_exporter": "python",
   "pygments_lexer": "ipython3",
   "version": "3.6.3"
  }
 },
 "nbformat": 4,
 "nbformat_minor": 2
}
