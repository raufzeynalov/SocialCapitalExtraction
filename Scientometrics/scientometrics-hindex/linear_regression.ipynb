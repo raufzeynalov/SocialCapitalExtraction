{
 "cells": [
  {
   "cell_type": "code",
   "execution_count": 1,
   "metadata": {
    "collapsed": true
   },
   "outputs": [],
   "source": [
    "import pandas as pd\n",
    "from sklearn import datasets, linear_model\n",
    "from sklearn.model_selection import train_test_split, cross_val_score, cross_val_predict\n",
    "from matplotlib import pyplot as plt\n",
    "from sklearn import metrics"
   ]
  },
  {
   "cell_type": "code",
   "execution_count": 2,
   "metadata": {
    "collapsed": true,
    "scrolled": false
   },
   "outputs": [],
   "source": [
    "# read the data\n",
    "preprocessed_data = pd.read_pickle('../data/preprocessed_science_hindex.pd')\n",
    "\n",
    "# Create a dataframe\n",
    "df = pd.DataFrame(preprocessed_data)\n",
    "y = df['score'].copy()\n",
    "df.drop('score', axis=1, inplace=True) "
   ]
  },
  {
   "cell_type": "code",
   "execution_count": 3,
   "metadata": {
    "collapsed": true
   },
   "outputs": [],
   "source": [
    "# create training and testing vars\n",
    "X_train, X_test, y_train, y_test = train_test_split(df, y, test_size=0.2)"
   ]
  },
  {
   "cell_type": "code",
   "execution_count": 4,
   "metadata": {
    "collapsed": true
   },
   "outputs": [],
   "source": [
    "lm = linear_model.LinearRegression()\n",
    "model = lm.fit(X_train, y_train)\n",
    "predictions = lm.predict(X_test)"
   ]
  },
  {
   "cell_type": "code",
   "execution_count": 5,
   "metadata": {
    "scrolled": true
   },
   "outputs": [
    {
     "name": "stdout",
     "output_type": "stream",
     "text": [
      "Coefficients: \n",
      " [  1.68671357e-03   4.26174857e-04   6.58272826e-03  -3.66727579e-03\n",
      "   9.55987157e-03   6.80348081e-04  -9.43533638e-06   1.02418817e-04\n",
      "   4.25184742e-05   2.22856326e-04   3.63368986e-04   2.91660305e-05\n",
      "  -4.70676828e-05  -5.99786066e-06   3.84740306e-03  -1.55225782e-03\n",
      "  -4.30895049e-01   2.68498375e-01  -6.39903586e+01  -1.12243205e+01\n",
      "  -3.71811017e+03   4.59541197e+03   1.57122047e-01   1.66056738e-01\n",
      "   9.88612097e-05   3.05044765e-05  -1.67388422e-01   1.30967159e-01\n",
      "   4.74774718e+01  -1.07808604e+00   1.55001146e-01   4.07302053e-01\n",
      "  -2.48618929e-02  -5.87902756e-03  -7.81991769e-03]\n",
      "Mean squared error: 0.01\n",
      "Variance score: 0.73\n"
     ]
    }
   ],
   "source": [
    "print('Coefficients: \\n', lm.coef_)\n",
    "# The mean squared error\n",
    "print(\"Mean squared error: %.2f\"\n",
    "      % metrics.mean_squared_error(y_test, predictions))\n",
    "# Explained variance score: 1 is perfect prediction\n",
    "print('Variance score: %.2f' % metrics.r2_score(y_test, predictions))\n"
   ]
  },
  {
   "cell_type": "code",
   "execution_count": 6,
   "metadata": {},
   "outputs": [
    {
     "name": "stdout",
     "output_type": "stream",
     "text": [
      "Cross-validated scores: [ 0.73722843  0.73541197  0.72707777  0.74350539]\n"
     ]
    }
   ],
   "source": [
    "scores = cross_val_score(model, df, y, cv=4)\n",
    "print(\"Cross-validated scores:\", scores)"
   ]
  },
  {
   "cell_type": "code",
   "execution_count": 7,
   "metadata": {},
   "outputs": [
    {
     "data": {
      "image/png": "[encoded data removed]",
      "text/plain": [
       "<matplotlib.figure.Figure at 0x234866cc780>"
      ]
     },
     "metadata": {},
     "output_type": "display_data"
    }
   ],
   "source": [
    "predictions = cross_val_predict(model, df, y, cv=4)\n",
    "plt.scatter(y, predictions)\n",
    "plt.show()"
   ]
  },
  {
   "cell_type": "code",
   "execution_count": 8,
   "metadata": {},
   "outputs": [
    {
     "name": "stdout",
     "output_type": "stream",
     "text": [
      "Cross-Predicted Accuracy: 0.736157073269\n"
     ]
    }
   ],
   "source": [
    "accuracy = metrics.r2_score(y, predictions)\n",
    "print(\"Cross-Predicted Accuracy:\", accuracy)"
   ]
  },
  {
   "cell_type": "code",
   "execution_count": 9,
   "metadata": {},
   "outputs": [
    {
     "name": "stdout",
     "output_type": "stream",
     "text": [
      "Coefficients: \n",
      " [  1.68671357e-03   4.26174857e-04   6.58272826e-03  -3.66727579e-03\n",
      "   9.55987157e-03   6.80348081e-04  -9.43533638e-06   1.02418817e-04\n",
      "   4.25184742e-05   2.22856326e-04   3.63368986e-04   2.91660305e-05\n",
      "  -4.70676828e-05  -5.99786066e-06   3.84740306e-03  -1.55225782e-03\n",
      "  -4.30895049e-01   2.68498375e-01  -6.39903586e+01  -1.12243205e+01\n",
      "  -3.71811017e+03   4.59541197e+03   1.57122047e-01   1.66056738e-01\n",
      "   9.88612097e-05   3.05044765e-05  -1.67388422e-01   1.30967159e-01\n",
      "   4.74774718e+01  -1.07808604e+00   1.55001146e-01   4.07302053e-01\n",
      "  -2.48618929e-02  -5.87902756e-03  -7.81991769e-03]\n",
      "Mean squared error: 0.01\n",
      "Variance score: 0.74\n"
     ]
    }
   ],
   "source": [
    "print('Coefficients: \\n', lm.coef_)\n",
    "# The mean squared error\n",
    "print(\"Mean squared error: %.2f\"\n",
    "      % metrics.mean_squared_error(y, predictions))\n",
    "# Explained variance score: 1 is perfect prediction\n",
    "print('Variance score: %.2f' % metrics.r2_score(y, predictions))\n"
   ]
  },
  {
   "cell_type": "code",
   "execution_count": null,
   "metadata": {
    "collapsed": true
   },
   "outputs": [],
   "source": []
  }
 ],
 "metadata": {
  "kernelspec": {
   "display_name": "Python 3",
   "language": "python",
   "name": "python3"
  },
  "language_info": {
   "codemirror_mode": {
    "name": "ipython",
    "version": 3
   },
   "file_extension": ".py",
   "mimetype": "text/x-python",
   "name": "python",
   "nbconvert_exporter": "python",
   "pygments_lexer": "ipython3",
   "version": "3.6.3"
  }
 },
 "nbformat": 4,
 "nbformat_minor": 2
}
