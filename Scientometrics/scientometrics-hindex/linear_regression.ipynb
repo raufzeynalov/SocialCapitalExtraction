{
 "cells": [
  {
   "cell_type": "code",
   "execution_count": 1,
   "metadata": {
    "collapsed": true
   },
   "outputs": [],
   "source": [
    "import pandas as pd\n",
    "from sklearn import datasets, linear_model\n",
    "from sklearn.model_selection import train_test_split, cross_val_score, cross_val_predict\n",
    "from matplotlib import pyplot as plt\n",
    "from sklearn import metrics"
   ]
  },
  {
   "cell_type": "code",
   "execution_count": 2,
   "metadata": {
    "collapsed": true,
    "scrolled": false
   },
   "outputs": [],
   "source": [
    "# read the data\n",
    "preprocessed_data = pd.read_pickle('../data/preprocessed_science_hindex.pd')\n",
    "\n",
    "# Create a dataframe\n",
    "df = pd.DataFrame(preprocessed_data)\n",
    "y = df['score'].copy()\n",
    "df.drop('score', axis=1, inplace=True) "
   ]
  },
  {
   "cell_type": "code",
   "execution_count": 3,
   "metadata": {
    "collapsed": true
   },
   "outputs": [],
   "source": [
    "# create training and testing vars\n",
    "X_train, X_test, y_train, y_test = train_test_split(df, y, test_size=0.2)"
   ]
  },
  {
   "cell_type": "code",
   "execution_count": 4,
   "metadata": {
    "collapsed": true
   },
   "outputs": [],
   "source": [
    "lm = linear_model.LinearRegression()\n",
    "model = lm.fit(X_train, y_train)\n",
    "predictions = lm.predict(X_test)"
   ]
  },
  {
   "cell_type": "code",
   "execution_count": 5,
   "metadata": {
    "scrolled": true
   },
   "outputs": [
    {
     "data": {
      "image/png": "[encoded data removed]",
      "text/plain": [
       "<matplotlib.figure.Figure at 0x21a068f5898>"
      ]
     },
     "metadata": {},
     "output_type": "display_data"
    },
    {
     "name": "stdout",
     "output_type": "stream",
     "text": [
      "[  3.07735750e-10   1.68497517e-03   4.44490643e-04   6.51952493e-03\n",
      "  -3.63109768e-03   1.00653442e-02   7.95405404e-04  -1.61240349e-05\n",
      "   9.85662884e-05   4.92789525e-05   2.48356220e-04   2.88871385e-04\n",
      "   5.84332959e-05  -5.53821423e-05  -5.89502248e-06   3.75327169e-03\n",
      "  -1.55315054e-03  -4.46596493e-01   2.75659119e-01  -6.18882943e+01\n",
      "  -1.14396387e+01  -3.75664120e+03   4.70218563e+03   7.50569544e-02\n",
      "   2.66969793e-01   1.07910119e-04   2.72598977e-05  -1.71890668e-01\n",
      "   1.30906434e-01   4.18146279e+01  -6.39247993e-02   1.43499551e-01\n",
      "   4.08683978e-01  -2.30118399e-02  -5.85499289e-03  -7.84931125e-03]\n"
     ]
    }
   ],
   "source": [
    "plt.scatter(y_test, predictions)\n",
    "plt.xlabel(\"True Values\")\n",
    "plt.ylabel(\"Predictions\")\n",
    "plt.show()\n",
    "\n",
    "print(lm.coef_)"
   ]
  },
  {
   "cell_type": "code",
   "execution_count": 6,
   "metadata": {},
   "outputs": [
    {
     "name": "stdout",
     "output_type": "stream",
     "text": [
      "Cross-validated scores: [ 0.73717092  0.73358065  0.7378859   0.75242703  0.71638084  0.72085102\n",
      "  0.7389678   0.71876267  0.73924874  0.75650977]\n"
     ]
    }
   ],
   "source": [
    "scores = cross_val_score(model, df, y, cv=10)\n",
    "print(\"Cross-validated scores:\", scores)"
   ]
  },
  {
   "cell_type": "code",
   "execution_count": 7,
   "metadata": {},
   "outputs": [
    {
     "data": {
      "image/png": "[encoded data removed]",
      "text/plain": [
       "<matplotlib.figure.Figure at 0x21a005eaa20>"
      ]
     },
     "metadata": {},
     "output_type": "display_data"
    }
   ],
   "source": [
    "predictions = cross_val_predict(model, df, y, cv=10)\n",
    "plt.scatter(y, predictions)\n",
    "plt.show()"
   ]
  },
  {
   "cell_type": "code",
   "execution_count": 8,
   "metadata": {},
   "outputs": [
    {
     "name": "stdout",
     "output_type": "stream",
     "text": [
      "Cross-Predicted Accuracy: 0.736222975178\n"
     ]
    }
   ],
   "source": [
    "accuracy = metrics.r2_score(y, predictions)\n",
    "print(\"Cross-Predicted Accuracy:\", accuracy)"
   ]
  },
  {
   "cell_type": "code",
   "execution_count": 9,
   "metadata": {},
   "outputs": [
    {
     "name": "stdout",
     "output_type": "stream",
     "text": [
      "[  3.07735750e-10   1.68497517e-03   4.44490643e-04   6.51952493e-03\n",
      "  -3.63109768e-03   1.00653442e-02   7.95405404e-04  -1.61240349e-05\n",
      "   9.85662884e-05   4.92789525e-05   2.48356220e-04   2.88871385e-04\n",
      "   5.84332959e-05  -5.53821423e-05  -5.89502248e-06   3.75327169e-03\n",
      "  -1.55315054e-03  -4.46596493e-01   2.75659119e-01  -6.18882943e+01\n",
      "  -1.14396387e+01  -3.75664120e+03   4.70218563e+03   7.50569544e-02\n",
      "   2.66969793e-01   1.07910119e-04   2.72598977e-05  -1.71890668e-01\n",
      "   1.30906434e-01   4.18146279e+01  -6.39247993e-02   1.43499551e-01\n",
      "   4.08683978e-01  -2.30118399e-02  -5.85499289e-03  -7.84931125e-03]\n"
     ]
    }
   ],
   "source": [
    "print(lm.coef_)"
   ]
  }
 ],
 "metadata": {
  "kernelspec": {
   "display_name": "Python 3",
   "language": "python",
   "name": "python3"
  },
  "language_info": {
   "codemirror_mode": {
    "name": "ipython",
    "version": 3
   },
   "file_extension": ".py",
   "mimetype": "text/x-python",
   "name": "python",
   "nbconvert_exporter": "python",
   "pygments_lexer": "ipython3",
   "version": "3.6.3"
  }
 },
 "nbformat": 4,
 "nbformat_minor": 2
}
