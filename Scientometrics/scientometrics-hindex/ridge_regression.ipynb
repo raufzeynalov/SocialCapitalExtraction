{
 "cells": [
  {
   "cell_type": "code",
   "execution_count": 1,
   "metadata": {},
   "outputs": [
    {
     "name": "stderr",
     "output_type": "stream",
     "text": [
      "C:\\ProgramData\\Anaconda3\\lib\\site-packages\\statsmodels\\compat\\pandas.py:56: FutureWarning: The pandas.core.datetools module is deprecated and will be removed in a future version. Please use the pandas.tseries module instead.\n",
      "  from pandas.core import datetools\n"
     ]
    }
   ],
   "source": [
    "#imports\n",
    "import numpy as np\n",
    "import pandas as pd\n",
    "from hyperopt import hp\n",
    "from hyperopt.pyll import scope\n",
    "from sklearn.model_selection import train_test_split\n",
    "from sklearn.pipeline import Pipeline\n",
    "from sklearn import linear_model\n",
    "\n",
    "import os\n",
    "import sys\n",
    "module_path = os.path.abspath(os.path.join('../..'))\n",
    "if module_path not in sys.path:\n",
    "    sys.path.append(module_path)\n",
    "\n",
    "from models.hyperopt_model import HyperoptModel"
   ]
  },
  {
   "cell_type": "code",
   "execution_count": 2,
   "metadata": {
    "collapsed": true,
    "scrolled": false
   },
   "outputs": [],
   "source": [
    "# read the data\n",
    "preprocessed_data = pd.read_pickle('../data/preprocessed_science_hindex.pd')\n",
    "\n",
    "# Create a dataframe\n",
    "df = pd.DataFrame(preprocessed_data)"
   ]
  },
  {
   "cell_type": "code",
   "execution_count": 3,
   "metadata": {
    "collapsed": true
   },
   "outputs": [],
   "source": [
    "# Create two new dataframes, one with the training rows, one with the test rows\n",
    "train, test=train_test_split(df, test_size=0.2, random_state=0)"
   ]
  },
  {
   "cell_type": "code",
   "execution_count": null,
   "metadata": {},
   "outputs": [
    {
     "name": "stdout",
     "output_type": "stream",
     "text": [
      "Number of observations in the training data: 79342\n",
      "Number of observations in the test data: 19836\n"
     ]
    }
   ],
   "source": [
    "# Show the number of observations for the test and training dataframes\n",
    "print('Number of observations in the training data:', len(train))\n",
    "print('Number of observations in the test data:',len(test))"
   ]
  },
  {
   "cell_type": "code",
   "execution_count": null,
   "metadata": {
    "scrolled": true
   },
   "outputs": [
    {
     "name": "stdout",
     "output_type": "stream",
     "text": [
      "Performing parameters optimization...\n",
      "[1/500]\tcv_eval_time=4.61 sec\tRMSE=0.095272\tR^2=0.715531\n",
      "[2/500]\tcv_eval_time=3.62 sec\tRMSE=0.093875\tR^2=0.723708\n",
      "[3/500]\tcv_eval_time=3.57 sec\tRMSE=0.095000\tR^2=0.717211\n",
      "[4/500]\tcv_eval_time=3.25 sec\tRMSE=0.093622\tR^2=0.725439\n",
      "[5/500]\tcv_eval_time=3.70 sec\tRMSE=0.095579\tR^2=0.713531\n",
      "[6/500]\tcv_eval_time=3.74 sec\tRMSE=0.092828\tR^2=0.730042\n",
      "[7/500]\tcv_eval_time=3.71 sec\tRMSE=0.095182\tR^2=0.716113\n",
      "[8/500]\tcv_eval_time=3.47 sec\tRMSE=0.094435\tR^2=0.720454\n",
      "[9/500]\tcv_eval_time=3.42 sec\tRMSE=0.095538\tR^2=0.713927\n",
      "[10/500]\tcv_eval_time=3.94 sec\tRMSE=0.092708\tR^2=0.730626\n",
      "[11/500]\tcv_eval_time=4.64 sec\tRMSE=0.095317\tR^2=0.715286\n",
      "[12/500]\tcv_eval_time=5.03 sec\tRMSE=0.094525\tR^2=0.720140\n",
      "[13/500]\tcv_eval_time=4.51 sec\tRMSE=0.093628\tR^2=0.725344\n",
      "[14/500]\tcv_eval_time=4.66 sec\tRMSE=0.092631\tR^2=0.731077\n",
      "[15/500]\tcv_eval_time=3.97 sec\tRMSE=0.095429\tR^2=0.714561\n",
      "[16/500]\tcv_eval_time=4.34 sec\tRMSE=0.094091\tR^2=0.722737\n",
      "[17/500]\tcv_eval_time=4.66 sec\tRMSE=0.095274\tR^2=0.715670\n",
      "[18/500]\tcv_eval_time=4.63 sec\tRMSE=0.093505\tR^2=0.726007\n",
      "[19/500]\tcv_eval_time=4.03 sec\tRMSE=0.095011\tR^2=0.717123\n",
      "[20/500]\tcv_eval_time=4.06 sec\tRMSE=0.094839\tR^2=0.718148\n",
      "[21/500]\tcv_eval_time=4.82 sec\tRMSE=0.092816\tR^2=0.730006\n",
      "[22/500]\tcv_eval_time=4.75 sec\tRMSE=0.092604\tR^2=0.731256\n",
      "[23/500]\tcv_eval_time=4.68 sec\tRMSE=0.094505\tR^2=0.720109\n",
      "[24/500]\tcv_eval_time=4.62 sec\tRMSE=0.095704\tR^2=0.713049\n",
      "[25/500]\tcv_eval_time=4.58 sec\tRMSE=0.094248\tR^2=0.721602\n",
      "[26/500]\tcv_eval_time=4.04 sec\tRMSE=0.093207\tR^2=0.727744\n",
      "[27/500]\tcv_eval_time=4.08 sec\tRMSE=0.094811\tR^2=0.718244\n",
      "[28/500]\tcv_eval_time=4.39 sec\tRMSE=0.093239\tR^2=0.727626\n",
      "[29/500]\tcv_eval_time=3.96 sec\tRMSE=0.093947\tR^2=0.723427\n",
      "[30/500]\tcv_eval_time=3.80 sec\tRMSE=0.094682\tR^2=0.719089\n",
      "[31/500]\tcv_eval_time=4.02 sec\tRMSE=0.094153\tR^2=0.722220\n",
      "[32/500]\tcv_eval_time=4.18 sec\tRMSE=0.092446\tR^2=0.732185\n",
      "[33/500]\tcv_eval_time=3.90 sec\tRMSE=0.095044\tR^2=0.716955\n",
      "[34/500]\tcv_eval_time=3.88 sec\tRMSE=0.093240\tR^2=0.727601\n",
      "[35/500]\tcv_eval_time=4.30 sec\tRMSE=0.093852\tR^2=0.723980\n",
      "[36/500]\tcv_eval_time=3.92 sec\tRMSE=0.094332\tR^2=0.721229\n",
      "[37/500]\tcv_eval_time=3.93 sec\tRMSE=0.093678\tR^2=0.725046\n",
      "[38/500]\tcv_eval_time=3.70 sec\tRMSE=0.093105\tR^2=0.728383\n",
      "[39/500]\tcv_eval_time=3.73 sec\tRMSE=0.094674\tR^2=0.719192\n",
      "[40/500]\tcv_eval_time=3.70 sec\tRMSE=0.095127\tR^2=0.716346\n",
      "[41/500]\tcv_eval_time=3.94 sec\tRMSE=0.095651\tR^2=0.713394\n",
      "[42/500]\tcv_eval_time=3.82 sec\tRMSE=0.092573\tR^2=0.731506\n",
      "[43/500]\tcv_eval_time=3.76 sec\tRMSE=0.093905\tR^2=0.723699\n",
      "[44/500]\tcv_eval_time=3.59 sec\tRMSE=0.094636\tR^2=0.719319\n",
      "[45/500]\tcv_eval_time=3.61 sec\tRMSE=0.094359\tR^2=0.721001\n",
      "[46/500]\tcv_eval_time=3.55 sec\tRMSE=0.095408\tR^2=0.714699\n",
      "[47/500]\tcv_eval_time=3.74 sec\tRMSE=0.093537\tR^2=0.725904\n",
      "[48/500]\tcv_eval_time=3.82 sec\tRMSE=0.092565\tR^2=0.731476\n",
      "[49/500]\tcv_eval_time=3.82 sec\tRMSE=0.093758\tR^2=0.724483\n",
      "[50/500]\tcv_eval_time=3.75 sec\tRMSE=0.094085\tR^2=0.722521\n",
      "[51/500]\tcv_eval_time=3.67 sec\tRMSE=0.092951\tR^2=0.729330\n",
      "[52/500]\tcv_eval_time=3.81 sec\tRMSE=0.095522\tR^2=0.714068\n",
      "[53/500]\tcv_eval_time=3.73 sec\tRMSE=0.094909\tR^2=0.717812\n",
      "[54/500]\tcv_eval_time=3.85 sec\tRMSE=0.093546\tR^2=0.725907\n",
      "[55/500]\tcv_eval_time=3.74 sec\tRMSE=0.095299\tR^2=0.715486\n",
      "[56/500]\tcv_eval_time=4.16 sec\tRMSE=0.095200\tR^2=0.716016\n",
      "[57/500]\tcv_eval_time=4.23 sec\tRMSE=0.093372\tR^2=0.726861\n",
      "[58/500]\tcv_eval_time=4.49 sec\tRMSE=0.094571\tR^2=0.719781\n",
      "[59/500]\tcv_eval_time=4.14 sec\tRMSE=0.092800\tR^2=0.730149\n",
      "[60/500]\tcv_eval_time=3.69 sec\tRMSE=0.093987\tR^2=0.723018\n",
      "[61/500]\tcv_eval_time=3.89 sec\tRMSE=0.094931\tR^2=0.717689\n",
      "[62/500]\tcv_eval_time=4.01 sec\tRMSE=0.094279\tR^2=0.721434\n",
      "[63/500]\tcv_eval_time=3.86 sec\tRMSE=0.092558\tR^2=0.731557\n",
      "[64/500]\tcv_eval_time=3.70 sec\tRMSE=0.094754\tR^2=0.718666\n",
      "[65/500]\tcv_eval_time=3.64 sec\tRMSE=0.094480\tR^2=0.720226\n",
      "[66/500]\tcv_eval_time=3.74 sec\tRMSE=0.092989\tR^2=0.729034\n",
      "[67/500]\tcv_eval_time=3.83 sec\tRMSE=0.092605\tR^2=0.731214\n",
      "[68/500]\tcv_eval_time=3.90 sec\tRMSE=0.093359\tR^2=0.726885\n",
      "[69/500]\tcv_eval_time=3.68 sec\tRMSE=0.093660\tR^2=0.725109\n",
      "[70/500]\tcv_eval_time=3.58 sec\tRMSE=0.094155\tR^2=0.722291\n",
      "[71/500]\tcv_eval_time=3.69 sec\tRMSE=0.092565\tR^2=0.731526\n",
      "[72/500]\tcv_eval_time=3.98 sec\tRMSE=0.093358\tR^2=0.726859\n",
      "[73/500]\tcv_eval_time=3.64 sec\tRMSE=0.093054\tR^2=0.728651\n",
      "[74/500]\tcv_eval_time=4.16 sec\tRMSE=0.092833\tR^2=0.729894\n",
      "[75/500]\tcv_eval_time=4.16 sec\tRMSE=0.094404\tR^2=0.720694\n",
      "[76/500]\tcv_eval_time=3.67 sec\tRMSE=0.093875\tR^2=0.723860\n",
      "[77/500]\tcv_eval_time=3.53 sec\tRMSE=0.093716\tR^2=0.724800\n",
      "[78/500]\tcv_eval_time=3.81 sec\tRMSE=0.093183\tR^2=0.727859\n",
      "[79/500]\tcv_eval_time=3.60 sec\tRMSE=0.093996\tR^2=0.723111\n",
      "[80/500]\tcv_eval_time=3.76 sec\tRMSE=0.095388\tR^2=0.714870\n",
      "[81/500]\tcv_eval_time=3.55 sec\tRMSE=0.093795\tR^2=0.724260\n",
      "[82/500]\tcv_eval_time=3.56 sec\tRMSE=0.093507\tR^2=0.726075\n",
      "[83/500]\tcv_eval_time=3.49 sec\tRMSE=0.095710\tR^2=0.712973\n",
      "[84/500]\tcv_eval_time=3.50 sec\tRMSE=0.092550\tR^2=0.731586\n",
      "[85/500]\tcv_eval_time=3.51 sec\tRMSE=0.094244\tR^2=0.721835\n",
      "[86/500]\tcv_eval_time=3.51 sec\tRMSE=0.092834\tR^2=0.729905\n",
      "[87/500]\tcv_eval_time=3.60 sec\tRMSE=0.095511\tR^2=0.714299\n",
      "[88/500]\tcv_eval_time=3.53 sec\tRMSE=0.093284\tR^2=0.727367\n",
      "[89/500]\tcv_eval_time=3.56 sec\tRMSE=0.094110\tR^2=0.722503\n",
      "[90/500]\tcv_eval_time=3.52 sec\tRMSE=0.095047\tR^2=0.716887\n",
      "[91/500]\tcv_eval_time=3.50 sec\tRMSE=0.093570\tR^2=0.725658\n",
      "[92/500]\tcv_eval_time=3.58 sec\tRMSE=0.094737\tR^2=0.718713\n",
      "[93/500]\tcv_eval_time=3.50 sec\tRMSE=0.095108\tR^2=0.716510\n",
      "[94/500]\tcv_eval_time=3.50 sec\tRMSE=0.093054\tR^2=0.728712\n",
      "[95/500]\tcv_eval_time=3.55 sec\tRMSE=0.095331\tR^2=0.715040\n",
      "[96/500]\tcv_eval_time=3.59 sec\tRMSE=0.095629\tR^2=0.713489\n",
      "[97/500]\tcv_eval_time=3.51 sec\tRMSE=0.094581\tR^2=0.719662\n",
      "[98/500]\tcv_eval_time=3.55 sec\tRMSE=0.092751\tR^2=0.730485\n",
      "[99/500]\tcv_eval_time=3.59 sec\tRMSE=0.093943\tR^2=0.723497\n",
      "[100/500]\tcv_eval_time=3.64 sec\tRMSE=0.093469\tR^2=0.726238\n",
      "[101/500]\tcv_eval_time=3.62 sec\tRMSE=0.095211\tR^2=0.715983\n",
      "[102/500]\tcv_eval_time=3.72 sec\tRMSE=0.094883\tR^2=0.717924\n",
      "[103/500]\tcv_eval_time=3.74 sec\tRMSE=0.093800\tR^2=0.724372\n",
      "[104/500]\tcv_eval_time=3.76 sec\tRMSE=0.094331\tR^2=0.721229\n",
      "[105/500]\tcv_eval_time=3.76 sec\tRMSE=0.092541\tR^2=0.731606\n",
      "[106/500]\tcv_eval_time=3.68 sec\tRMSE=0.092965\tR^2=0.729161\n",
      "[107/500]\tcv_eval_time=3.68 sec\tRMSE=0.094457\tR^2=0.720455\n",
      "[108/500]\tcv_eval_time=3.69 sec\tRMSE=0.093649\tR^2=0.725148\n",
      "[109/500]\tcv_eval_time=3.71 sec\tRMSE=0.093151\tR^2=0.728089\n",
      "[110/500]\tcv_eval_time=3.68 sec\tRMSE=0.094192\tR^2=0.721826\n",
      "[111/500]\tcv_eval_time=3.74 sec\tRMSE=0.094026\tR^2=0.722961\n",
      "[112/500]\tcv_eval_time=3.69 sec\tRMSE=0.093267\tR^2=0.727388\n",
      "[113/500]\tcv_eval_time=3.70 sec\tRMSE=0.092652\tR^2=0.730947\n",
      "[114/500]\tcv_eval_time=3.62 sec\tRMSE=0.094567\tR^2=0.719770\n",
      "[115/500]\tcv_eval_time=3.65 sec\tRMSE=0.094976\tR^2=0.717381\n",
      "[116/500]\tcv_eval_time=3.56 sec\tRMSE=0.095461\tR^2=0.714432\n",
      "[117/500]\tcv_eval_time=3.54 sec\tRMSE=0.094823\tR^2=0.718333\n",
      "[118/500]\tcv_eval_time=3.54 sec\tRMSE=0.093350\tR^2=0.726971\n",
      "[119/500]\tcv_eval_time=3.50 sec\tRMSE=0.092524\tR^2=0.731720\n",
      "[120/500]\tcv_eval_time=3.60 sec\tRMSE=0.092862\tR^2=0.729728\n",
      "[121/500]\tcv_eval_time=3.63 sec\tRMSE=0.093454\tR^2=0.726280\n",
      "[122/500]\tcv_eval_time=3.53 sec\tRMSE=0.095589\tR^2=0.713658\n",
      "[123/500]\tcv_eval_time=3.50 sec\tRMSE=0.094720\tR^2=0.718980\n",
      "[124/500]\tcv_eval_time=3.55 sec\tRMSE=0.093749\tR^2=0.724544\n",
      "[125/500]\tcv_eval_time=3.51 sec\tRMSE=0.093851\tR^2=0.723981\n",
      "[126/500]\tcv_eval_time=3.58 sec\tRMSE=0.094616\tR^2=0.719509\n",
      "[127/500]\tcv_eval_time=3.68 sec\tRMSE=0.094378\tR^2=0.720860\n",
      "[128/500]\tcv_eval_time=3.69 sec\tRMSE=0.093612\tR^2=0.725343\n",
      "[129/500]\tcv_eval_time=3.65 sec\tRMSE=0.094039\tR^2=0.722834\n",
      "[130/500]\tcv_eval_time=3.61 sec\tRMSE=0.093102\tR^2=0.728453\n",
      "[131/500]\tcv_eval_time=3.65 sec\tRMSE=0.094164\tR^2=0.722067\n",
      "[132/500]\tcv_eval_time=3.61 sec\tRMSE=0.092943\tR^2=0.729179\n"
     ]
    }
   ],
   "source": [
    "    #some parameters\n",
    "    DO_LOWESS = False\n",
    "    hyperopt = True\n",
    "    # Run Ridge Regression with hyperopt optimization\n",
    "    ridge = HyperoptModel(train.copy(), test.copy(),'ridge', cv=10, max_evals = 500)\n",
    "    features = list(df)\n",
    "    features.remove('score')\n",
    "    ridge.raw_features = features\n",
    "\n",
    "    ridge.pipeline = Pipeline([\n",
    "        ('estimate', linear_model.Ridge())\n",
    "    ])\n",
    "    \n",
    "    ridge.space = {\n",
    "        'estimate__alpha': hp.uniform('estimate__alpha', 0, 1000),\n",
    "    }\n",
    "\n",
    "    if hyperopt:\n",
    "        ridge.run(do_lowess=DO_LOWESS)\n",
    "    else:\n",
    "        # train with default params\n",
    "        ridge.pipeline.fit(X=cat.X_train, y=cat.y_train)\n",
    "        ridge.model = cat.pipeline\n",
    "        ridge.stats()\n",
    "        ridge.plot_feature_importance()\n",
    "        ridge.plot_predicted_vs_actual(do_lowess=DO_LOWESS)\n",
    "        ridge.qq_plot()"
   ]
  }
 ],
 "metadata": {
  "kernelspec": {
   "display_name": "Python 3",
   "language": "python",
   "name": "python3"
  },
  "language_info": {
   "codemirror_mode": {
    "name": "ipython",
    "version": 3
   },
   "file_extension": ".py",
   "mimetype": "text/x-python",
   "name": "python",
   "nbconvert_exporter": "python",
   "pygments_lexer": "ipython3",
   "version": "3.6.3"
  }
 },
 "nbformat": 4,
 "nbformat_minor": 2
}
