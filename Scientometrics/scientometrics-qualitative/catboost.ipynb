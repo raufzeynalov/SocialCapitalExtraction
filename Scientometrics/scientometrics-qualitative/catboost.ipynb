{
 "cells": [
  {
   "cell_type": "code",
   "execution_count": 1,
   "metadata": {},
   "outputs": [
    {
     "name": "stderr",
     "output_type": "stream",
     "text": [
      "C:\\ProgramData\\Anaconda3\\lib\\site-packages\\statsmodels\\compat\\pandas.py:56: FutureWarning: The pandas.core.datetools module is deprecated and will be removed in a future version. Please use the pandas.tseries module instead.\n",
      "  from pandas.core import datetools\n"
     ]
    }
   ],
   "source": [
    "#imports\n",
    "import numpy as np\n",
    "import pandas as pd\n",
    "from catboost import CatBoostRegressor\n",
    "from hyperopt import hp\n",
    "from hyperopt.pyll import scope\n",
    "from sklearn.model_selection import train_test_split\n",
    "from sklearn.pipeline import Pipeline\n",
    "from catboost import CatBoostRegressor\n",
    "\n",
    "import os\n",
    "import sys\n",
    "module_path = os.path.abspath(os.path.join('../..'))\n",
    "if module_path not in sys.path:\n",
    "    sys.path.append(module_path)\n",
    "\n",
    "from models.hyperopt_model import HyperoptModel"
   ]
  },
  {
   "cell_type": "code",
   "execution_count": 2,
   "metadata": {
    "collapsed": true,
    "scrolled": false
   },
   "outputs": [],
   "source": [
    "# read the data\n",
    "preprocessed_data = pd.read_pickle('../data/preprocessed_science_qualitative.pd')\n",
    "\n",
    "# Create a dataframe\n",
    "df = pd.DataFrame(preprocessed_data)"
   ]
  },
  {
   "cell_type": "code",
   "execution_count": 3,
   "metadata": {
    "collapsed": true
   },
   "outputs": [],
   "source": [
    "# Create two new dataframes, one with the training rows, one with the test rows\n",
    "train, test=train_test_split(df, test_size=0.2, random_state=0)"
   ]
  },
  {
   "cell_type": "code",
   "execution_count": 4,
   "metadata": {},
   "outputs": [
    {
     "name": "stdout",
     "output_type": "stream",
     "text": [
      "Number of observations in the training data: 79342\n",
      "Number of observations in the test data: 19836\n"
     ]
    }
   ],
   "source": [
    "# Show the number of observations for the test and training dataframes\n",
    "print('Number of observations in the training data:', len(train))\n",
    "print('Number of observations in the test data:',len(test))"
   ]
  },
  {
   "cell_type": "code",
   "execution_count": 5,
   "metadata": {
    "scrolled": true
   },
   "outputs": [
    {
     "name": "stdout",
     "output_type": "stream",
     "text": [
      "Performing parameters optimization...\n",
      "[1/50]\tcv_eval_time=1864.75 sec\tRMSE=0.073667\tR^2=0.691946\n",
      "[2/50]\tcv_eval_time=1843.45 sec\tRMSE=0.073539\tR^2=0.693510\n",
      "[3/50]\tcv_eval_time=1854.81 sec\tRMSE=0.076166\tR^2=0.669891\n",
      "[4/50]\tcv_eval_time=1841.04 sec\tRMSE=0.081530\tR^2=0.623289\n",
      "[5/50]\tcv_eval_time=1854.09 sec\tRMSE=0.073699\tR^2=0.692214\n",
      "[6/50]\tcv_eval_time=1879.71 sec\tRMSE=0.076236\tR^2=0.672315\n",
      "[7/50]\tcv_eval_time=1853.78 sec\tRMSE=0.074508\tR^2=0.686974\n",
      "[8/50]\tcv_eval_time=1841.78 sec\tRMSE=0.073608\tR^2=0.692200\n",
      "[9/50]\tcv_eval_time=1865.06 sec\tRMSE=0.074089\tR^2=0.689345\n",
      "[10/50]\tcv_eval_time=1858.03 sec\tRMSE=0.081481\tR^2=0.623020\n",
      "[11/50]\tcv_eval_time=1890.49 sec\tRMSE=0.084873\tR^2=0.590780\n",
      "[12/50]\tcv_eval_time=1868.12 sec\tRMSE=0.081243\tR^2=0.624898\n",
      "[13/50]\tcv_eval_time=1898.90 sec\tRMSE=0.078535\tR^2=0.649590\n",
      "[14/50]\tcv_eval_time=1876.96 sec\tRMSE=0.074502\tR^2=0.684169\n",
      "[15/50]\tcv_eval_time=2040.35 sec\tRMSE=0.075514\tR^2=0.673958\n",
      "[16/50]\tcv_eval_time=1936.22 sec\tRMSE=0.076215\tR^2=0.672392\n",
      "[17/50]\tcv_eval_time=2036.10 sec\tRMSE=0.075347\tR^2=0.678916\n",
      "[18/50]\tcv_eval_time=1953.14 sec\tRMSE=0.073516\tR^2=0.693895\n",
      "[19/50]\tcv_eval_time=2040.06 sec\tRMSE=0.074020\tR^2=0.688575\n",
      "[20/50]\tcv_eval_time=1951.39 sec\tRMSE=0.083844\tR^2=0.600811\n",
      "[21/50]\tcv_eval_time=2005.45 sec\tRMSE=0.074214\tR^2=0.686113\n",
      "[22/50]\tcv_eval_time=1483.06 sec\tRMSE=0.075051\tR^2=0.680328\n",
      "[23/50]\tcv_eval_time=1376.86 sec\tRMSE=0.073646\tR^2=0.692616\n",
      "[24/50]\tcv_eval_time=1241.52 sec\tRMSE=0.088531\tR^2=0.557037\n",
      "[25/50]\tcv_eval_time=1156.61 sec\tRMSE=0.075534\tR^2=0.675549\n",
      "[26/50]\tcv_eval_time=1114.95 sec\tRMSE=0.073796\tR^2=0.689936\n",
      "[27/50]\tcv_eval_time=1159.04 sec\tRMSE=0.073451\tR^2=0.693350\n",
      "[28/50]\tcv_eval_time=1118.52 sec\tRMSE=0.080264\tR^2=0.634866\n",
      "[29/50]\tcv_eval_time=1151.96 sec\tRMSE=0.073632\tR^2=0.692235\n",
      "[30/50]\tcv_eval_time=1121.28 sec\tRMSE=0.074853\tR^2=0.681633\n",
      "[31/50]\tcv_eval_time=1087.47 sec\tRMSE=0.073590\tR^2=0.692673\n",
      "[32/50]\tcv_eval_time=1054.87 sec\tRMSE=0.073824\tR^2=0.690704\n",
      "[33/50]\tcv_eval_time=1044.34 sec\tRMSE=0.073504\tR^2=0.694061\n",
      "[34/50]\tcv_eval_time=1053.72 sec\tRMSE=0.073776\tR^2=0.688906\n",
      "[35/50]\tcv_eval_time=1058.01 sec\tRMSE=0.073550\tR^2=0.694035\n",
      "[36/50]\tcv_eval_time=1055.19 sec\tRMSE=0.077202\tR^2=0.661459\n",
      "[37/50]\tcv_eval_time=1035.47 sec\tRMSE=0.074426\tR^2=0.685487\n",
      "[38/50]\tcv_eval_time=1062.72 sec\tRMSE=0.078596\tR^2=0.652465\n",
      "[39/50]\tcv_eval_time=1044.97 sec\tRMSE=0.073469\tR^2=0.692387\n",
      "[40/50]\tcv_eval_time=1056.06 sec\tRMSE=0.074529\tR^2=0.685670\n",
      "[41/50]\tcv_eval_time=1045.34 sec\tRMSE=0.073671\tR^2=0.691740\n",
      "[42/50]\tcv_eval_time=1076.49 sec\tRMSE=0.073742\tR^2=0.691353\n",
      "[43/50]\tcv_eval_time=1064.29 sec\tRMSE=0.073599\tR^2=0.692374\n",
      "[44/50]\tcv_eval_time=1074.65 sec\tRMSE=0.073976\tR^2=0.690364\n",
      "[45/50]\tcv_eval_time=708.51 sec\tRMSE=0.078268\tR^2=0.651972\n",
      "[46/50]\tcv_eval_time=597.08 sec\tRMSE=0.074590\tR^2=0.683260\n",
      "[47/50]\tcv_eval_time=597.50 sec\tRMSE=0.073937\tR^2=0.688852\n",
      "[48/50]\tcv_eval_time=597.37 sec\tRMSE=0.076144\tR^2=0.670791\n",
      "[49/50]\tcv_eval_time=597.17 sec\tRMSE=0.082093\tR^2=0.614238\n",
      "[50/50]\tcv_eval_time=596.28 sec\tRMSE=0.073674\tR^2=0.691855\n",
      " elapsed time: 19h 18min 6s\n",
      "\n",
      "Stats (train | test):\n",
      "\tR^2 score:\t\t0.7624\n",
      "\t\t\t\t\t0.6971\n",
      "\tRMSE:\t\t\t0.0647\n",
      "\t\t\t\t\t0.0732\n",
      "\tMean error:\t\t0.0481\n",
      "\t\t\t\t\t0.0537\n",
      "\tPearson:\t\t0.8739\n",
      "\t\t\t\t\t0.8350\n",
      "\tSpearman:\t\t0.8607\n",
      "\t\t\t\t\t0.8292\n",
      "\tKendallTau:\t\t0.6869\n",
      "\t\t\t\t\t0.6494\n",
      "\n",
      "Best parameters set:\n",
      "{'estimate__bagging_temperature': 0.7703318478445571,\n",
      " 'estimate__iterations': 1300,\n",
      " 'estimate__l2_leaf_reg': 2.4271348150404606,\n",
      " 'estimate__learning_rate': 0.10712619715319134,\n",
      " 'estimate__loss_function': 'RMSE',\n",
      " 'estimate__random_seed': 0,\n",
      " 'estimate__random_strength': 1,\n",
      " 'estimate__thread_count': 4,\n",
      " 'estimate__train_dir': 'outputs/cat',\n",
      " 'estimate__used_ram_limit': 4294967296}\n",
      "\n",
      "Could not create plots\n"
     ]
    }
   ],
   "source": [
    "    #some parameters\n",
    "    DO_LOWESS = False\n",
    "    hyperopt = True\n",
    "    # Run CatBoostRegressor with hyperopt optimization\n",
    "    cat = HyperoptModel(train.copy(), test.copy(),'cat', cv=3, max_evals = 50)\n",
    "\n",
    "    cat.pipeline = Pipeline([\n",
    "        ('estimate', CatBoostRegressor())\n",
    "    ])\n",
    "    \n",
    "    features = list(df)\n",
    "    features.remove('score')\n",
    "    cat.raw_features = features\n",
    "    \n",
    "    cat.space = {\n",
    "        'estimate__iterations': hp.choice('estimate__iterations', [1300]),\n",
    "        'estimate__loss_function': hp.choice('estimate__loss_function', ['RMSE']),\n",
    "        'estimate__train_dir': hp.choice('estimate__train_dir', ['outputs/cat']),\n",
    "        'estimate__thread_count': hp.choice('estimate__thread_count', [4]),\n",
    "        'estimate__used_ram_limit': hp.choice('estimate__used_ram_limit', [1024 * 1024 * 1024 * 4]),  # 4gb\n",
    "        'estimate__random_seed': hp.choice('estimate__random_seed', [0]),\n",
    "\n",
    "        'estimate__learning_rate': hp.loguniform('estimate__learning_rate', -5, 0),\n",
    "        'estimate__random_strength': hp.choice('estimate__random_strength', [1, 20]),\n",
    "        'estimate__l2_leaf_reg': hp.loguniform('estimate__l2_leaf_reg', 0, np.log(10)),\n",
    "        'estimate__bagging_temperature': hp.uniform('estimate__bagging_temperature', 0, 1),\n",
    "    }\n",
    "\n",
    "    \"\"\"\n",
    "    find the best number of trees (following https://tech.yandex.com/catboost/doc/dg/concepts/parameter-tuning_trees-number-docpage/#parameter-tuning_trees-number)\n",
    "    need to also substitute the CatBoostRegressor parameters with:\n",
    "        ('estimate', CatBoostRegressor(iterations=10000, loss_function='RMSE', auto_stop_pval=1e-4, use_best_model=True, train_dir='outputs/cat_trees', verbose=True))\n",
    "    \"\"\"\n",
    "    # num_trees_train, num_trees_eval = train_test_split(train, test_size=0.2, random_state=0)\n",
    "    # X = num_trees_train[list(filter(lambda column: column in cat.raw_features, cat.train.columns))]\n",
    "    # y = num_trees_train['score']\n",
    "    #\n",
    "    # eval_X = num_trees_eval[list(filter(lambda column: column in cat.raw_features, cat.train.columns))]\n",
    "    # eval_X = cat.pipeline.named_steps['prepare_features'].fit_transform(eval_X)\n",
    "    # eval_set = (eval_X, num_trees_eval['score'])\n",
    "    #\n",
    "    # cat.pipeline.fit(X=X, y=y, estimate__eval_set=eval_set)\n",
    "    # cat.model = cat.pipeline\n",
    "    # print(cat.model.named_steps['estimate'].get_params())\n",
    "    # cat.model.named_steps['estimate'].save_model('tmp/cat.model'.encode('utf-8'))\n",
    "\n",
    "    if hyperopt:\n",
    "        cat.run(do_lowess=DO_LOWESS)\n",
    "    else:\n",
    "        # train with default params\n",
    "        cat.pipeline.fit(X=cat.X_train, y=cat.y_train)\n",
    "        cat.model = cat.pipeline\n",
    "        cat.stats()\n",
    "        cat.plot_predicted_vs_actual(do_lowess=DO_LOWESS)\n",
    "        cat.plot_feature_importance()\n",
    "        #cat.qq_plot()"
   ]
  },
  {
   "cell_type": "code",
   "execution_count": null,
   "metadata": {
    "collapsed": true
   },
   "outputs": [],
   "source": []
  }
 ],
 "metadata": {
  "kernelspec": {
   "display_name": "Python 3",
   "language": "python",
   "name": "python3"
  },
  "language_info": {
   "codemirror_mode": {
    "name": "ipython",
    "version": 3
   },
   "file_extension": ".py",
   "mimetype": "text/x-python",
   "name": "python",
   "nbconvert_exporter": "python",
   "pygments_lexer": "ipython3",
   "version": "3.6.3"
  }
 },
 "nbformat": 4,
 "nbformat_minor": 2
}
