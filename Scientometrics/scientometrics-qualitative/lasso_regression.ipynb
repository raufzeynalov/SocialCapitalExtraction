{
 "cells": [
  {
   "cell_type": "code",
   "execution_count": 1,
   "metadata": {},
   "outputs": [
    {
     "name": "stderr",
     "output_type": "stream",
     "text": [
      "C:\\ProgramData\\Anaconda3\\lib\\site-packages\\statsmodels\\compat\\pandas.py:56: FutureWarning: The pandas.core.datetools module is deprecated and will be removed in a future version. Please use the pandas.tseries module instead.\n",
      "  from pandas.core import datetools\n"
     ]
    }
   ],
   "source": [
    "#imports\n",
    "import numpy as np\n",
    "import pandas as pd\n",
    "from hyperopt import hp\n",
    "from hyperopt.pyll import scope\n",
    "from sklearn.model_selection import train_test_split\n",
    "from sklearn.pipeline import Pipeline\n",
    "from sklearn import linear_model\n",
    "\n",
    "import os\n",
    "import sys\n",
    "module_path = os.path.abspath(os.path.join('../..'))\n",
    "if module_path not in sys.path:\n",
    "    sys.path.append(module_path)\n",
    "\n",
    "from models.hyperopt_model import HyperoptModel"
   ]
  },
  {
   "cell_type": "code",
   "execution_count": 2,
   "metadata": {
    "scrolled": false
   },
   "outputs": [
    {
     "name": "stdout",
     "output_type": "stream",
     "text": [
      "Index(['NUM_FIRST_POS', 'NUM_SECOND_POS', 'NUM_YEARS_SINCE_FIRST_PUBLICATION',\n",
      "       'NUM_YEARS_BETWEEN_FIRST_AND_LAST_PUBLICATION', 'NUM_INSTITUTIONS',\n",
      "       'NUM_TOP500_INSTITUTIONS', 'SHANGHAI_RANK', 'NTU_RANK', 'THE_RANK',\n",
      "       'SHANGHAI_SCORE', 'NTU_SCORE', 'THE_SCORE', 'AVG_TITLE_LENGTH',\n",
      "       'AVG_ABSTRACT_LENGTH', 'COLLAB_DEGREE_UNWEIGHTED',\n",
      "       'COLLAB_DEGREE_WEIGHTED', 'COLLAB_CLOSENESS_UNWEIGHTED',\n",
      "       'COLLAB_CLOSENESS_WEIGHTED', 'COLLAB_BETWEENNESS_UNWEIGHTED',\n",
      "       'COLLAB_BETWEENNESS_WEIGHTED', 'COLLAB_PAGERANK_UNWEIGHTED',\n",
      "       'COLLAB_PAGERANK_WEIGHTED', 'COLLAB_EIGENVECTOR_UNWEIGHTED',\n",
      "       'COLLAB_EIGENVECTOR_WEIGHTED', 'CIT_OUTDEGREE_UNWEIGHTED',\n",
      "       'CIT_OUTDEGREE_WEIGHTED', 'CIT_CLOSENESS_UNWEIGHTED',\n",
      "       'CIT_CLOSENESS_WEIGHTED', 'CIT_BETWEENNESS_UNWEIGHTED',\n",
      "       'CIT_BETWEENNESS_WEIGHTED', 'TOP_SIM_CORPUS', 'TOP_SIM_UNIFORM',\n",
      "       'TOP_SIM_PAPERS', 'NUM_TOPICS_GREATER_CORPUS',\n",
      "       'NUM_TOPICS_GREATER_UNIFORM', 'score'],\n",
      "      dtype='object')\n"
     ]
    }
   ],
   "source": [
    "# read the data\n",
    "preprocessed_data = pd.read_pickle('../data/preprocessed_science_qualitative.pd')\n",
    "\n",
    "# Create a dataframe\n",
    "df = pd.DataFrame(preprocessed_data)\n",
    "print(df.columns)"
   ]
  },
  {
   "cell_type": "code",
   "execution_count": 3,
   "metadata": {
    "collapsed": true
   },
   "outputs": [],
   "source": [
    "# Create two new dataframes, one with the training rows, one with the test rows\n",
    "train, test=train_test_split(df, test_size=0.2, random_state=0)"
   ]
  },
  {
   "cell_type": "code",
   "execution_count": 4,
   "metadata": {},
   "outputs": [
    {
     "name": "stdout",
     "output_type": "stream",
     "text": [
      "Number of observations in the training data: 79342\n",
      "Number of observations in the test data: 19836\n"
     ]
    }
   ],
   "source": [
    "# Show the number of observations for the test and training dataframes\n",
    "print('Number of observations in the training data:', len(train))\n",
    "print('Number of observations in the test data:',len(test))"
   ]
  },
  {
   "cell_type": "code",
   "execution_count": 5,
   "metadata": {
    "scrolled": true
   },
   "outputs": [
    {
     "name": "stdout",
     "output_type": "stream",
     "text": [
      "Stats (train | test):\n",
      "\tR^2 score:\t\t0.3552\n",
      "\t\t\t\t\t0.3577\n",
      "\tRMSE:\t\t\t0.1066\n",
      "\t\t\t\t\t0.1066\n",
      "\tMean error:\t\t0.0818\n",
      "\t\t\t\t\t0.0816\n",
      "\tPearson:\t\t0.5989\n",
      "\t\t\t\t\t0.6015\n",
      "\tSpearman:\t\t0.6135\n",
      "\t\t\t\t\t0.6153\n",
      "\tKendallTau:\t\t0.4391\n",
      "\t\t\t\t\t0.4412\n",
      "\n",
      "Plotting predicted vs. actual ...done\n",
      "\n",
      "Plotting QQ ...done\n",
      "\n"
     ]
    }
   ],
   "source": [
    "    #some parameters\n",
    "    DO_LOWESS = False\n",
    "    hyperopt = False\n",
    "    # Run Lasso with hyperopt optimization\n",
    "    lasso = HyperoptModel(train.copy(), test.copy(),'lasso', cv=4, max_evals = 100)\n",
    "    features = list(df)\n",
    "    features.remove('score')\n",
    "\n",
    "    lasso.pipeline = Pipeline([\n",
    "        ('estimate', linear_model.Lasso(**{'alpha': 0.0007414388017055629}))\n",
    "    ])\n",
    "    \n",
    "    lasso.raw_features = features\n",
    "    lasso.space = {\n",
    "        'estimate__alpha': hp.uniform('estimate__alpha', 0, 10),\n",
    "    }\n",
    "\n",
    "    if hyperopt:\n",
    "        lasso.run(do_lowess=DO_LOWESS)\n",
    "    else:\n",
    "        # train with default params\n",
    "        lasso.pipeline.fit(X=lasso.X_train, y=lasso.y_train)\n",
    "        lasso.model = lasso.pipeline\n",
    "        lasso.stats()\n",
    "        lasso.plot_feature_importance()\n",
    "        lasso.plot_predicted_vs_actual(do_lowess=DO_LOWESS)\n",
    "        lasso.qq_plot()"
   ]
  },
  {
   "cell_type": "code",
   "execution_count": null,
   "metadata": {
    "collapsed": true
   },
   "outputs": [],
   "source": []
  }
 ],
 "metadata": {
  "kernelspec": {
   "display_name": "Python 3",
   "language": "python",
   "name": "python3"
  },
  "language_info": {
   "codemirror_mode": {
    "name": "ipython",
    "version": 3
   },
   "file_extension": ".py",
   "mimetype": "text/x-python",
   "name": "python",
   "nbconvert_exporter": "python",
   "pygments_lexer": "ipython3",
   "version": "3.6.3"
  }
 },
 "nbformat": 4,
 "nbformat_minor": 2
}
