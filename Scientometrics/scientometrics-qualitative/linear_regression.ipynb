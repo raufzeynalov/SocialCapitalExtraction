{
 "cells": [
  {
   "cell_type": "code",
   "execution_count": 1,
   "metadata": {
    "collapsed": true
   },
   "outputs": [],
   "source": [
    "import pandas as pd\n",
    "from sklearn import datasets, linear_model\n",
    "from sklearn.model_selection import train_test_split, cross_val_score, cross_val_predict\n",
    "from matplotlib import pyplot as plt\n",
    "from sklearn import metrics"
   ]
  },
  {
   "cell_type": "code",
   "execution_count": 2,
   "metadata": {
    "collapsed": true,
    "scrolled": false
   },
   "outputs": [],
   "source": [
    "# read the data\n",
    "preprocessed_data = pd.read_pickle('../data/preprocessed_science_qualitative.pd')\n",
    "\n",
    "# Create a dataframe\n",
    "df = pd.DataFrame(preprocessed_data)\n",
    "y = df['score'].copy()\n",
    "df.drop('score', axis=1, inplace=True) "
   ]
  },
  {
   "cell_type": "code",
   "execution_count": 3,
   "metadata": {
    "collapsed": true
   },
   "outputs": [],
   "source": [
    "# create training and testing vars\n",
    "X_train, X_test, y_train, y_test = train_test_split(df, y, test_size=0.2)"
   ]
  },
  {
   "cell_type": "code",
   "execution_count": 4,
   "metadata": {
    "collapsed": true
   },
   "outputs": [],
   "source": [
    "lm = linear_model.LinearRegression()\n",
    "model = lm.fit(X_train, y_train)\n",
    "predictions = lm.predict(X_test)"
   ]
  },
  {
   "cell_type": "code",
   "execution_count": 5,
   "metadata": {
    "scrolled": true
   },
   "outputs": [
    {
     "data": {
      "image/png": "[encoded data removed]",
      "text/plain": [
       "<matplotlib.figure.Figure at 0x1d822d24940>"
      ]
     },
     "metadata": {},
     "output_type": "display_data"
    },
    {
     "name": "stdout",
     "output_type": "stream",
     "text": [
      "[  6.69014115e-10  -7.69443460e-04  -9.32183821e-04   4.04051101e-03\n",
      "   2.62497455e-03   3.25864719e-03  -2.51063888e-03  -3.57657490e-05\n",
      "   2.52777019e-04  -1.24198668e-04   9.28978399e-04   7.97229306e-04\n",
      "  -3.84612385e-04  -3.65885127e-04   3.06686822e-05   7.23237266e-03\n",
      "  -1.67114665e-03   2.94469521e-02   1.32362976e-01  -1.01780482e+02\n",
      "  -4.81166288e+00  -4.83988509e+03   2.50856956e+03  -1.30221140e-02\n",
      "   6.64566316e-01  -2.49766620e-05   2.67822177e-05  -1.04452203e-01\n",
      "   1.57480305e-01   2.06497113e+02  -2.41830851e+00   1.83132140e-01\n",
      "  -2.22222391e-01  -1.11466793e-02  -1.25468278e-03  -1.08160717e-03]\n"
     ]
    }
   ],
   "source": [
    "plt.scatter(y_test, predictions)\n",
    "plt.xlabel(\"True Values\")\n",
    "plt.ylabel(\"Predictions\")\n",
    "plt.show()\n",
    "\n",
    "print(lm.coef_)"
   ]
  },
  {
   "cell_type": "code",
   "execution_count": 6,
   "metadata": {},
   "outputs": [
    {
     "name": "stdout",
     "output_type": "stream",
     "text": [
      "Cross-validated scores: [ 0.36868433  0.37341965  0.35915541  0.38380927  0.38123198  0.37092385\n",
      "  0.40158032  0.37203511  0.37591155  0.4161984 ]\n"
     ]
    }
   ],
   "source": [
    "scores = cross_val_score(model, df, y, cv=10)\n",
    "print(\"Cross-validated scores:\", scores)"
   ]
  },
  {
   "cell_type": "code",
   "execution_count": 7,
   "metadata": {},
   "outputs": [
    {
     "data": {
      "image/png": "[encoded data removed]",
      "text/plain": [
       "<matplotlib.figure.Figure at 0x1d81f04cfd0>"
      ]
     },
     "metadata": {},
     "output_type": "display_data"
    }
   ],
   "source": [
    "predictions = cross_val_predict(model, df, y, cv=10)\n",
    "plt.scatter(y, predictions)\n",
    "plt.show()"
   ]
  },
  {
   "cell_type": "code",
   "execution_count": 8,
   "metadata": {},
   "outputs": [
    {
     "name": "stdout",
     "output_type": "stream",
     "text": [
      "Cross-Predicted Accuracy: 0.381139336283\n"
     ]
    }
   ],
   "source": [
    "accuracy = metrics.r2_score(y, predictions)\n",
    "print(\"Cross-Predicted Accuracy:\", accuracy)"
   ]
  },
  {
   "cell_type": "code",
   "execution_count": 9,
   "metadata": {},
   "outputs": [
    {
     "name": "stdout",
     "output_type": "stream",
     "text": [
      "[  6.69014115e-10  -7.69443460e-04  -9.32183821e-04   4.04051101e-03\n",
      "   2.62497455e-03   3.25864719e-03  -2.51063888e-03  -3.57657490e-05\n",
      "   2.52777019e-04  -1.24198668e-04   9.28978399e-04   7.97229306e-04\n",
      "  -3.84612385e-04  -3.65885127e-04   3.06686822e-05   7.23237266e-03\n",
      "  -1.67114665e-03   2.94469521e-02   1.32362976e-01  -1.01780482e+02\n",
      "  -4.81166288e+00  -4.83988509e+03   2.50856956e+03  -1.30221140e-02\n",
      "   6.64566316e-01  -2.49766620e-05   2.67822177e-05  -1.04452203e-01\n",
      "   1.57480305e-01   2.06497113e+02  -2.41830851e+00   1.83132140e-01\n",
      "  -2.22222391e-01  -1.11466793e-02  -1.25468278e-03  -1.08160717e-03]\n"
     ]
    }
   ],
   "source": [
    "print(lm.coef_)"
   ]
  }
 ],
 "metadata": {
  "kernelspec": {
   "display_name": "Python 3",
   "language": "python",
   "name": "python3"
  },
  "language_info": {
   "codemirror_mode": {
    "name": "ipython",
    "version": 3
   },
   "file_extension": ".py",
   "mimetype": "text/x-python",
   "name": "python",
   "nbconvert_exporter": "python",
   "pygments_lexer": "ipython3",
   "version": "3.6.3"
  }
 },
 "nbformat": 4,
 "nbformat_minor": 2
}
