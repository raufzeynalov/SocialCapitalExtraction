{
 "cells": [
  {
   "cell_type": "code",
   "execution_count": 1,
   "metadata": {},
   "outputs": [
    {
     "name": "stderr",
     "output_type": "stream",
     "text": [
      "C:\\ProgramData\\Anaconda3\\lib\\site-packages\\statsmodels\\compat\\pandas.py:56: FutureWarning: The pandas.core.datetools module is deprecated and will be removed in a future version. Please use the pandas.tseries module instead.\n",
      "  from pandas.core import datetools\n"
     ]
    }
   ],
   "source": [
    "#imports\n",
    "import numpy as np\n",
    "import pandas as pd\n",
    "from hyperopt import hp\n",
    "from hyperopt.pyll import scope\n",
    "from sklearn.model_selection import train_test_split\n",
    "from sklearn.pipeline import Pipeline\n",
    "from sklearn import linear_model\n",
    "\n",
    "import os\n",
    "import sys\n",
    "module_path = os.path.abspath(os.path.join('../..'))\n",
    "if module_path not in sys.path:\n",
    "    sys.path.append(module_path)\n",
    "\n",
    "from models.hyperopt_model import HyperoptModel"
   ]
  },
  {
   "cell_type": "code",
   "execution_count": 2,
   "metadata": {
    "collapsed": true,
    "scrolled": false
   },
   "outputs": [],
   "source": [
    "# read the data\n",
    "preprocessed_data = pd.read_pickle('../data/preprocessed_science_qualitative.pd')\n",
    "\n",
    "# Create a dataframe\n",
    "df = pd.DataFrame(preprocessed_data)"
   ]
  },
  {
   "cell_type": "code",
   "execution_count": 3,
   "metadata": {},
   "outputs": [
    {
     "name": "stdout",
     "output_type": "stream",
     "text": [
      "The history saving thread hit an unexpected error (OperationalError('database is locked',)).History will not be written to the database.\n"
     ]
    }
   ],
   "source": [
    "# Create two new dataframes, one with the training rows, one with the test rows\n",
    "train, test=train_test_split(df, test_size=0.2, random_state=0)"
   ]
  },
  {
   "cell_type": "code",
   "execution_count": 4,
   "metadata": {},
   "outputs": [
    {
     "name": "stdout",
     "output_type": "stream",
     "text": [
      "Number of observations in the training data: 79342\n",
      "Number of observations in the test data: 19836\n"
     ]
    }
   ],
   "source": [
    "# Show the number of observations for the test and training dataframes\n",
    "print('Number of observations in the training data:', len(train))\n",
    "print('Number of observations in the test data:',len(test))"
   ]
  },
  {
   "cell_type": "code",
   "execution_count": 5,
   "metadata": {
    "scrolled": true
   },
   "outputs": [
    {
     "name": "stdout",
     "output_type": "stream",
     "text": [
      "Stats (train | test):\n",
      "\tR^2 score:\t\t0.3957\n",
      "\t\t\t\t\t0.3975\n",
      "\tRMSE:\t\t\t0.1032\n",
      "\t\t\t\t\t0.1032\n",
      "\tMean error:\t\t0.0789\n",
      "\t\t\t\t\t0.0787\n",
      "\tPearson:\t\t0.6290\n",
      "\t\t\t\t\t0.6306\n",
      "\tSpearman:\t\t0.6295\n",
      "\t\t\t\t\t0.6300\n",
      "\tKendallTau:\t\t0.4557\n",
      "\t\t\t\t\t0.4565\n",
      "\n",
      "Plotting predicted vs. actual ...done\n",
      "\n",
      "Plotting QQ ...done\n",
      "\n"
     ]
    }
   ],
   "source": [
    "    #some parameters\n",
    "    DO_LOWESS = False\n",
    "    hyperopt = False\n",
    "    # Run Ridge Regression with hyperopt optimization\n",
    "    ridge = HyperoptModel(train.copy(), test.copy(),'ridge', cv=4, max_evals = 200)\n",
    "    features = list(df)\n",
    "    features.remove('score')\n",
    "    ridge.raw_features = features\n",
    "\n",
    "    ridge.pipeline = Pipeline([\n",
    "        ('estimate', linear_model.Ridge(**{'alpha': 0.007733513943796899}))\n",
    "    ])\n",
    "    \n",
    "    ridge.space = {\n",
    "        'estimate__alpha': hp.uniform('estimate__alpha', 0, 1000),\n",
    "    }\n",
    "\n",
    "    if hyperopt:\n",
    "        ridge.run(do_lowess=DO_LOWESS)\n",
    "    else:\n",
    "        # train with default params\n",
    "        ridge.pipeline.fit(X=ridge.X_train, y=ridge.y_train)\n",
    "        ridge.model = ridge.pipeline\n",
    "        ridge.stats()\n",
    "        ridge.plot_feature_importance()\n",
    "        ridge.plot_predicted_vs_actual(do_lowess=DO_LOWESS)\n",
    "        ridge.qq_plot()"
   ]
  },
  {
   "cell_type": "code",
   "execution_count": null,
   "metadata": {
    "collapsed": true
   },
   "outputs": [],
   "source": []
  }
 ],
 "metadata": {
  "kernelspec": {
   "display_name": "Python 3",
   "language": "python",
   "name": "python3"
  },
  "language_info": {
   "codemirror_mode": {
    "name": "ipython",
    "version": 3
   },
   "file_extension": ".py",
   "mimetype": "text/x-python",
   "name": "python",
   "nbconvert_exporter": "python",
   "pygments_lexer": "ipython3",
   "version": "3.6.3"
  }
 },
 "nbformat": 4,
 "nbformat_minor": 2
}
