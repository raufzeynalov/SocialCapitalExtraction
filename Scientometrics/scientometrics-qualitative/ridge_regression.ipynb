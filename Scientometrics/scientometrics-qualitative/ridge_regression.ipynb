{
 "cells": [
  {
   "cell_type": "code",
   "execution_count": 1,
   "metadata": {},
   "outputs": [
    {
     "name": "stderr",
     "output_type": "stream",
     "text": [
      "C:\\ProgramData\\Anaconda3\\lib\\site-packages\\statsmodels\\compat\\pandas.py:56: FutureWarning: The pandas.core.datetools module is deprecated and will be removed in a future version. Please use the pandas.tseries module instead.\n",
      "  from pandas.core import datetools\n"
     ]
    }
   ],
   "source": [
    "#imports\n",
    "import numpy as np\n",
    "import pandas as pd\n",
    "from hyperopt import hp\n",
    "from hyperopt.pyll import scope\n",
    "from sklearn.model_selection import train_test_split\n",
    "from sklearn.pipeline import Pipeline\n",
    "from sklearn import linear_model\n",
    "\n",
    "import os\n",
    "import sys\n",
    "module_path = os.path.abspath(os.path.join('../..'))\n",
    "if module_path not in sys.path:\n",
    "    sys.path.append(module_path)\n",
    "\n",
    "from models.hyperopt_model import HyperoptModel"
   ]
  },
  {
   "cell_type": "code",
   "execution_count": 2,
   "metadata": {
    "collapsed": true,
    "scrolled": false
   },
   "outputs": [],
   "source": [
    "# read the data\n",
    "preprocessed_data = pd.read_pickle('../data/preprocessed_science_qualitative.pd')\n",
    "\n",
    "# Create a dataframe\n",
    "df = pd.DataFrame(preprocessed_data)"
   ]
  },
  {
   "cell_type": "code",
   "execution_count": 3,
   "metadata": {
    "collapsed": true
   },
   "outputs": [],
   "source": [
    "# Create two new dataframes, one with the training rows, one with the test rows\n",
    "train, test=train_test_split(df, test_size=0.2, random_state=0)"
   ]
  },
  {
   "cell_type": "code",
   "execution_count": null,
   "metadata": {},
   "outputs": [
    {
     "name": "stdout",
     "output_type": "stream",
     "text": [
      "Number of observations in the training data: 79342\n",
      "Number of observations in the test data: 19836\n"
     ]
    }
   ],
   "source": [
    "# Show the number of observations for the test and training dataframes\n",
    "print('Number of observations in the training data:', len(train))\n",
    "print('Number of observations in the test data:',len(test))"
   ]
  },
  {
   "cell_type": "code",
   "execution_count": null,
   "metadata": {
    "scrolled": true
   },
   "outputs": [
    {
     "name": "stdout",
     "output_type": "stream",
     "text": [
      "Performing parameters optimization...\n",
      "[1/500]\tcv_eval_time=4.75 sec\tRMSE=0.122713\tR^2=0.372565\n",
      "[2/500]\tcv_eval_time=4.52 sec\tRMSE=0.122908\tR^2=0.370595\n",
      "[3/500]\tcv_eval_time=4.21 sec\tRMSE=0.123053\tR^2=0.369241\n",
      "[4/500]\tcv_eval_time=3.94 sec\tRMSE=0.122926\tR^2=0.370551\n",
      "[5/500]\tcv_eval_time=4.82 sec\tRMSE=0.122928\tR^2=0.370366\n",
      "[6/500]\tcv_eval_time=4.75 sec\tRMSE=0.122702\tR^2=0.372847\n",
      "[7/500]\tcv_eval_time=4.54 sec\tRMSE=0.123069\tR^2=0.369113\n",
      "[8/500]\tcv_eval_time=4.58 sec\tRMSE=0.122941\tR^2=0.370230\n",
      "[9/500]\tcv_eval_time=4.55 sec\tRMSE=0.122968\tR^2=0.369972\n",
      "[10/500]\tcv_eval_time=4.31 sec\tRMSE=0.122944\tR^2=0.370313\n",
      "[11/500]\tcv_eval_time=3.98 sec\tRMSE=0.122780\tR^2=0.371991\n",
      "[12/500]\tcv_eval_time=4.61 sec\tRMSE=0.123089\tR^2=0.368881\n",
      "[13/500]\tcv_eval_time=3.98 sec\tRMSE=0.123072\tR^2=0.368958\n",
      "[14/500]\tcv_eval_time=3.73 sec\tRMSE=0.122819\tR^2=0.371526\n",
      "[15/500]\tcv_eval_time=3.98 sec\tRMSE=0.122722\tR^2=0.372467\n",
      "[16/500]\tcv_eval_time=4.24 sec\tRMSE=0.122881\tR^2=0.370922\n",
      "[17/500]\tcv_eval_time=3.90 sec\tRMSE=0.122747\tR^2=0.372308\n",
      "[18/500]\tcv_eval_time=3.96 sec\tRMSE=0.123086\tR^2=0.368825\n",
      "[19/500]\tcv_eval_time=4.30 sec\tRMSE=0.122811\tR^2=0.371783\n",
      "[20/500]\tcv_eval_time=4.04 sec\tRMSE=0.122806\tR^2=0.371797\n",
      "[21/500]\tcv_eval_time=4.07 sec\tRMSE=0.122621\tR^2=0.373374\n",
      "[22/500]\tcv_eval_time=3.74 sec\tRMSE=0.122653\tR^2=0.373399\n",
      "[23/500]\tcv_eval_time=3.75 sec\tRMSE=0.122630\tR^2=0.373289\n",
      "[24/500]\tcv_eval_time=3.71 sec\tRMSE=0.122745\tR^2=0.372265\n",
      "[25/500]\tcv_eval_time=3.92 sec\tRMSE=0.122628\tR^2=0.373431\n",
      "[26/500]\tcv_eval_time=3.82 sec\tRMSE=0.122860\tR^2=0.371099\n",
      "[27/500]\tcv_eval_time=3.77 sec\tRMSE=0.123141\tR^2=0.368348\n",
      "[28/500]\tcv_eval_time=3.58 sec\tRMSE=0.122761\tR^2=0.372197\n",
      "[29/500]\tcv_eval_time=3.61 sec\tRMSE=0.122703\tR^2=0.372685\n",
      "[30/500]\tcv_eval_time=3.60 sec\tRMSE=0.122624\tR^2=0.373548\n",
      "[31/500]\tcv_eval_time=3.74 sec\tRMSE=0.122728\tR^2=0.372468\n",
      "[32/500]\tcv_eval_time=3.82 sec\tRMSE=0.122843\tR^2=0.371213\n",
      "[33/500]\tcv_eval_time=3.86 sec\tRMSE=0.123008\tR^2=0.369655\n",
      "[34/500]\tcv_eval_time=3.71 sec\tRMSE=0.122781\tR^2=0.371974\n",
      "[35/500]\tcv_eval_time=3.67 sec\tRMSE=0.122694\tR^2=0.373015\n",
      "[36/500]\tcv_eval_time=3.83 sec\tRMSE=0.122738\tR^2=0.372411\n",
      "[37/500]\tcv_eval_time=3.67 sec\tRMSE=0.122771\tR^2=0.372061\n",
      "[38/500]\tcv_eval_time=3.90 sec\tRMSE=0.122675\tR^2=0.373020\n",
      "[39/500]\tcv_eval_time=3.77 sec\tRMSE=0.122893\tR^2=0.370709\n",
      "[40/500]\tcv_eval_time=4.13 sec\tRMSE=0.123027\tR^2=0.369430\n",
      "[41/500]\tcv_eval_time=4.13 sec\tRMSE=0.122824\tR^2=0.371507\n",
      "[42/500]\tcv_eval_time=4.41 sec\tRMSE=0.122797\tR^2=0.371696\n",
      "[43/500]\tcv_eval_time=4.26 sec\tRMSE=0.122725\tR^2=0.372563\n",
      "[44/500]\tcv_eval_time=3.62 sec\tRMSE=0.122765\tR^2=0.372096\n",
      "[45/500]\tcv_eval_time=3.96 sec\tRMSE=0.122961\tR^2=0.370178\n",
      "[46/500]\tcv_eval_time=4.08 sec\tRMSE=0.123126\tR^2=0.368453\n",
      "[47/500]\tcv_eval_time=3.94 sec\tRMSE=0.122837\tR^2=0.371344\n",
      "[48/500]\tcv_eval_time=3.76 sec\tRMSE=0.122907\tR^2=0.370574\n",
      "[49/500]\tcv_eval_time=3.64 sec\tRMSE=0.122735\tR^2=0.372296\n",
      "[50/500]\tcv_eval_time=3.79 sec\tRMSE=0.122684\tR^2=0.372863\n",
      "[51/500]\tcv_eval_time=3.89 sec\tRMSE=0.122710\tR^2=0.372564\n",
      "[52/500]\tcv_eval_time=3.91 sec\tRMSE=0.122875\tR^2=0.370906\n",
      "[53/500]\tcv_eval_time=3.66 sec\tRMSE=0.122797\tR^2=0.371799\n",
      "[54/500]\tcv_eval_time=3.56 sec\tRMSE=0.122643\tR^2=0.373330\n",
      "[55/500]\tcv_eval_time=3.70 sec\tRMSE=0.122755\tR^2=0.372215\n",
      "[56/500]\tcv_eval_time=4.00 sec\tRMSE=0.122988\tR^2=0.369737\n",
      "[57/500]\tcv_eval_time=3.60 sec\tRMSE=0.122739\tR^2=0.372374\n",
      "[58/500]\tcv_eval_time=4.19 sec\tRMSE=0.122817\tR^2=0.371542\n",
      "[59/500]\tcv_eval_time=4.14 sec\tRMSE=0.122718\tR^2=0.372555\n",
      "[60/500]\tcv_eval_time=3.71 sec\tRMSE=0.122931\tR^2=0.370308\n",
      "[61/500]\tcv_eval_time=3.48 sec\tRMSE=0.122898\tR^2=0.370741\n",
      "[62/500]\tcv_eval_time=3.78 sec\tRMSE=0.122801\tR^2=0.371667\n",
      "[63/500]\tcv_eval_time=3.63 sec\tRMSE=0.122631\tR^2=0.373524\n",
      "[64/500]\tcv_eval_time=3.75 sec\tRMSE=0.122848\tR^2=0.371117\n",
      "[65/500]\tcv_eval_time=3.55 sec\tRMSE=0.123043\tR^2=0.369274\n",
      "[66/500]\tcv_eval_time=3.53 sec\tRMSE=0.122708\tR^2=0.372750\n",
      "[67/500]\tcv_eval_time=3.52 sec\tRMSE=0.122675\tR^2=0.372981\n",
      "[68/500]\tcv_eval_time=3.50 sec\tRMSE=0.122635\tR^2=0.373420\n",
      "[69/500]\tcv_eval_time=3.51 sec\tRMSE=0.122763\tR^2=0.372096\n",
      "[70/500]\tcv_eval_time=3.52 sec\tRMSE=0.122725\tR^2=0.372556\n",
      "[71/500]\tcv_eval_time=3.60 sec\tRMSE=0.122743\tR^2=0.372366\n",
      "[72/500]\tcv_eval_time=3.53 sec\tRMSE=0.122723\tR^2=0.372649\n",
      "[73/500]\tcv_eval_time=3.56 sec\tRMSE=0.122667\tR^2=0.372986\n",
      "[74/500]\tcv_eval_time=3.52 sec\tRMSE=0.122693\tR^2=0.372735\n",
      "[75/500]\tcv_eval_time=3.53 sec\tRMSE=0.122771\tR^2=0.372045\n",
      "[76/500]\tcv_eval_time=3.57 sec\tRMSE=0.122793\tR^2=0.371916\n",
      "[77/500]\tcv_eval_time=3.50 sec\tRMSE=0.122730\tR^2=0.372604\n",
      "[78/500]\tcv_eval_time=3.52 sec\tRMSE=0.122755\tR^2=0.372088\n",
      "[79/500]\tcv_eval_time=3.54 sec\tRMSE=0.122700\tR^2=0.372636\n",
      "[80/500]\tcv_eval_time=3.57 sec\tRMSE=0.122667\tR^2=0.373160\n",
      "[81/500]\tcv_eval_time=3.51 sec\tRMSE=0.122743\tR^2=0.372240\n",
      "[82/500]\tcv_eval_time=3.57 sec\tRMSE=0.122833\tR^2=0.371431\n",
      "[83/500]\tcv_eval_time=3.59 sec\tRMSE=0.122803\tR^2=0.371650\n",
      "[84/500]\tcv_eval_time=3.62 sec\tRMSE=0.122628\tR^2=0.373429\n",
      "[85/500]\tcv_eval_time=3.64 sec\tRMSE=0.122788\tR^2=0.371814\n",
      "[86/500]\tcv_eval_time=3.69 sec\tRMSE=0.123118\tR^2=0.368475\n",
      "[87/500]\tcv_eval_time=3.77 sec\tRMSE=0.122728\tR^2=0.372579\n",
      "[88/500]\tcv_eval_time=3.73 sec\tRMSE=0.122734\tR^2=0.372294\n",
      "[89/500]\tcv_eval_time=3.78 sec\tRMSE=0.122874\tR^2=0.371078\n",
      "[90/500]\tcv_eval_time=3.71 sec\tRMSE=0.122957\tR^2=0.370233\n",
      "[91/500]\tcv_eval_time=3.66 sec\tRMSE=0.122753\tR^2=0.372081\n",
      "[92/500]\tcv_eval_time=3.72 sec\tRMSE=0.122694\tR^2=0.372800\n",
      "[93/500]\tcv_eval_time=3.70 sec\tRMSE=0.122813\tR^2=0.371642\n",
      "[94/500]\tcv_eval_time=3.68 sec\tRMSE=0.122832\tR^2=0.371215\n",
      "[95/500]\tcv_eval_time=3.73 sec\tRMSE=0.122685\tR^2=0.372926\n",
      "[96/500]\tcv_eval_time=3.70 sec\tRMSE=0.122916\tR^2=0.370497\n",
      "[97/500]\tcv_eval_time=3.70 sec\tRMSE=0.122984\tR^2=0.369980\n",
      "[98/500]\tcv_eval_time=3.64 sec\tRMSE=0.123020\tR^2=0.369416\n",
      "[99/500]\tcv_eval_time=3.65 sec\tRMSE=0.122888\tR^2=0.370772\n",
      "[100/500]\tcv_eval_time=3.55 sec\tRMSE=0.122716\tR^2=0.372715\n",
      "[101/500]\tcv_eval_time=3.54 sec\tRMSE=0.122750\tR^2=0.372253\n",
      "[102/500]\tcv_eval_time=3.56 sec\tRMSE=0.123048\tR^2=0.369076\n",
      "[103/500]\tcv_eval_time=3.50 sec\tRMSE=0.122774\tR^2=0.372040\n",
      "[104/500]\tcv_eval_time=3.60 sec\tRMSE=0.122787\tR^2=0.371824\n",
      "[105/500]\tcv_eval_time=3.64 sec\tRMSE=0.122744\tR^2=0.372291\n",
      "[106/500]\tcv_eval_time=3.52 sec\tRMSE=0.122809\tR^2=0.371698\n",
      "[107/500]\tcv_eval_time=3.50 sec\tRMSE=0.122667\tR^2=0.373134\n",
      "[108/500]\tcv_eval_time=3.52 sec\tRMSE=0.122721\tR^2=0.372476\n",
      "[109/500]\tcv_eval_time=3.53 sec\tRMSE=0.122860\tR^2=0.371159\n",
      "[110/500]\tcv_eval_time=3.58 sec\tRMSE=0.122630\tR^2=0.373495\n",
      "[111/500]\tcv_eval_time=3.70 sec\tRMSE=0.122717\tR^2=0.372633\n",
      "[112/500]\tcv_eval_time=3.73 sec\tRMSE=0.122732\tR^2=0.372514\n",
      "[113/500]\tcv_eval_time=3.65 sec\tRMSE=0.122930\tR^2=0.370374\n",
      "[114/500]\tcv_eval_time=3.60 sec\tRMSE=0.122668\tR^2=0.373008\n",
      "[115/500]\tcv_eval_time=3.62 sec\tRMSE=0.122750\tR^2=0.372194\n",
      "[116/500]\tcv_eval_time=3.65 sec\tRMSE=0.122707\tR^2=0.372777\n",
      "[117/500]\tcv_eval_time=3.57 sec\tRMSE=0.122954\tR^2=0.370276\n",
      "[118/500]\tcv_eval_time=3.62 sec\tRMSE=0.123131\tR^2=0.368279\n",
      "[119/500]\tcv_eval_time=3.50 sec\tRMSE=0.122764\tR^2=0.372062\n",
      "[120/500]\tcv_eval_time=3.54 sec\tRMSE=0.122870\tR^2=0.370985\n",
      "[121/500]\tcv_eval_time=3.57 sec\tRMSE=0.122691\tR^2=0.372829\n",
      "[122/500]\tcv_eval_time=3.64 sec\tRMSE=0.122794\tR^2=0.371697\n",
      "[123/500]\tcv_eval_time=3.57 sec\tRMSE=0.122646\tR^2=0.373236\n",
      "[124/500]\tcv_eval_time=3.49 sec\tRMSE=0.122745\tR^2=0.372161\n",
      "[125/500]\tcv_eval_time=3.51 sec\tRMSE=0.122734\tR^2=0.372500\n",
      "[126/500]\tcv_eval_time=3.52 sec\tRMSE=0.122846\tR^2=0.371259\n",
      "[127/500]\tcv_eval_time=3.54 sec\tRMSE=0.123097\tR^2=0.368829\n",
      "[128/500]\tcv_eval_time=3.56 sec\tRMSE=0.122824\tR^2=0.371437\n",
      "[129/500]\tcv_eval_time=3.48 sec\tRMSE=0.122886\tR^2=0.370807\n",
      "[130/500]\tcv_eval_time=3.57 sec\tRMSE=0.122813\tR^2=0.371619\n",
      "[131/500]\tcv_eval_time=3.57 sec\tRMSE=0.122781\tR^2=0.371832\n",
      "[132/500]\tcv_eval_time=3.57 sec\tRMSE=0.122711\tR^2=0.372603\n",
      "[133/500]\tcv_eval_time=3.55 sec\tRMSE=0.122694\tR^2=0.372866\n",
      "[134/500]\tcv_eval_time=3.50 sec\tRMSE=0.122721\tR^2=0.372566\n",
      "[135/500]\tcv_eval_time=3.52 sec\tRMSE=0.122772\tR^2=0.371952\n",
      "[136/500]\tcv_eval_time=3.55 sec\tRMSE=0.122639\tR^2=0.373530\n",
      "[137/500]\tcv_eval_time=3.57 sec\tRMSE=0.122760\tR^2=0.372097\n",
      "[138/500]\tcv_eval_time=3.48 sec\tRMSE=0.122699\tR^2=0.372798\n",
      "[139/500]\tcv_eval_time=3.59 sec\tRMSE=0.122739\tR^2=0.372264\n",
      "[140/500]\tcv_eval_time=3.62 sec\tRMSE=0.122673\tR^2=0.373124\n",
      "[141/500]\tcv_eval_time=3.62 sec\tRMSE=0.122747\tR^2=0.372114\n"
     ]
    },
    {
     "name": "stdout",
     "output_type": "stream",
     "text": [
      "[142/500]\tcv_eval_time=3.71 sec\tRMSE=0.122909\tR^2=0.370559\n"
     ]
    }
   ],
   "source": [
    "    #some parameters\n",
    "    DO_LOWESS = False\n",
    "    hyperopt = True\n",
    "    # Run Ridge Regression with hyperopt optimization\n",
    "    ridge = HyperoptModel(train.copy(), test.copy(),'ridge', cv=10, max_evals = 500)\n",
    "    features = list(df)\n",
    "    features.remove('score')\n",
    "    ridge.raw_features = features\n",
    "\n",
    "    ridge.pipeline = Pipeline([\n",
    "        ('estimate', linear_model.Ridge())\n",
    "    ])\n",
    "    \n",
    "    ridge.space = {\n",
    "        'estimate__alpha': hp.uniform('estimate__alpha', 0, 1000),\n",
    "    }\n",
    "\n",
    "    if hyperopt:\n",
    "        ridge.run(do_lowess=DO_LOWESS)\n",
    "    else:\n",
    "        # train with default params\n",
    "        ridge.pipeline.fit(X=cat.X_train, y=cat.y_train)\n",
    "        ridge.model = cat.pipeline\n",
    "        ridge.stats()\n",
    "        ridge.plot_feature_importance()\n",
    "        ridge.plot_predicted_vs_actual(do_lowess=DO_LOWESS)\n",
    "        ridge.qq_plot()"
   ]
  }
 ],
 "metadata": {
  "kernelspec": {
   "display_name": "Python 3",
   "language": "python",
   "name": "python3"
  },
  "language_info": {
   "codemirror_mode": {
    "name": "ipython",
    "version": 3
   },
   "file_extension": ".py",
   "mimetype": "text/x-python",
   "name": "python",
   "nbconvert_exporter": "python",
   "pygments_lexer": "ipython3",
   "version": "3.6.3"
  }
 },
 "nbformat": 4,
 "nbformat_minor": 2
}
