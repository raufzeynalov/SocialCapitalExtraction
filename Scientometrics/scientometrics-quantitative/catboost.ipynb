{
 "cells": [
  {
   "cell_type": "code",
   "execution_count": 1,
   "metadata": {},
   "outputs": [
    {
     "name": "stderr",
     "output_type": "stream",
     "text": [
      "C:\\ProgramData\\Anaconda3\\lib\\site-packages\\statsmodels\\compat\\pandas.py:56: FutureWarning: The pandas.core.datetools module is deprecated and will be removed in a future version. Please use the pandas.tseries module instead.\n",
      "  from pandas.core import datetools\n"
     ]
    }
   ],
   "source": [
    "#imports\n",
    "import numpy as np\n",
    "import pandas as pd\n",
    "from catboost import CatBoostRegressor\n",
    "from hyperopt import hp\n",
    "from hyperopt.pyll import scope\n",
    "from sklearn.model_selection import train_test_split\n",
    "from sklearn.pipeline import Pipeline\n",
    "from catboost import CatBoostRegressor\n",
    "\n",
    "import os\n",
    "import sys\n",
    "module_path = os.path.abspath(os.path.join('../..'))\n",
    "if module_path not in sys.path:\n",
    "    sys.path.append(module_path)\n",
    "\n",
    "from models.hyperopt_model import HyperoptModel"
   ]
  },
  {
   "cell_type": "code",
   "execution_count": 2,
   "metadata": {
    "collapsed": true,
    "scrolled": false
   },
   "outputs": [],
   "source": [
    "# read the data\n",
    "preprocessed_data = pd.read_pickle('../data/preprocessed_science_quantitative.pd')\n",
    "\n",
    "# Create a dataframe\n",
    "df = pd.DataFrame(preprocessed_data)"
   ]
  },
  {
   "cell_type": "code",
   "execution_count": 3,
   "metadata": {
    "collapsed": true
   },
   "outputs": [],
   "source": [
    "# Create two new dataframes, one with the training rows, one with the test rows\n",
    "train, test=train_test_split(df, test_size=0.2, random_state=0)"
   ]
  },
  {
   "cell_type": "code",
   "execution_count": 4,
   "metadata": {},
   "outputs": [
    {
     "name": "stdout",
     "output_type": "stream",
     "text": [
      "Number of observations in the training data: 79342\n",
      "Number of observations in the test data: 19836\n"
     ]
    }
   ],
   "source": [
    "# Show the number of observations for the test and training dataframes\n",
    "print('Number of observations in the training data:', len(train))\n",
    "print('Number of observations in the test data:',len(test))"
   ]
  },
  {
   "cell_type": "code",
   "execution_count": 5,
   "metadata": {
    "scrolled": true
   },
   "outputs": [
    {
     "name": "stdout",
     "output_type": "stream",
     "text": [
      "Performing parameters optimization...\n",
      "[1/50]\tcv_eval_time=1409.53 sec\tRMSE=0.065677\tR^2=0.892488\n",
      "[2/50]\tcv_eval_time=1393.24 sec\tRMSE=0.067473\tR^2=0.886474\n",
      "[3/50]\tcv_eval_time=1403.45 sec\tRMSE=0.065644\tR^2=0.892573\n",
      "[4/50]\tcv_eval_time=1399.84 sec\tRMSE=0.070571\tR^2=0.875746\n",
      "[5/50]\tcv_eval_time=1405.91 sec\tRMSE=0.073318\tR^2=0.866076\n",
      "[6/50]\tcv_eval_time=1404.37 sec\tRMSE=0.065546\tR^2=0.893071\n",
      "[7/50]\tcv_eval_time=1410.50 sec\tRMSE=0.065898\tR^2=0.891713\n",
      "[8/50]\tcv_eval_time=1416.19 sec\tRMSE=0.065599\tR^2=0.892815\n",
      "[9/50]\tcv_eval_time=1406.61 sec\tRMSE=0.068319\tR^2=0.882898\n",
      "[10/50]\tcv_eval_time=1397.34 sec\tRMSE=0.066291\tR^2=0.890914\n",
      "[11/50]\tcv_eval_time=1396.78 sec\tRMSE=0.065621\tR^2=0.892743\n",
      "[12/50]\tcv_eval_time=1395.61 sec\tRMSE=0.067069\tR^2=0.887512\n",
      "[13/50]\tcv_eval_time=1403.98 sec\tRMSE=0.066834\tR^2=0.888689\n",
      "[14/50]\tcv_eval_time=1398.93 sec\tRMSE=0.066053\tR^2=0.891390\n",
      "[15/50]\tcv_eval_time=1415.48 sec\tRMSE=0.065691\tR^2=0.892535\n",
      "[16/50]\tcv_eval_time=1412.32 sec\tRMSE=0.068500\tR^2=0.883445\n",
      "[17/50]\tcv_eval_time=1412.76 sec\tRMSE=0.069126\tR^2=0.880715\n",
      "[18/50]\tcv_eval_time=1401.26 sec\tRMSE=0.067697\tR^2=0.885587\n",
      "[19/50]\tcv_eval_time=1406.33 sec\tRMSE=0.075517\tR^2=0.855321\n",
      "[20/50]\tcv_eval_time=1399.09 sec\tRMSE=0.068504\tR^2=0.883021\n",
      "[21/50]\tcv_eval_time=1405.40 sec\tRMSE=0.065807\tR^2=0.892336\n",
      "[22/50]\tcv_eval_time=1436.11 sec\tRMSE=0.077157\tR^2=0.851098\n",
      "[23/50]\tcv_eval_time=1419.62 sec\tRMSE=0.065586\tR^2=0.892900\n",
      "[24/50]\tcv_eval_time=1410.76 sec\tRMSE=0.065746\tR^2=0.892250\n",
      "[25/50]\tcv_eval_time=1404.61 sec\tRMSE=0.065492\tR^2=0.893373\n",
      "[26/50]\tcv_eval_time=1396.06 sec\tRMSE=0.065581\tR^2=0.892891\n",
      "[27/50]\tcv_eval_time=1405.39 sec\tRMSE=0.065861\tR^2=0.891700\n",
      "[28/50]\tcv_eval_time=1397.13 sec\tRMSE=0.066201\tR^2=0.890319\n",
      "[29/50]\tcv_eval_time=1134.76 sec\tRMSE=0.065482\tR^2=0.892922\n",
      "[30/50]\tcv_eval_time=979.09 sec\tRMSE=0.066105\tR^2=0.890360\n",
      "[31/50]\tcv_eval_time=980.15 sec\tRMSE=0.066676\tR^2=0.889001\n",
      "[32/50]\tcv_eval_time=978.88 sec\tRMSE=0.065471\tR^2=0.893017\n",
      "[33/50]\tcv_eval_time=983.51 sec\tRMSE=0.070967\tR^2=0.874328\n",
      "[34/50]\tcv_eval_time=998.00 sec\tRMSE=0.065447\tR^2=0.893213\n",
      "[35/50]\tcv_eval_time=990.25 sec\tRMSE=0.066026\tR^2=0.891314\n",
      "[36/50]\tcv_eval_time=987.45 sec\tRMSE=0.065413\tR^2=0.893290\n",
      "[37/50]\tcv_eval_time=982.25 sec\tRMSE=0.065577\tR^2=0.892823\n",
      "[38/50]\tcv_eval_time=984.83 sec\tRMSE=0.066805\tR^2=0.888491\n",
      "[39/50]\tcv_eval_time=984.97 sec\tRMSE=0.065796\tR^2=0.891780\n",
      "[40/50]\tcv_eval_time=990.38 sec\tRMSE=0.065686\tR^2=0.892409\n",
      "[41/50]\tcv_eval_time=990.37 sec\tRMSE=0.070352\tR^2=0.876387\n",
      "[42/50]\tcv_eval_time=988.02 sec\tRMSE=0.065572\tR^2=0.892743\n",
      "[43/50]\tcv_eval_time=987.21 sec\tRMSE=0.067378\tR^2=0.886987\n",
      "[44/50]\tcv_eval_time=984.47 sec\tRMSE=0.065969\tR^2=0.891966\n",
      "[45/50]\tcv_eval_time=986.75 sec\tRMSE=0.067633\tR^2=0.885798\n",
      "[46/50]\tcv_eval_time=989.40 sec\tRMSE=0.068199\tR^2=0.884387\n",
      "[47/50]\tcv_eval_time=988.43 sec\tRMSE=0.065857\tR^2=0.891836\n",
      "[48/50]\tcv_eval_time=664.92 sec\tRMSE=0.066231\tR^2=0.890158\n",
      "[49/50]\tcv_eval_time=628.76 sec\tRMSE=0.065569\tR^2=0.892493\n",
      "[50/50]\tcv_eval_time=631.13 sec\tRMSE=0.066448\tR^2=0.890066\n",
      " elapsed time: 16h 43min\n",
      "\n",
      "Stats (train | test):\n",
      "\tR^2 score:\t\t0.9151\n",
      "\t\t\t\t\t0.8953\n",
      "\tRMSE:\t\t\t0.0583\n",
      "\t\t\t\t\t0.0647\n",
      "\tMean error:\t\t0.0449\n",
      "\t\t\t\t\t0.0494\n",
      "\n",
      "Best parameters set:\n",
      "{'estimate__bagging_temperature': 0.3524510566337572,\n",
      " 'estimate__iterations': 1300,\n",
      " 'estimate__l2_leaf_reg': 2.7901506310742388,\n",
      " 'estimate__learning_rate': 0.10218287918280118,\n",
      " 'estimate__loss_function': 'RMSE',\n",
      " 'estimate__random_seed': 0,\n",
      " 'estimate__random_strength': 1,\n",
      " 'estimate__thread_count': 4,\n",
      " 'estimate__train_dir': 'outputs/cat',\n",
      " 'estimate__used_ram_limit': 4294967296}\n",
      "\n",
      "Could not create plots\n"
     ]
    }
   ],
   "source": [
    "    #some parameters\n",
    "    DO_LOWESS = False\n",
    "    hyperopt = True\n",
    "    # Run CatBoostRegressor with hyperopt optimization\n",
    "    cat = HyperoptModel(train.copy(), test.copy(),'cat', cv=3, max_evals = 50)\n",
    "\n",
    "    cat.pipeline = Pipeline([\n",
    "        ('estimate', CatBoostRegressor())\n",
    "    ])\n",
    "    \n",
    "    features = list(df)\n",
    "    features.remove('score')\n",
    "    cat.raw_features = features\n",
    "    \n",
    "    cat.space = {\n",
    "        'estimate__iterations': hp.choice('estimate__iterations', [1300]),\n",
    "        'estimate__loss_function': hp.choice('estimate__loss_function', ['RMSE']),\n",
    "        'estimate__train_dir': hp.choice('estimate__train_dir', ['outputs/cat']),\n",
    "        'estimate__thread_count': hp.choice('estimate__thread_count', [4]),\n",
    "        'estimate__used_ram_limit': hp.choice('estimate__used_ram_limit', [1024 * 1024 * 1024 * 4]),  # 4gb\n",
    "        'estimate__random_seed': hp.choice('estimate__random_seed', [0]),\n",
    "\n",
    "        'estimate__learning_rate': hp.loguniform('estimate__learning_rate', -5, 0),\n",
    "        'estimate__random_strength': hp.choice('estimate__random_strength', [1, 20]),\n",
    "        'estimate__l2_leaf_reg': hp.loguniform('estimate__l2_leaf_reg', 0, np.log(10)),\n",
    "        'estimate__bagging_temperature': hp.uniform('estimate__bagging_temperature', 0, 1),\n",
    "    }\n",
    "\n",
    "    \"\"\"\n",
    "    find the best number of trees (following https://tech.yandex.com/catboost/doc/dg/concepts/parameter-tuning_trees-number-docpage/#parameter-tuning_trees-number)\n",
    "    need to also substitute the CatBoostRegressor parameters with:\n",
    "        ('estimate', CatBoostRegressor(iterations=10000, loss_function='RMSE', auto_stop_pval=1e-4, use_best_model=True, train_dir='outputs/cat_trees', verbose=True))\n",
    "    \"\"\"\n",
    "    # num_trees_train, num_trees_eval = train_test_split(train, test_size=0.2, random_state=0)\n",
    "    # X = num_trees_train[list(filter(lambda column: column in cat.raw_features, cat.train.columns))]\n",
    "    # y = num_trees_train['score']\n",
    "    #\n",
    "    # eval_X = num_trees_eval[list(filter(lambda column: column in cat.raw_features, cat.train.columns))]\n",
    "    # eval_X = cat.pipeline.named_steps['prepare_features'].fit_transform(eval_X)\n",
    "    # eval_set = (eval_X, num_trees_eval['score'])\n",
    "    #\n",
    "    # cat.pipeline.fit(X=X, y=y, estimate__eval_set=eval_set)\n",
    "    # cat.model = cat.pipeline\n",
    "    # print(cat.model.named_steps['estimate'].get_params())\n",
    "    # cat.model.named_steps['estimate'].save_model('tmp/cat.model'.encode('utf-8'))\n",
    "\n",
    "    if hyperopt:\n",
    "        cat.run(do_lowess=DO_LOWESS)\n",
    "    else:\n",
    "        # train with default params\n",
    "        cat.pipeline.fit(X=cat.X_train, y=cat.y_train)\n",
    "        cat.model = cat.pipeline\n",
    "        cat.stats()\n",
    "        cat.plot_predicted_vs_actual(do_lowess=DO_LOWESS)\n",
    "        cat.plot_feature_importance()\n",
    "        #cat.qq_plot()"
   ]
  },
  {
   "cell_type": "code",
   "execution_count": null,
   "metadata": {
    "collapsed": true
   },
   "outputs": [],
   "source": []
  }
 ],
 "metadata": {
  "kernelspec": {
   "display_name": "Python 3",
   "language": "python",
   "name": "python3"
  },
  "language_info": {
   "codemirror_mode": {
    "name": "ipython",
    "version": 3
   },
   "file_extension": ".py",
   "mimetype": "text/x-python",
   "name": "python",
   "nbconvert_exporter": "python",
   "pygments_lexer": "ipython3",
   "version": "3.6.3"
  }
 },
 "nbformat": 4,
 "nbformat_minor": 2
}
