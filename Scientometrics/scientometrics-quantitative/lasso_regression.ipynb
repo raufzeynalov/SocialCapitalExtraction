{
 "cells": [
  {
   "cell_type": "code",
   "execution_count": 1,
   "metadata": {},
   "outputs": [
    {
     "name": "stderr",
     "output_type": "stream",
     "text": [
      "C:\\ProgramData\\Anaconda3\\lib\\site-packages\\statsmodels\\compat\\pandas.py:56: FutureWarning: The pandas.core.datetools module is deprecated and will be removed in a future version. Please use the pandas.tseries module instead.\n",
      "  from pandas.core import datetools\n"
     ]
    }
   ],
   "source": [
    "#imports\n",
    "import numpy as np\n",
    "import pandas as pd\n",
    "from hyperopt import hp\n",
    "from hyperopt.pyll import scope\n",
    "from sklearn.model_selection import train_test_split\n",
    "from sklearn.pipeline import Pipeline\n",
    "from sklearn import linear_model\n",
    "\n",
    "import os\n",
    "import sys\n",
    "module_path = os.path.abspath(os.path.join('../..'))\n",
    "if module_path not in sys.path:\n",
    "    sys.path.append(module_path)\n",
    "\n",
    "from models.hyperopt_model import HyperoptModel"
   ]
  },
  {
   "cell_type": "code",
   "execution_count": 2,
   "metadata": {
    "collapsed": true,
    "scrolled": false
   },
   "outputs": [],
   "source": [
    "# read the data\n",
    "preprocessed_data = pd.read_pickle('../data/preprocessed_science_quantitative.pd')\n",
    "\n",
    "# Create a dataframe\n",
    "df = pd.DataFrame(preprocessed_data)"
   ]
  },
  {
   "cell_type": "code",
   "execution_count": 3,
   "metadata": {
    "collapsed": true
   },
   "outputs": [],
   "source": [
    "# Create two new dataframes, one with the training rows, one with the test rows\n",
    "train, test=train_test_split(df, test_size=0.2, random_state=0)"
   ]
  },
  {
   "cell_type": "code",
   "execution_count": null,
   "metadata": {},
   "outputs": [
    {
     "name": "stdout",
     "output_type": "stream",
     "text": [
      "Number of observations in the training data: 79342\n",
      "Number of observations in the test data: 19836\n"
     ]
    }
   ],
   "source": [
    "# Show the number of observations for the test and training dataframes\n",
    "print('Number of observations in the training data:', len(train))\n",
    "print('Number of observations in the test data:',len(test))"
   ]
  },
  {
   "cell_type": "code",
   "execution_count": null,
   "metadata": {
    "scrolled": true
   },
   "outputs": [
    {
     "name": "stdout",
     "output_type": "stream",
     "text": [
      "Performing parameters optimization...\n",
      "[1/500]\tcv_eval_time=37.70 sec\tRMSE=0.170452\tR^2=0.275126\n",
      "[2/500]\tcv_eval_time=18.76 sec\tRMSE=0.172794\tR^2=0.254974\n",
      "[3/500]\tcv_eval_time=27.38 sec\tRMSE=0.170223\tR^2=0.277230\n",
      "[4/500]\tcv_eval_time=24.41 sec\tRMSE=0.170930\tR^2=0.270949\n",
      "[5/500]\tcv_eval_time=269.01 sec\tRMSE=0.165676\tR^2=0.315921\n",
      "[6/500]\tcv_eval_time=15.41 sec\tRMSE=0.173369\tR^2=0.250320\n",
      "[7/500]\tcv_eval_time=15.45 sec\tRMSE=0.172331\tR^2=0.259337\n"
     ]
    }
   ],
   "source": [
    "    #some parameters\n",
    "    DO_LOWESS = False\n",
    "    hyperopt = True\n",
    "    # Run Lasso with hyperopt optimization\n",
    "    lasso = HyperoptModel(train.copy(), test.copy(),'lasso', cv=10, max_evals = 500)\n",
    "    features = list(df)\n",
    "    features.remove('score')\n",
    "\n",
    "    lasso.pipeline = Pipeline([\n",
    "        ('estimate', linear_model.Lasso())\n",
    "    ])\n",
    "    \n",
    "    lasso.raw_features = features\n",
    "    lasso.space = {\n",
    "        'estimate__alpha': hp.uniform('estimate__alpha', 0, 10),\n",
    "    }\n",
    "\n",
    "    if hyperopt:\n",
    "        lasso.run(do_lowess=DO_LOWESS)\n",
    "    else:\n",
    "        # train with default params\n",
    "        lasso.pipeline.fit(X=lasso.X_train, y=lasso.y_train)\n",
    "        lasso.model = cat.pipeline\n",
    "        lasso.stats()\n",
    "        lasso.plot_feature_importance()\n",
    "        lasso.plot_predicted_vs_actual(do_lowess=DO_LOWESS)\n",
    "        lasso.qq_plot()"
   ]
  },
  {
   "cell_type": "code",
   "execution_count": null,
   "metadata": {
    "collapsed": true
   },
   "outputs": [],
   "source": []
  }
 ],
 "metadata": {
  "kernelspec": {
   "display_name": "Python 3",
   "language": "python",
   "name": "python3"
  },
  "language_info": {
   "codemirror_mode": {
    "name": "ipython",
    "version": 3
   },
   "file_extension": ".py",
   "mimetype": "text/x-python",
   "name": "python",
   "nbconvert_exporter": "python",
   "pygments_lexer": "ipython3",
   "version": "3.6.3"
  }
 },
 "nbformat": 4,
 "nbformat_minor": 2
}
