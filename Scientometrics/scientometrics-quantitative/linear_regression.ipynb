{
 "cells": [
  {
   "cell_type": "code",
   "execution_count": 1,
   "metadata": {
    "collapsed": true
   },
   "outputs": [],
   "source": [
    "import pandas as pd\n",
    "from math import sqrt\n",
    "from sklearn import datasets, linear_model\n",
    "from sklearn.model_selection import train_test_split, cross_val_score, cross_val_predict\n",
    "from matplotlib import pyplot as plt\n",
    "from sklearn import metrics"
   ]
  },
  {
   "cell_type": "code",
   "execution_count": 2,
   "metadata": {
    "collapsed": true,
    "scrolled": false
   },
   "outputs": [],
   "source": [
    "# read the data\n",
    "preprocessed_data = pd.read_pickle('../data/preprocessed_science_quantitative.pd')\n",
    "\n",
    "# Create a dataframe\n",
    "df = pd.DataFrame(preprocessed_data)\n",
    "y = df['score'].copy()\n",
    "df.drop('score', axis=1, inplace=True) "
   ]
  },
  {
   "cell_type": "code",
   "execution_count": 3,
   "metadata": {
    "collapsed": true
   },
   "outputs": [],
   "source": [
    "# create training and testing vars\n",
    "X_train, X_test, y_train, y_test = train_test_split(df, y, test_size=0.2)"
   ]
  },
  {
   "cell_type": "code",
   "execution_count": 4,
   "metadata": {
    "collapsed": true
   },
   "outputs": [],
   "source": [
    "lm = linear_model.LinearRegression()\n",
    "model = lm.fit(X_train, y_train)\n",
    "predictions = lm.predict(X_test)"
   ]
  },
  {
   "cell_type": "code",
   "execution_count": 5,
   "metadata": {
    "scrolled": true
   },
   "outputs": [
    {
     "data": {
      "image/png": "[encoded data removed]",
      "text/plain": [
       "<matplotlib.figure.Figure at 0x19b15910a58>"
      ]
     },
     "metadata": {},
     "output_type": "display_data"
    },
    {
     "name": "stdout",
     "output_type": "stream",
     "text": [
      "[ 0.63151465  0.00363192  0.03664448  0.01192198  0.00539043  0.07882606\n",
      "  0.21331425 -0.18904936  0.06641934 -0.0243033  -0.09041952 -0.04862734\n",
      "  0.01694047 -0.0457619  -0.06422144  0.0227424  -0.11047255  0.13556272\n",
      "  0.21012694 -0.12422299 -0.04737756  0.099523   -0.61987847 -0.20238507\n",
      " -0.13123162 -0.17585124  0.14609379 -0.03052983 -0.18900415  0.55335175\n",
      " -0.06321487  0.03804857  1.23094255 -0.22788374  0.11959149 -0.10640956\n",
      "  0.03502048 -0.01893846 -0.01089133]\n"
     ]
    }
   ],
   "source": [
    "plt.scatter(y_test, predictions)\n",
    "plt.xlabel(\"True Values\")\n",
    "plt.ylabel(\"Predictions\")\n",
    "plt.show()\n",
    "\n",
    "print(lm.coef_)"
   ]
  },
  {
   "cell_type": "code",
   "execution_count": 6,
   "metadata": {},
   "outputs": [
    {
     "name": "stdout",
     "output_type": "stream",
     "text": [
      "Cross-validated scores: [ 0.78460898  0.7801021   0.78162625  0.78919265]\n"
     ]
    }
   ],
   "source": [
    "scores = cross_val_score(model, df, y, cv=4)\n",
    "print(\"Cross-validated scores:\", scores)"
   ]
  },
  {
   "cell_type": "code",
   "execution_count": 7,
   "metadata": {},
   "outputs": [
    {
     "data": {
      "image/png": "[encoded data removed]",
      "text/plain": [
       "<matplotlib.figure.Figure at 0x19b15803780>"
      ]
     },
     "metadata": {},
     "output_type": "display_data"
    }
   ],
   "source": [
    "predictions = cross_val_predict(model, df, y, cv=4)\n",
    "plt.scatter(y, predictions)\n",
    "plt.show()"
   ]
  },
  {
   "cell_type": "code",
   "execution_count": 8,
   "metadata": {},
   "outputs": [
    {
     "name": "stdout",
     "output_type": "stream",
     "text": [
      "(99178,)\n",
      "(99178,)\n",
      "R2Score: 0.784134612582\n",
      "RMSE: 0.09299797356587272\n"
     ]
    }
   ],
   "source": [
    "print(y.shape)\n",
    "print(predictions.shape)\n",
    "accuracy = metrics.r2_score(y, predictions)\n",
    "print(\"R2Score:\", accuracy)\n",
    "rmse = sqrt(metrics.mean_squared_error(y,  predictions))\n",
    "print(\"RMSE:\", rmse)"
   ]
  },
  {
   "cell_type": "code",
   "execution_count": 9,
   "metadata": {},
   "outputs": [
    {
     "name": "stdout",
     "output_type": "stream",
     "text": [
      "[ 0.63151465  0.00363192  0.03664448  0.01192198  0.00539043  0.07882606\n",
      "  0.21331425 -0.18904936  0.06641934 -0.0243033  -0.09041952 -0.04862734\n",
      "  0.01694047 -0.0457619  -0.06422144  0.0227424  -0.11047255  0.13556272\n",
      "  0.21012694 -0.12422299 -0.04737756  0.099523   -0.61987847 -0.20238507\n",
      " -0.13123162 -0.17585124  0.14609379 -0.03052983 -0.18900415  0.55335175\n",
      " -0.06321487  0.03804857  1.23094255 -0.22788374  0.11959149 -0.10640956\n",
      "  0.03502048 -0.01893846 -0.01089133]\n"
     ]
    }
   ],
   "source": [
    "print(lm.coef_)"
   ]
  }
 ],
 "metadata": {
  "kernelspec": {
   "display_name": "Python 3",
   "language": "python",
   "name": "python3"
  },
  "language_info": {
   "codemirror_mode": {
    "name": "ipython",
    "version": 3
   },
   "file_extension": ".py",
   "mimetype": "text/x-python",
   "name": "python",
   "nbconvert_exporter": "python",
   "pygments_lexer": "ipython3",
   "version": "3.6.3"
  }
 },
 "nbformat": 4,
 "nbformat_minor": 2
}
