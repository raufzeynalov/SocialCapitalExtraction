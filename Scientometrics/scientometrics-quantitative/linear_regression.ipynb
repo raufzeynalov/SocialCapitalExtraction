{
 "cells": [
  {
   "cell_type": "code",
   "execution_count": 1,
   "metadata": {
    "collapsed": true
   },
   "outputs": [],
   "source": [
    "import pandas as pd\n",
    "from sklearn import datasets, linear_model\n",
    "from sklearn.model_selection import train_test_split, cross_val_score, cross_val_predict\n",
    "from matplotlib import pyplot as plt\n",
    "from sklearn import metrics"
   ]
  },
  {
   "cell_type": "code",
   "execution_count": 2,
   "metadata": {
    "collapsed": true,
    "scrolled": false
   },
   "outputs": [],
   "source": [
    "# read the data\n",
    "preprocessed_data = pd.read_pickle('../data/preprocessed_science_quantitative.pd')\n",
    "\n",
    "# Create a dataframe\n",
    "df = pd.DataFrame(preprocessed_data)\n",
    "y = df['score'].copy()\n",
    "df.drop('score', axis=1, inplace=True) "
   ]
  },
  {
   "cell_type": "code",
   "execution_count": 3,
   "metadata": {
    "collapsed": true
   },
   "outputs": [],
   "source": [
    "# create training and testing vars\n",
    "X_train, X_test, y_train, y_test = train_test_split(df, y, test_size=0.2)"
   ]
  },
  {
   "cell_type": "code",
   "execution_count": 4,
   "metadata": {
    "collapsed": true
   },
   "outputs": [],
   "source": [
    "lm = linear_model.LinearRegression()\n",
    "model = lm.fit(X_train, y_train)\n",
    "predictions = lm.predict(X_test)"
   ]
  },
  {
   "cell_type": "code",
   "execution_count": 5,
   "metadata": {
    "scrolled": true
   },
   "outputs": [
    {
     "data": {
      "image/png": "[encoded data removed]",
      "text/plain": [
       "<matplotlib.figure.Figure at 0x24d247bf940>"
      ]
     },
     "metadata": {},
     "output_type": "display_data"
    },
    {
     "name": "stdout",
     "output_type": "stream",
     "text": [
      "[ -2.83691236e+08   2.83691236e+08   2.83691236e+08   2.83691236e+08\n",
      "   2.83691236e+08   8.50242376e-03  -2.80496478e-03   1.04728788e-02\n",
      "   9.50181484e-03  -6.18168153e-04  -5.75035810e-05   2.10493803e-04\n",
      "  -3.71560454e-05   6.57998025e-04   5.74931502e-04  -1.74738467e-04\n",
      "  -2.44647264e-04   1.00284815e-05   5.44864684e-03  -1.79067254e-03\n",
      "  -3.50184746e-01   2.96483815e-01  -9.00984419e+01  -1.05620084e+01\n",
      "  -4.47914000e+03   4.63493671e+03   2.42405937e-01   6.82004295e-01\n",
      "   1.34825706e-04  -1.08629465e-05  -1.85147373e-01   1.81560090e-01\n",
      "   1.05846065e+02  -1.47887470e-02   1.76721598e-01   2.03131203e-01\n",
      "  -6.54666526e-02  -5.18684275e-03  -6.39836909e-03]\n"
     ]
    }
   ],
   "source": [
    "plt.scatter(y_test, predictions)\n",
    "plt.xlabel(\"True Values\")\n",
    "plt.ylabel(\"Predictions\")\n",
    "plt.show()\n",
    "\n",
    "print(lm.coef_)"
   ]
  },
  {
   "cell_type": "code",
   "execution_count": 6,
   "metadata": {},
   "outputs": [
    {
     "name": "stdout",
     "output_type": "stream",
     "text": [
      "Cross-validated scores: [ 0.73063324  0.72703271  0.72987572  0.7381414 ]\n"
     ]
    }
   ],
   "source": [
    "scores = cross_val_score(model, df, y, cv=4)\n",
    "print(\"Cross-validated scores:\", scores)"
   ]
  },
  {
   "cell_type": "code",
   "execution_count": 7,
   "metadata": {},
   "outputs": [
    {
     "data": {
      "image/png": "[encoded data removed]",
      "text/plain": [
       "<matplotlib.figure.Figure at 0x24d1fb1fe48>"
      ]
     },
     "metadata": {},
     "output_type": "display_data"
    }
   ],
   "source": [
    "predictions = cross_val_predict(model, df, y, cv=4)\n",
    "plt.scatter(y, predictions)\n",
    "plt.show()"
   ]
  },
  {
   "cell_type": "code",
   "execution_count": 8,
   "metadata": {},
   "outputs": [
    {
     "name": "stdout",
     "output_type": "stream",
     "text": [
      "Cross-Predicted Accuracy: 0.731718062093\n"
     ]
    }
   ],
   "source": [
    "accuracy = metrics.r2_score(y, predictions)\n",
    "print(\"Cross-Predicted Accuracy:\", accuracy)"
   ]
  },
  {
   "cell_type": "code",
   "execution_count": 9,
   "metadata": {},
   "outputs": [
    {
     "name": "stdout",
     "output_type": "stream",
     "text": [
      "[ -2.83691236e+08   2.83691236e+08   2.83691236e+08   2.83691236e+08\n",
      "   2.83691236e+08   8.50242376e-03  -2.80496478e-03   1.04728788e-02\n",
      "   9.50181484e-03  -6.18168153e-04  -5.75035810e-05   2.10493803e-04\n",
      "  -3.71560454e-05   6.57998025e-04   5.74931502e-04  -1.74738467e-04\n",
      "  -2.44647264e-04   1.00284815e-05   5.44864684e-03  -1.79067254e-03\n",
      "  -3.50184746e-01   2.96483815e-01  -9.00984419e+01  -1.05620084e+01\n",
      "  -4.47914000e+03   4.63493671e+03   2.42405937e-01   6.82004295e-01\n",
      "   1.34825706e-04  -1.08629465e-05  -1.85147373e-01   1.81560090e-01\n",
      "   1.05846065e+02  -1.47887470e-02   1.76721598e-01   2.03131203e-01\n",
      "  -6.54666526e-02  -5.18684275e-03  -6.39836909e-03]\n"
     ]
    }
   ],
   "source": [
    "print(lm.coef_)"
   ]
  }
 ],
 "metadata": {
  "kernelspec": {
   "display_name": "Python 3",
   "language": "python",
   "name": "python3"
  },
  "language_info": {
   "codemirror_mode": {
    "name": "ipython",
    "version": 3
   },
   "file_extension": ".py",
   "mimetype": "text/x-python",
   "name": "python",
   "nbconvert_exporter": "python",
   "pygments_lexer": "ipython3",
   "version": "3.6.3"
  }
 },
 "nbformat": 4,
 "nbformat_minor": 2
}
