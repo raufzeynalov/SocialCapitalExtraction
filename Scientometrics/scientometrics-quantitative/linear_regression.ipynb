{
 "cells": [
  {
   "cell_type": "code",
   "execution_count": 1,
   "metadata": {
    "collapsed": true
   },
   "outputs": [],
   "source": [
    "import pandas as pd\n",
    "from sklearn import datasets, linear_model\n",
    "from sklearn.model_selection import train_test_split, cross_val_score, cross_val_predict\n",
    "from matplotlib import pyplot as plt\n",
    "from sklearn import metrics"
   ]
  },
  {
   "cell_type": "code",
   "execution_count": 2,
   "metadata": {
    "collapsed": true,
    "scrolled": false
   },
   "outputs": [],
   "source": [
    "# read the data\n",
    "preprocessed_data = pd.read_pickle('../data/preprocessed_science_quantitative.pd')\n",
    "\n",
    "# Create a dataframe\n",
    "df = pd.DataFrame(preprocessed_data)\n",
    "y = df['score'].copy()\n",
    "df.drop('score', axis=1, inplace=True) "
   ]
  },
  {
   "cell_type": "code",
   "execution_count": 3,
   "metadata": {
    "collapsed": true
   },
   "outputs": [],
   "source": [
    "# create training and testing vars\n",
    "X_train, X_test, y_train, y_test = train_test_split(df, y, test_size=0.2)"
   ]
  },
  {
   "cell_type": "code",
   "execution_count": 4,
   "metadata": {
    "collapsed": true
   },
   "outputs": [],
   "source": [
    "lm = linear_model.LinearRegression()\n",
    "model = lm.fit(X_train, y_train)\n",
    "predictions = lm.predict(X_test)"
   ]
  },
  {
   "cell_type": "code",
   "execution_count": 5,
   "metadata": {
    "scrolled": true
   },
   "outputs": [
    {
     "data": {
      "image/png": "[encoded data removed]",
      "text/plain": [
       "<matplotlib.figure.Figure at 0x2fa063ef828>"
      ]
     },
     "metadata": {},
     "output_type": "display_data"
    },
    {
     "name": "stdout",
     "output_type": "stream",
     "text": [
      "[  3.89281032e-10   7.13963392e-05   4.61411613e-04   1.04674270e-04\n",
      "  -3.05595641e-04  -7.62005612e-04   8.42628140e-03  -2.70182586e-03\n",
      "   9.92278475e-03   9.39815979e-03  -7.08503611e-04  -6.16980311e-05\n",
      "   1.98869782e-04  -2.65256816e-05   6.56199211e-04   5.68523323e-04\n",
      "  -1.47146249e-04  -2.39119008e-04   9.65206848e-06   5.52454371e-03\n",
      "  -1.75899751e-03  -3.30956147e-01   2.87617476e-01  -8.73862524e+01\n",
      "  -1.14354613e+01  -4.58754506e+03   4.67159926e+03   1.65260847e-01\n",
      "   5.73321753e-01   1.43678855e-04  -1.39833925e-05  -1.85098752e-01\n",
      "   1.81559427e-01   9.46216041e+01   1.02128244e+00   1.93969261e-01\n",
      "   1.90134660e-01  -6.80791820e-02  -5.17989843e-03  -6.47091217e-03]\n"
     ]
    }
   ],
   "source": [
    "plt.scatter(y_test, predictions)\n",
    "plt.xlabel(\"True Values\")\n",
    "plt.ylabel(\"Predictions\")\n",
    "plt.show()\n",
    "\n",
    "print(lm.coef_)"
   ]
  },
  {
   "cell_type": "code",
   "execution_count": 6,
   "metadata": {},
   "outputs": [
    {
     "name": "stdout",
     "output_type": "stream",
     "text": [
      "Cross-validated scores: [ 0.72897138  0.7305892   0.72305182  0.74019421  0.71855265  0.71753861\n",
      "  0.74491782  0.72417849  0.72689224  0.75448706]\n"
     ]
    }
   ],
   "source": [
    "scores = cross_val_score(model, df, y, cv=10)\n",
    "print(\"Cross-validated scores:\", scores)"
   ]
  },
  {
   "cell_type": "code",
   "execution_count": 7,
   "metadata": {},
   "outputs": [
    {
     "data": {
      "image/png": "[encoded data removed]",
      "text/plain": [
       "<matplotlib.figure.Figure at 0x2fa0620d4e0>"
      ]
     },
     "metadata": {},
     "output_type": "display_data"
    }
   ],
   "source": [
    "predictions = cross_val_predict(model, df, y, cv=10)\n",
    "plt.scatter(y, predictions)\n",
    "plt.show()"
   ]
  },
  {
   "cell_type": "code",
   "execution_count": 8,
   "metadata": {},
   "outputs": [
    {
     "name": "stdout",
     "output_type": "stream",
     "text": [
      "Cross-Predicted Accuracy: 0.731892847189\n"
     ]
    }
   ],
   "source": [
    "accuracy = metrics.r2_score(y, predictions)\n",
    "print(\"Cross-Predicted Accuracy:\", accuracy)"
   ]
  },
  {
   "cell_type": "code",
   "execution_count": 9,
   "metadata": {},
   "outputs": [
    {
     "name": "stdout",
     "output_type": "stream",
     "text": [
      "[  3.89281032e-10   7.13963392e-05   4.61411613e-04   1.04674270e-04\n",
      "  -3.05595641e-04  -7.62005612e-04   8.42628140e-03  -2.70182586e-03\n",
      "   9.92278475e-03   9.39815979e-03  -7.08503611e-04  -6.16980311e-05\n",
      "   1.98869782e-04  -2.65256816e-05   6.56199211e-04   5.68523323e-04\n",
      "  -1.47146249e-04  -2.39119008e-04   9.65206848e-06   5.52454371e-03\n",
      "  -1.75899751e-03  -3.30956147e-01   2.87617476e-01  -8.73862524e+01\n",
      "  -1.14354613e+01  -4.58754506e+03   4.67159926e+03   1.65260847e-01\n",
      "   5.73321753e-01   1.43678855e-04  -1.39833925e-05  -1.85098752e-01\n",
      "   1.81559427e-01   9.46216041e+01   1.02128244e+00   1.93969261e-01\n",
      "   1.90134660e-01  -6.80791820e-02  -5.17989843e-03  -6.47091217e-03]\n"
     ]
    }
   ],
   "source": [
    "print(lm.coef_)"
   ]
  }
 ],
 "metadata": {
  "kernelspec": {
   "display_name": "Python 3",
   "language": "python",
   "name": "python3"
  },
  "language_info": {
   "codemirror_mode": {
    "name": "ipython",
    "version": 3
   },
   "file_extension": ".py",
   "mimetype": "text/x-python",
   "name": "python",
   "nbconvert_exporter": "python",
   "pygments_lexer": "ipython3",
   "version": "3.6.3"
  }
 },
 "nbformat": 4,
 "nbformat_minor": 2
}
