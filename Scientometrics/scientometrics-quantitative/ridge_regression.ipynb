{
 "cells": [
  {
   "cell_type": "code",
   "execution_count": 1,
   "metadata": {},
   "outputs": [
    {
     "name": "stderr",
     "output_type": "stream",
     "text": [
      "C:\\ProgramData\\Anaconda3\\lib\\site-packages\\statsmodels\\compat\\pandas.py:56: FutureWarning: The pandas.core.datetools module is deprecated and will be removed in a future version. Please use the pandas.tseries module instead.\n",
      "  from pandas.core import datetools\n"
     ]
    }
   ],
   "source": [
    "#imports\n",
    "import numpy as np\n",
    "import pandas as pd\n",
    "from hyperopt import hp\n",
    "from hyperopt.pyll import scope\n",
    "from sklearn.model_selection import train_test_split\n",
    "from sklearn.pipeline import Pipeline\n",
    "from sklearn import linear_model\n",
    "\n",
    "import os\n",
    "import sys\n",
    "module_path = os.path.abspath(os.path.join('../..'))\n",
    "if module_path not in sys.path:\n",
    "    sys.path.append(module_path)\n",
    "\n",
    "from models.hyperopt_model import HyperoptModel"
   ]
  },
  {
   "cell_type": "code",
   "execution_count": 2,
   "metadata": {
    "collapsed": true,
    "scrolled": false
   },
   "outputs": [],
   "source": [
    "# read the data\n",
    "preprocessed_data = pd.read_pickle('../data/preprocessed_science_quantitative.pd')\n",
    "\n",
    "# Create a dataframe\n",
    "df = pd.DataFrame(preprocessed_data)"
   ]
  },
  {
   "cell_type": "code",
   "execution_count": 3,
   "metadata": {
    "collapsed": true
   },
   "outputs": [],
   "source": [
    "# Create two new dataframes, one with the training rows, one with the test rows\n",
    "train, test=train_test_split(df, test_size=0.2, random_state=0)"
   ]
  },
  {
   "cell_type": "code",
   "execution_count": null,
   "metadata": {},
   "outputs": [
    {
     "name": "stdout",
     "output_type": "stream",
     "text": [
      "Number of observations in the training data: 79342\n",
      "Number of observations in the test data: 19836\n"
     ]
    }
   ],
   "source": [
    "# Show the number of observations for the test and training dataframes\n",
    "print('Number of observations in the training data:', len(train))\n",
    "print('Number of observations in the test data:',len(test))"
   ]
  },
  {
   "cell_type": "code",
   "execution_count": null,
   "metadata": {
    "scrolled": true
   },
   "outputs": [
    {
     "name": "stdout",
     "output_type": "stream",
     "text": [
      "Performing parameters optimization...\n",
      "[1/500]\tcv_eval_time=4.54 sec\tRMSE=0.104824\tR^2=0.725868\n",
      "[2/500]\tcv_eval_time=4.35 sec\tRMSE=0.105750\tR^2=0.721068\n",
      "[3/500]\tcv_eval_time=4.19 sec\tRMSE=0.106190\tR^2=0.718636\n",
      "[4/500]\tcv_eval_time=4.53 sec\tRMSE=0.105372\tR^2=0.723028\n",
      "[5/500]\tcv_eval_time=4.40 sec\tRMSE=0.105996\tR^2=0.719756\n",
      "[6/500]\tcv_eval_time=4.31 sec\tRMSE=0.106017\tR^2=0.719562\n",
      "[7/500]\tcv_eval_time=3.96 sec\tRMSE=0.105405\tR^2=0.722798\n",
      "[8/500]\tcv_eval_time=4.05 sec\tRMSE=0.105733\tR^2=0.721074\n",
      "[9/500]\tcv_eval_time=3.99 sec\tRMSE=0.106060\tR^2=0.719440\n",
      "[10/500]\tcv_eval_time=4.19 sec\tRMSE=0.105634\tR^2=0.721522\n",
      "[11/500]\tcv_eval_time=3.98 sec\tRMSE=0.105635\tR^2=0.721648\n",
      "[12/500]\tcv_eval_time=4.04 sec\tRMSE=0.104414\tR^2=0.728021\n",
      "[13/500]\tcv_eval_time=3.88 sec\tRMSE=0.105820\tR^2=0.720670\n",
      "[14/500]\tcv_eval_time=3.82 sec\tRMSE=0.104957\tR^2=0.725186\n",
      "[15/500]\tcv_eval_time=3.99 sec\tRMSE=0.104706\tR^2=0.726539\n",
      "[16/500]\tcv_eval_time=4.10 sec\tRMSE=0.105618\tR^2=0.721673\n",
      "[17/500]\tcv_eval_time=4.17 sec\tRMSE=0.104405\tR^2=0.728062\n",
      "[18/500]\tcv_eval_time=4.06 sec\tRMSE=0.105853\tR^2=0.720453\n",
      "[19/500]\tcv_eval_time=3.86 sec\tRMSE=0.105475\tR^2=0.722500\n",
      "[20/500]\tcv_eval_time=4.06 sec\tRMSE=0.106209\tR^2=0.718631\n",
      "[21/500]\tcv_eval_time=3.97 sec\tRMSE=0.104448\tR^2=0.727801\n",
      "[22/500]\tcv_eval_time=4.19 sec\tRMSE=0.105130\tR^2=0.724336\n",
      "[23/500]\tcv_eval_time=3.95 sec\tRMSE=0.104452\tR^2=0.727760\n",
      "[24/500]\tcv_eval_time=4.57 sec\tRMSE=0.105110\tR^2=0.724366\n",
      "[25/500]\tcv_eval_time=4.86 sec\tRMSE=0.104365\tR^2=0.728289\n",
      "[26/500]\tcv_eval_time=4.70 sec\tRMSE=0.105256\tR^2=0.723632\n",
      "[27/500]\tcv_eval_time=4.09 sec\tRMSE=0.104735\tR^2=0.726372\n",
      "[28/500]\tcv_eval_time=3.92 sec\tRMSE=0.104992\tR^2=0.724978\n",
      "[29/500]\tcv_eval_time=4.42 sec\tRMSE=0.104365\tR^2=0.728303\n",
      "[30/500]\tcv_eval_time=4.46 sec\tRMSE=0.104773\tR^2=0.726137\n",
      "[31/500]\tcv_eval_time=3.90 sec\tRMSE=0.105506\tR^2=0.722357\n",
      "[32/500]\tcv_eval_time=3.97 sec\tRMSE=0.106346\tR^2=0.717840\n",
      "[33/500]\tcv_eval_time=4.00 sec\tRMSE=0.105272\tR^2=0.723606\n",
      "[34/500]\tcv_eval_time=4.13 sec\tRMSE=0.105182\tR^2=0.724015\n",
      "[35/500]\tcv_eval_time=4.16 sec\tRMSE=0.104896\tR^2=0.725561\n",
      "[36/500]\tcv_eval_time=3.95 sec\tRMSE=0.105350\tR^2=0.723043\n",
      "[37/500]\tcv_eval_time=3.92 sec\tRMSE=0.104673\tR^2=0.726580\n",
      "[38/500]\tcv_eval_time=4.11 sec\tRMSE=0.106360\tR^2=0.717719\n",
      "[39/500]\tcv_eval_time=4.11 sec\tRMSE=0.105555\tR^2=0.722074\n",
      "[40/500]\tcv_eval_time=4.05 sec\tRMSE=0.105887\tR^2=0.720274\n",
      "[41/500]\tcv_eval_time=4.95 sec\tRMSE=0.106202\tR^2=0.718642\n",
      "[42/500]\tcv_eval_time=4.02 sec\tRMSE=0.105742\tR^2=0.721094\n",
      "[43/500]\tcv_eval_time=3.92 sec\tRMSE=0.106104\tR^2=0.719103\n",
      "[44/500]\tcv_eval_time=4.12 sec\tRMSE=0.105049\tR^2=0.724718\n",
      "[45/500]\tcv_eval_time=3.89 sec\tRMSE=0.104589\tR^2=0.727021\n",
      "[46/500]\tcv_eval_time=4.01 sec\tRMSE=0.105955\tR^2=0.719904\n",
      "[47/500]\tcv_eval_time=3.72 sec\tRMSE=0.105365\tR^2=0.723057\n",
      "[48/500]\tcv_eval_time=3.77 sec\tRMSE=0.104870\tR^2=0.725625\n",
      "[49/500]\tcv_eval_time=3.74 sec\tRMSE=0.104330\tR^2=0.728357\n",
      "[50/500]\tcv_eval_time=3.72 sec\tRMSE=0.105433\tR^2=0.722739\n",
      "[51/500]\tcv_eval_time=3.72 sec\tRMSE=0.105259\tR^2=0.723497\n",
      "[52/500]\tcv_eval_time=3.85 sec\tRMSE=0.106246\tR^2=0.718360\n",
      "[53/500]\tcv_eval_time=3.82 sec\tRMSE=0.105720\tR^2=0.721161\n",
      "[54/500]\tcv_eval_time=3.82 sec\tRMSE=0.105571\tR^2=0.722037\n",
      "[55/500]\tcv_eval_time=3.74 sec\tRMSE=0.106091\tR^2=0.719198\n",
      "[56/500]\tcv_eval_time=3.76 sec\tRMSE=0.104932\tR^2=0.725363\n",
      "[57/500]\tcv_eval_time=3.85 sec\tRMSE=0.104531\tR^2=0.727402\n",
      "[58/500]\tcv_eval_time=3.72 sec\tRMSE=0.105074\tR^2=0.724601\n",
      "[59/500]\tcv_eval_time=3.74 sec\tRMSE=0.105179\tR^2=0.724026\n",
      "[60/500]\tcv_eval_time=3.89 sec\tRMSE=0.105820\tR^2=0.720720\n",
      "[61/500]\tcv_eval_time=3.80 sec\tRMSE=0.104784\tR^2=0.726069\n",
      "[62/500]\tcv_eval_time=3.79 sec\tRMSE=0.105309\tR^2=0.723338\n",
      "[63/500]\tcv_eval_time=3.85 sec\tRMSE=0.104359\tR^2=0.728292\n",
      "[64/500]\tcv_eval_time=3.83 sec\tRMSE=0.105007\tR^2=0.724907\n",
      "[65/500]\tcv_eval_time=3.82 sec\tRMSE=0.104569\tR^2=0.727172\n",
      "[66/500]\tcv_eval_time=3.95 sec\tRMSE=0.104361\tR^2=0.728239\n",
      "[67/500]\tcv_eval_time=3.94 sec\tRMSE=0.104841\tR^2=0.725809\n",
      "[68/500]\tcv_eval_time=4.08 sec\tRMSE=0.104395\tR^2=0.728149\n",
      "[69/500]\tcv_eval_time=4.07 sec\tRMSE=0.104668\tR^2=0.726708\n",
      "[70/500]\tcv_eval_time=3.94 sec\tRMSE=0.105137\tR^2=0.724286\n",
      "[71/500]\tcv_eval_time=3.95 sec\tRMSE=0.104503\tR^2=0.727571\n",
      "[72/500]\tcv_eval_time=3.96 sec\tRMSE=0.104961\tR^2=0.725105\n",
      "[73/500]\tcv_eval_time=3.96 sec\tRMSE=0.105215\tR^2=0.723771\n",
      "[74/500]\tcv_eval_time=3.97 sec\tRMSE=0.104366\tR^2=0.728273\n",
      "[75/500]\tcv_eval_time=4.00 sec\tRMSE=0.104695\tR^2=0.726552\n",
      "[76/500]\tcv_eval_time=4.07 sec\tRMSE=0.104817\tR^2=0.725868\n",
      "[77/500]\tcv_eval_time=3.94 sec\tRMSE=0.106312\tR^2=0.718043\n",
      "[78/500]\tcv_eval_time=3.95 sec\tRMSE=0.105495\tR^2=0.722360\n",
      "[79/500]\tcv_eval_time=3.88 sec\tRMSE=0.104613\tR^2=0.726929\n",
      "[80/500]\tcv_eval_time=3.74 sec\tRMSE=0.104361\tR^2=0.728254\n",
      "[81/500]\tcv_eval_time=3.83 sec\tRMSE=0.105672\tR^2=0.721388\n",
      "[82/500]\tcv_eval_time=3.74 sec\tRMSE=0.105083\tR^2=0.724615\n",
      "[83/500]\tcv_eval_time=3.77 sec\tRMSE=0.105312\tR^2=0.723336\n",
      "[84/500]\tcv_eval_time=3.91 sec\tRMSE=0.105939\tR^2=0.720045\n",
      "[85/500]\tcv_eval_time=3.78 sec\tRMSE=0.104934\tR^2=0.725237\n",
      "[86/500]\tcv_eval_time=3.86 sec\tRMSE=0.105416\tR^2=0.722786\n",
      "[87/500]\tcv_eval_time=3.86 sec\tRMSE=0.105555\tR^2=0.722026\n",
      "[88/500]\tcv_eval_time=3.78 sec\tRMSE=0.105015\tR^2=0.724958\n",
      "[89/500]\tcv_eval_time=3.83 sec\tRMSE=0.104495\tR^2=0.727638\n",
      "[90/500]\tcv_eval_time=3.95 sec\tRMSE=0.105197\tR^2=0.723870\n",
      "[91/500]\tcv_eval_time=3.92 sec\tRMSE=0.104749\tR^2=0.726228\n",
      "[92/500]\tcv_eval_time=3.85 sec\tRMSE=0.105599\tR^2=0.721849\n",
      "[93/500]\tcv_eval_time=3.85 sec\tRMSE=0.106035\tR^2=0.719460\n",
      "[94/500]\tcv_eval_time=3.89 sec\tRMSE=0.105772\tR^2=0.720797\n",
      "[95/500]\tcv_eval_time=3.78 sec\tRMSE=0.105387\tR^2=0.722925\n",
      "[96/500]\tcv_eval_time=3.93 sec\tRMSE=0.104899\tR^2=0.725482\n",
      "[97/500]\tcv_eval_time=3.72 sec\tRMSE=0.104637\tR^2=0.726827\n",
      "[98/500]\tcv_eval_time=3.70 sec\tRMSE=0.105309\tR^2=0.723271\n",
      "[99/500]\tcv_eval_time=3.82 sec\tRMSE=0.105114\tR^2=0.724409\n",
      "[100/500]\tcv_eval_time=3.90 sec\tRMSE=0.106135\tR^2=0.719028\n",
      "[101/500]\tcv_eval_time=3.80 sec\tRMSE=0.105462\tR^2=0.722463\n",
      "[102/500]\tcv_eval_time=3.74 sec\tRMSE=0.105154\tR^2=0.724128\n",
      "[103/500]\tcv_eval_time=3.80 sec\tRMSE=0.105002\tR^2=0.724912\n",
      "[104/500]\tcv_eval_time=3.77 sec\tRMSE=0.104786\tR^2=0.726143\n",
      "[105/500]\tcv_eval_time=3.74 sec\tRMSE=0.104473\tR^2=0.727763\n",
      "[106/500]\tcv_eval_time=3.81 sec\tRMSE=0.104579\tR^2=0.727190\n",
      "[107/500]\tcv_eval_time=3.73 sec\tRMSE=0.104360\tR^2=0.728213\n",
      "[108/500]\tcv_eval_time=3.77 sec\tRMSE=0.104865\tR^2=0.725710\n",
      "[109/500]\tcv_eval_time=3.80 sec\tRMSE=0.106236\tR^2=0.718399\n",
      "[110/500]\tcv_eval_time=3.80 sec\tRMSE=0.105874\tR^2=0.720223\n",
      "[111/500]\tcv_eval_time=3.75 sec\tRMSE=0.104719\tR^2=0.726506\n",
      "[112/500]\tcv_eval_time=3.70 sec\tRMSE=0.105528\tR^2=0.722171\n",
      "[113/500]\tcv_eval_time=3.80 sec\tRMSE=0.105664\tR^2=0.721469\n",
      "[114/500]\tcv_eval_time=3.81 sec\tRMSE=0.105351\tR^2=0.723095\n",
      "[115/500]\tcv_eval_time=3.74 sec\tRMSE=0.105047\tR^2=0.724589\n",
      "[116/500]\tcv_eval_time=3.85 sec\tRMSE=0.105719\tR^2=0.721129\n",
      "[117/500]\tcv_eval_time=3.86 sec\tRMSE=0.105228\tR^2=0.723820\n",
      "[118/500]\tcv_eval_time=3.82 sec\tRMSE=0.104952\tR^2=0.725206\n",
      "[119/500]\tcv_eval_time=3.90 sec\tRMSE=0.104427\tR^2=0.727967\n",
      "[120/500]\tcv_eval_time=3.91 sec\tRMSE=0.104520\tR^2=0.727465\n",
      "[121/500]\tcv_eval_time=3.91 sec\tRMSE=0.105974\tR^2=0.719830\n",
      "[122/500]\tcv_eval_time=3.87 sec\tRMSE=0.105274\tR^2=0.723502\n",
      "[123/500]\tcv_eval_time=3.83 sec\tRMSE=0.104814\tR^2=0.725925\n",
      "[124/500]\tcv_eval_time=3.72 sec\tRMSE=0.104342\tR^2=0.728463\n",
      "[125/500]\tcv_eval_time=3.69 sec\tRMSE=0.105846\tR^2=0.720589\n",
      "[126/500]\tcv_eval_time=3.71 sec\tRMSE=0.104643\tR^2=0.726780\n",
      "[127/500]\tcv_eval_time=3.76 sec\tRMSE=0.106066\tR^2=0.719340\n",
      "[128/500]\tcv_eval_time=3.78 sec\tRMSE=0.105111\tR^2=0.724360\n",
      "[129/500]\tcv_eval_time=3.77 sec\tRMSE=0.105434\tR^2=0.722548\n",
      "[130/500]\tcv_eval_time=3.70 sec\tRMSE=0.106299\tR^2=0.718045\n",
      "[131/500]\tcv_eval_time=3.76 sec\tRMSE=0.104908\tR^2=0.725362\n"
     ]
    }
   ],
   "source": [
    "    #some parameters\n",
    "    DO_LOWESS = False\n",
    "    hyperopt = True\n",
    "    # Run Ridge Regression with hyperopt optimization\n",
    "    ridge = HyperoptModel(train.copy(), test.copy(),'ridge', cv=10, max_evals = 500)\n",
    "    features = list(df)\n",
    "    features.remove('score')\n",
    "    ridge.raw_features = features\n",
    "\n",
    "    ridge.pipeline = Pipeline([\n",
    "        ('estimate', linear_model.Ridge())\n",
    "    ])\n",
    "    \n",
    "    ridge.space = {\n",
    "        'estimate__alpha': hp.uniform('estimate__alpha', 0, 1000),\n",
    "    }\n",
    "\n",
    "    if hyperopt:\n",
    "        ridge.run(do_lowess=DO_LOWESS)\n",
    "    else:\n",
    "        # train with default params\n",
    "        ridge.pipeline.fit(X=cat.X_train, y=cat.y_train)\n",
    "        ridge.model = cat.pipeline\n",
    "        ridge.stats()\n",
    "        ridge.plot_feature_importance()\n",
    "        ridge.plot_predicted_vs_actual(do_lowess=DO_LOWESS)\n",
    "        ridge.qq_plot()"
   ]
  }
 ],
 "metadata": {
  "kernelspec": {
   "display_name": "Python 3",
   "language": "python",
   "name": "python3"
  },
  "language_info": {
   "codemirror_mode": {
    "name": "ipython",
    "version": 3
   },
   "file_extension": ".py",
   "mimetype": "text/x-python",
   "name": "python",
   "nbconvert_exporter": "python",
   "pygments_lexer": "ipython3",
   "version": "3.6.3"
  }
 },
 "nbformat": 4,
 "nbformat_minor": 2
}
