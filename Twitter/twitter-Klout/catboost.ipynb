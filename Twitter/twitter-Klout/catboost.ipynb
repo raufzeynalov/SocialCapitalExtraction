{
 "cells": [
  {
   "cell_type": "code",
   "execution_count": 1,
   "metadata": {},
   "outputs": [
    {
     "name": "stderr",
     "output_type": "stream",
     "text": [
      "C:\\ProgramData\\Anaconda3\\lib\\site-packages\\statsmodels\\compat\\pandas.py:56: FutureWarning: The pandas.core.datetools module is deprecated and will be removed in a future version. Please use the pandas.tseries module instead.\n",
      "  from pandas.core import datetools\n"
     ]
    }
   ],
   "source": [
    "#imports\n",
    "import numpy as np\n",
    "import pandas as pd\n",
    "from catboost import CatBoostRegressor\n",
    "from hyperopt import hp\n",
    "from hyperopt.pyll import scope\n",
    "from sklearn.model_selection import train_test_split\n",
    "from sklearn.pipeline import Pipeline\n",
    "from catboost import CatBoostRegressor\n",
    "\n",
    "import os\n",
    "import sys\n",
    "module_path = os.path.abspath(os.path.join('../..'))\n",
    "if module_path not in sys.path:\n",
    "    sys.path.append(module_path)\n",
    "\n",
    "from models.hyperopt_model import HyperoptModel"
   ]
  },
  {
   "cell_type": "code",
   "execution_count": 2,
   "metadata": {
    "collapsed": true,
    "scrolled": false
   },
   "outputs": [],
   "source": [
    "# read the data\n",
    "preprocessed_data = pd.read_pickle('../data/preprocessed_twitter_Klout.pd')\n",
    "\n",
    "# Create a dataframe\n",
    "df = pd.DataFrame(preprocessed_data)"
   ]
  },
  {
   "cell_type": "code",
   "execution_count": 3,
   "metadata": {
    "collapsed": true
   },
   "outputs": [],
   "source": [
    "# Create two new dataframes, one with the training rows, one with the test rows\n",
    "train, test=train_test_split(df, test_size=0.2, random_state=0)"
   ]
  },
  {
   "cell_type": "code",
   "execution_count": null,
   "metadata": {},
   "outputs": [
    {
     "name": "stdout",
     "output_type": "stream",
     "text": [
      "Number of observations in the training data: 18680\n",
      "Number of observations in the test data: 4670\n"
     ]
    }
   ],
   "source": [
    "# Show the number of observations for the test and training dataframes\n",
    "print('Number of observations in the training data:', len(train))\n",
    "print('Number of observations in the test data:',len(test))"
   ]
  },
  {
   "cell_type": "code",
   "execution_count": null,
   "metadata": {
    "scrolled": true
   },
   "outputs": [
    {
     "name": "stdout",
     "output_type": "stream",
     "text": [
      "Performing parameters optimization...\n",
      "[1/50]\tcv_eval_time=471.69 sec\tRMSE=0.124280\tR^2=0.642152\n",
      "[2/50]\tcv_eval_time=424.59 sec\tRMSE=0.131086\tR^2=0.596465\n",
      "[3/50]\tcv_eval_time=396.69 sec\tRMSE=0.129723\tR^2=0.607653\n",
      "[4/50]\tcv_eval_time=391.77 sec\tRMSE=0.124144\tR^2=0.640834\n",
      "[5/50]\tcv_eval_time=376.33 sec\tRMSE=0.130298\tR^2=0.604819\n",
      "[6/50]\tcv_eval_time=388.74 sec\tRMSE=0.142069\tR^2=0.528708\n",
      "[7/50]\tcv_eval_time=393.17 sec\tRMSE=0.124385\tR^2=0.639336\n",
      "[8/50]\tcv_eval_time=344.05 sec\tRMSE=0.125339\tR^2=0.635476\n",
      "[9/50]\tcv_eval_time=336.98 sec\tRMSE=0.143896\tR^2=0.520870\n",
      "[10/50]\tcv_eval_time=332.02 sec\tRMSE=0.124557\tR^2=0.635128\n",
      "[11/50]\tcv_eval_time=332.12 sec\tRMSE=0.127106\tR^2=0.622106\n",
      "[12/50]\tcv_eval_time=332.59 sec\tRMSE=0.123846\tR^2=0.641363\n",
      "[13/50]\tcv_eval_time=331.48 sec\tRMSE=0.153219\tR^2=0.459772\n",
      "[14/50]\tcv_eval_time=326.48 sec\tRMSE=0.128533\tR^2=0.614546\n",
      "[15/50]\tcv_eval_time=322.69 sec\tRMSE=0.130124\tR^2=0.604931\n",
      "[16/50]\tcv_eval_time=259.62 sec\tRMSE=0.126325\tR^2=0.627677\n",
      "[17/50]\tcv_eval_time=248.58 sec\tRMSE=0.130682\tR^2=0.607187\n",
      "[18/50]\tcv_eval_time=253.24 sec\tRMSE=0.124160\tR^2=0.639221\n",
      "[19/50]\tcv_eval_time=257.75 sec\tRMSE=0.126614\tR^2=0.626345\n",
      "[20/50]\tcv_eval_time=239.65 sec\tRMSE=0.124041\tR^2=0.641798\n",
      "[21/50]\tcv_eval_time=239.97 sec\tRMSE=0.123927\tR^2=0.641355\n",
      "[22/50]\tcv_eval_time=246.59 sec\tRMSE=0.124636\tR^2=0.638701\n",
      "[23/50]\tcv_eval_time=263.14 sec\tRMSE=0.124767\tR^2=0.637771\n",
      "[24/50]\tcv_eval_time=250.32 sec\tRMSE=0.124241\tR^2=0.639501\n",
      "[25/50]\tcv_eval_time=245.73 sec\tRMSE=0.124045\tR^2=0.640550\n",
      "[26/50]\tcv_eval_time=261.79 sec\tRMSE=0.125079\tR^2=0.635611\n",
      "[27/50]\tcv_eval_time=256.23 sec\tRMSE=0.124181\tR^2=0.641092\n",
      "[28/50]\tcv_eval_time=262.65 sec\tRMSE=0.125753\tR^2=0.633672\n",
      "[29/50]\tcv_eval_time=258.48 sec\tRMSE=0.124020\tR^2=0.640351\n",
      "[30/50]\tcv_eval_time=258.14 sec\tRMSE=0.124278\tR^2=0.639153\n",
      "[31/50]\tcv_eval_time=268.84 sec\tRMSE=0.124292\tR^2=0.639802\n"
     ]
    }
   ],
   "source": [
    "    #some parameters\n",
    "    DO_LOWESS = False\n",
    "    hyperopt = True\n",
    "    # Run CatBoostRegressor with hyperopt optimization\n",
    "    cat = HyperoptModel(train.copy(), test.copy(),'cat', cv=3, max_evals = 50, n_jobs = 4)\n",
    "\n",
    "    cat.pipeline = Pipeline([\n",
    "        ('estimate', CatBoostRegressor())\n",
    "    ])\n",
    "    \n",
    "    features = list(df)\n",
    "    features.remove('score')\n",
    "    cat.raw_features = features\n",
    "    \n",
    "    cat.space = {\n",
    "        'estimate__iterations': hp.choice('estimate__iterations', [1300]),\n",
    "        'estimate__loss_function': hp.choice('estimate__loss_function', ['RMSE']),\n",
    "        'estimate__train_dir': hp.choice('estimate__train_dir', ['outputs/cat']),\n",
    "        'estimate__thread_count': hp.choice('estimate__thread_count', [4]),\n",
    "        'estimate__used_ram_limit': hp.choice('estimate__used_ram_limit', [1024 * 1024 * 1024 * 4]),  # 4gb\n",
    "        'estimate__random_seed': hp.choice('estimate__random_seed', [0]),\n",
    "\n",
    "        'estimate__learning_rate': hp.loguniform('estimate__learning_rate', -5, 0),\n",
    "        'estimate__random_strength': hp.choice('estimate__random_strength', [1, 20]),\n",
    "        'estimate__l2_leaf_reg': hp.loguniform('estimate__l2_leaf_reg', 0, np.log(10)),\n",
    "        'estimate__bagging_temperature': hp.uniform('estimate__bagging_temperature', 0, 1),\n",
    "    }\n",
    "\n",
    "    \"\"\"\n",
    "    find the best number of trees (following https://tech.yandex.com/catboost/doc/dg/concepts/parameter-tuning_trees-number-docpage/#parameter-tuning_trees-number)\n",
    "    need to also substitute the CatBoostRegressor parameters with:\n",
    "        ('estimate', CatBoostRegressor(iterations=10000, loss_function='RMSE', auto_stop_pval=1e-4, use_best_model=True, train_dir='outputs/cat_trees', verbose=True))\n",
    "    \"\"\"\n",
    "    # num_trees_train, num_trees_eval = train_test_split(train, test_size=0.2, random_state=0)\n",
    "    # X = num_trees_train[list(filter(lambda column: column in cat.raw_features, cat.train.columns))]\n",
    "    # y = num_trees_train['score']\n",
    "    #\n",
    "    # eval_X = num_trees_eval[list(filter(lambda column: column in cat.raw_features, cat.train.columns))]\n",
    "    # eval_X = cat.pipeline.named_steps['prepare_features'].fit_transform(eval_X)\n",
    "    # eval_set = (eval_X, num_trees_eval['score'])\n",
    "    #\n",
    "    # cat.pipeline.fit(X=X, y=y, estimate__eval_set=eval_set)\n",
    "    # cat.model = cat.pipeline\n",
    "    # print(cat.model.named_steps['estimate'].get_params())\n",
    "    # cat.model.named_steps['estimate'].save_model('tmp/cat.model'.encode('utf-8'))\n",
    "\n",
    "    if hyperopt:\n",
    "        cat.run(do_lowess=DO_LOWESS)\n",
    "    else:\n",
    "        # train with default params\n",
    "        cat.pipeline.fit(X=cat.X_train, y=cat.y_train)\n",
    "        cat.model = cat.pipeline\n",
    "        cat.stats()\n",
    "        cat.plot_predicted_vs_actual(do_lowess=DO_LOWESS)\n",
    "        cat.plot_feature_importance()\n",
    "        #cat.qq_plot()"
   ]
  },
  {
   "cell_type": "code",
   "execution_count": null,
   "metadata": {
    "collapsed": true
   },
   "outputs": [],
   "source": []
  }
 ],
 "metadata": {
  "kernelspec": {
   "display_name": "Python 3",
   "language": "python",
   "name": "python3"
  },
  "language_info": {
   "codemirror_mode": {
    "name": "ipython",
    "version": 3
   },
   "file_extension": ".py",
   "mimetype": "text/x-python",
   "name": "python",
   "nbconvert_exporter": "python",
   "pygments_lexer": "ipython3",
   "version": "3.6.3"
  }
 },
 "nbformat": 4,
 "nbformat_minor": 2
}
