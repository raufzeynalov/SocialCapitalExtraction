{
 "cells": [
  {
   "cell_type": "code",
   "execution_count": 1,
   "metadata": {},
   "outputs": [
    {
     "name": "stderr",
     "output_type": "stream",
     "text": [
      "C:\\ProgramData\\Anaconda3\\lib\\site-packages\\statsmodels\\compat\\pandas.py:56: FutureWarning: The pandas.core.datetools module is deprecated and will be removed in a future version. Please use the pandas.tseries module instead.\n",
      "  from pandas.core import datetools\n"
     ]
    }
   ],
   "source": [
    "#imports\n",
    "import numpy as np\n",
    "import pandas as pd\n",
    "from catboost import CatBoostRegressor\n",
    "from hyperopt import hp\n",
    "from hyperopt.pyll import scope\n",
    "from sklearn.model_selection import train_test_split\n",
    "from sklearn.pipeline import Pipeline\n",
    "from catboost import CatBoostRegressor\n",
    "\n",
    "import os\n",
    "import sys\n",
    "module_path = os.path.abspath(os.path.join('../..'))\n",
    "if module_path not in sys.path:\n",
    "    sys.path.append(module_path)\n",
    "\n",
    "from models.hyperopt_model import HyperoptModel"
   ]
  },
  {
   "cell_type": "code",
   "execution_count": 2,
   "metadata": {
    "collapsed": true,
    "scrolled": false
   },
   "outputs": [],
   "source": [
    "# read the data\n",
    "preprocessed_data = pd.read_pickle('../data/preprocessed_twitter_Klout.pd')\n",
    "\n",
    "# Create a dataframe\n",
    "df = pd.DataFrame(preprocessed_data)"
   ]
  },
  {
   "cell_type": "code",
   "execution_count": 3,
   "metadata": {
    "collapsed": true
   },
   "outputs": [],
   "source": [
    "# Create two new dataframes, one with the training rows, one with the test rows\n",
    "train, test=train_test_split(df, test_size=0.2, random_state=0)"
   ]
  },
  {
   "cell_type": "code",
   "execution_count": 4,
   "metadata": {},
   "outputs": [
    {
     "name": "stdout",
     "output_type": "stream",
     "text": [
      "Number of observations in the training data: 18680\n",
      "Number of observations in the test data: 4670\n"
     ]
    }
   ],
   "source": [
    "# Show the number of observations for the test and training dataframes\n",
    "print('Number of observations in the training data:', len(train))\n",
    "print('Number of observations in the test data:',len(test))"
   ]
  },
  {
   "cell_type": "code",
   "execution_count": 5,
   "metadata": {
    "scrolled": true
   },
   "outputs": [
    {
     "name": "stdout",
     "output_type": "stream",
     "text": [
      "Performing parameters optimization...\n",
      "[1/50]\tcv_eval_time=860.28 sec\tRMSE=0.125297\tR^2=0.635233\n",
      "[2/50]\tcv_eval_time=913.68 sec\tRMSE=0.135868\tR^2=0.568622\n",
      "[3/50]\tcv_eval_time=930.60 sec\tRMSE=0.129472\tR^2=0.609549\n",
      "[4/50]\tcv_eval_time=911.53 sec\tRMSE=0.124552\tR^2=0.637521\n",
      "[5/50]\tcv_eval_time=919.17 sec\tRMSE=0.126238\tR^2=0.628650\n",
      "[6/50]\tcv_eval_time=924.63 sec\tRMSE=0.153603\tR^2=0.435213\n",
      "[7/50]\tcv_eval_time=929.34 sec\tRMSE=0.126018\tR^2=0.628940\n",
      "[8/50]\tcv_eval_time=908.96 sec\tRMSE=0.126976\tR^2=0.624479\n",
      "[9/50]\tcv_eval_time=914.50 sec\tRMSE=0.136029\tR^2=0.578084\n",
      "[10/50]\tcv_eval_time=912.56 sec\tRMSE=0.124476\tR^2=0.639363\n",
      "[11/50]\tcv_eval_time=930.80 sec\tRMSE=0.123890\tR^2=0.642076\n",
      "[12/50]\tcv_eval_time=918.13 sec\tRMSE=0.124515\tR^2=0.637043\n",
      "[13/50]\tcv_eval_time=917.36 sec\tRMSE=0.123935\tR^2=0.641551\n",
      "[14/50]\tcv_eval_time=921.07 sec\tRMSE=0.125997\tR^2=0.630898\n",
      "[15/50]\tcv_eval_time=924.27 sec\tRMSE=0.132441\tR^2=0.586189\n",
      "[16/50]\tcv_eval_time=908.10 sec\tRMSE=0.130079\tR^2=0.602842\n",
      "[17/50]\tcv_eval_time=914.75 sec\tRMSE=0.126684\tR^2=0.624540\n",
      "[18/50]\tcv_eval_time=916.62 sec\tRMSE=0.128618\tR^2=0.616918\n",
      "[19/50]\tcv_eval_time=922.82 sec\tRMSE=0.124532\tR^2=0.639117\n",
      "[20/50]\tcv_eval_time=913.70 sec\tRMSE=0.124765\tR^2=0.638815\n",
      "[21/50]\tcv_eval_time=917.86 sec\tRMSE=0.124213\tR^2=0.641938\n",
      "[22/50]\tcv_eval_time=923.62 sec\tRMSE=0.123505\tR^2=0.642193\n",
      "[23/50]\tcv_eval_time=936.43 sec\tRMSE=0.123984\tR^2=0.642337\n",
      "[24/50]\tcv_eval_time=914.39 sec\tRMSE=0.123947\tR^2=0.641652\n",
      "[25/50]\tcv_eval_time=912.27 sec\tRMSE=0.125065\tR^2=0.635433\n",
      "[26/50]\tcv_eval_time=931.00 sec\tRMSE=0.125630\tR^2=0.635488\n",
      "[27/50]\tcv_eval_time=925.00 sec\tRMSE=0.123855\tR^2=0.640833\n",
      "[28/50]\tcv_eval_time=940.56 sec\tRMSE=0.124519\tR^2=0.640933\n",
      "[29/50]\tcv_eval_time=932.42 sec\tRMSE=0.124525\tR^2=0.639265\n",
      "[30/50]\tcv_eval_time=936.83 sec\tRMSE=0.126287\tR^2=0.628558\n",
      "[31/50]\tcv_eval_time=863.84 sec\tRMSE=0.144798\tR^2=0.500566\n",
      "[32/50]\tcv_eval_time=841.14 sec\tRMSE=0.125490\tR^2=0.633554\n",
      "[33/50]\tcv_eval_time=908.74 sec\tRMSE=0.124075\tR^2=0.638527\n",
      "[34/50]\tcv_eval_time=803.34 sec\tRMSE=0.124814\tR^2=0.638337\n",
      "[35/50]\tcv_eval_time=884.57 sec\tRMSE=0.124930\tR^2=0.635230\n",
      "[36/50]\tcv_eval_time=893.02 sec\tRMSE=0.125939\tR^2=0.632205\n",
      "[37/50]\tcv_eval_time=815.63 sec\tRMSE=0.137989\tR^2=0.557340\n",
      "[38/50]\tcv_eval_time=886.14 sec\tRMSE=0.128359\tR^2=0.617139\n",
      "[39/50]\tcv_eval_time=889.00 sec\tRMSE=0.126408\tR^2=0.627234\n",
      "[40/50]\tcv_eval_time=824.83 sec\tRMSE=0.124161\tR^2=0.640831\n",
      "[41/50]\tcv_eval_time=901.23 sec\tRMSE=0.125540\tR^2=0.635270\n",
      "[42/50]\tcv_eval_time=886.45 sec\tRMSE=0.124135\tR^2=0.640272\n",
      "[43/50]\tcv_eval_time=819.61 sec\tRMSE=0.124224\tR^2=0.639781\n",
      "[44/50]\tcv_eval_time=897.16 sec\tRMSE=0.129145\tR^2=0.611541\n",
      "[45/50]\tcv_eval_time=848.54 sec\tRMSE=0.124519\tR^2=0.639229\n",
      "[46/50]\tcv_eval_time=659.32 sec\tRMSE=0.132405\tR^2=0.592201\n",
      "[47/50]\tcv_eval_time=639.73 sec\tRMSE=0.125621\tR^2=0.632761\n",
      "[48/50]\tcv_eval_time=639.65 sec\tRMSE=0.124714\tR^2=0.638352\n",
      "[49/50]\tcv_eval_time=581.67 sec\tRMSE=0.127678\tR^2=0.618392\n",
      "[50/50]\tcv_eval_time=620.83 sec\tRMSE=0.125674\tR^2=0.632856\n",
      " elapsed time: 12h 8min 10s\n",
      "\n",
      "Stats (train | test):\n",
      "\tR^2 score:\t\t0.7364\n",
      "\t\t\t\t\t0.6580\n",
      "\tRMSE:\t\t\t0.1064\n",
      "\t\t\t\t\t0.1225\n",
      "\tMean error:\t\t0.0835\n",
      "\t\t\t\t\t0.0955\n",
      "\tPearson:\t\t0.8595\n",
      "\t\t\t\t\t0.8113\n",
      "\tSpearman:\t\t0.8507\n",
      "\t\t\t\t\t0.7997\n",
      "\tKendallTau:\t\t0.6684\n",
      "\t\t\t\t\t0.6142\n",
      "\n",
      "Best parameters set:\n",
      "{'estimate__bagging_temperature': 0.8020546879900031,\n",
      " 'estimate__iterations': 1300,\n",
      " 'estimate__l2_leaf_reg': 1.849825108578312,\n",
      " 'estimate__learning_rate': 0.03632998177162871,\n",
      " 'estimate__loss_function': 'RMSE',\n",
      " 'estimate__random_seed': 0,\n",
      " 'estimate__random_strength': 1,\n",
      " 'estimate__thread_count': 4,\n",
      " 'estimate__train_dir': 'outputs/cat',\n",
      " 'estimate__used_ram_limit': 4294967296}\n",
      "\n",
      "Could not create plots\n"
     ]
    }
   ],
   "source": [
    "    #some parameters\n",
    "    DO_LOWESS = False\n",
    "    hyperopt = True\n",
    "    # Run CatBoostRegressor with hyperopt optimization\n",
    "    cat = HyperoptModel(train.copy(), test.copy(),'cat', cv=3, max_evals = 50)\n",
    "\n",
    "    cat.pipeline = Pipeline([\n",
    "        ('estimate', CatBoostRegressor())\n",
    "    ])\n",
    "    \n",
    "    features = list(df)\n",
    "    features.remove('score')\n",
    "    cat.raw_features = features\n",
    "    \n",
    "    cat.space = {\n",
    "        'estimate__iterations': hp.choice('estimate__iterations', [1300]),\n",
    "        'estimate__loss_function': hp.choice('estimate__loss_function', ['RMSE']),\n",
    "        'estimate__train_dir': hp.choice('estimate__train_dir', ['outputs/cat']),\n",
    "        'estimate__thread_count': hp.choice('estimate__thread_count', [4]),\n",
    "        'estimate__used_ram_limit': hp.choice('estimate__used_ram_limit', [1024 * 1024 * 1024 * 4]),  # 4gb\n",
    "        'estimate__random_seed': hp.choice('estimate__random_seed', [0]),\n",
    "\n",
    "        'estimate__learning_rate': hp.loguniform('estimate__learning_rate', -5, 0),\n",
    "        'estimate__random_strength': hp.choice('estimate__random_strength', [1, 20]),\n",
    "        'estimate__l2_leaf_reg': hp.loguniform('estimate__l2_leaf_reg', 0, np.log(10)),\n",
    "        'estimate__bagging_temperature': hp.uniform('estimate__bagging_temperature', 0, 1),\n",
    "    }\n",
    "\n",
    "    \"\"\"\n",
    "    find the best number of trees (following https://tech.yandex.com/catboost/doc/dg/concepts/parameter-tuning_trees-number-docpage/#parameter-tuning_trees-number)\n",
    "    need to also substitute the CatBoostRegressor parameters with:\n",
    "        ('estimate', CatBoostRegressor(iterations=10000, loss_function='RMSE', auto_stop_pval=1e-4, use_best_model=True, train_dir='outputs/cat_trees', verbose=True))\n",
    "    \"\"\"\n",
    "    # num_trees_train, num_trees_eval = train_test_split(train, test_size=0.2, random_state=0)\n",
    "    # X = num_trees_train[list(filter(lambda column: column in cat.raw_features, cat.train.columns))]\n",
    "    # y = num_trees_train['score']\n",
    "    #\n",
    "    # eval_X = num_trees_eval[list(filter(lambda column: column in cat.raw_features, cat.train.columns))]\n",
    "    # eval_X = cat.pipeline.named_steps['prepare_features'].fit_transform(eval_X)\n",
    "    # eval_set = (eval_X, num_trees_eval['score'])\n",
    "    #\n",
    "    # cat.pipeline.fit(X=X, y=y, estimate__eval_set=eval_set)\n",
    "    # cat.model = cat.pipeline\n",
    "    # print(cat.model.named_steps['estimate'].get_params())\n",
    "    # cat.model.named_steps['estimate'].save_model('tmp/cat.model'.encode('utf-8'))\n",
    "\n",
    "    if hyperopt:\n",
    "        cat.run(do_lowess=DO_LOWESS)\n",
    "    else:\n",
    "        # train with default params\n",
    "        cat.pipeline.fit(X=cat.X_train, y=cat.y_train)\n",
    "        cat.model = cat.pipeline\n",
    "        cat.stats()\n",
    "        cat.plot_predicted_vs_actual(do_lowess=DO_LOWESS)\n",
    "        cat.plot_feature_importance()\n",
    "        #cat.qq_plot()"
   ]
  },
  {
   "cell_type": "code",
   "execution_count": null,
   "metadata": {
    "collapsed": true
   },
   "outputs": [],
   "source": []
  }
 ],
 "metadata": {
  "kernelspec": {
   "display_name": "Python 3",
   "language": "python",
   "name": "python3"
  },
  "language_info": {
   "codemirror_mode": {
    "name": "ipython",
    "version": 3
   },
   "file_extension": ".py",
   "mimetype": "text/x-python",
   "name": "python",
   "nbconvert_exporter": "python",
   "pygments_lexer": "ipython3",
   "version": "3.6.3"
  }
 },
 "nbformat": 4,
 "nbformat_minor": 2
}
