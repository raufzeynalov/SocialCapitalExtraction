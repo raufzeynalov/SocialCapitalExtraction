{
 "cells": [
  {
   "cell_type": "code",
   "execution_count": 1,
   "metadata": {
    "collapsed": true
   },
   "outputs": [],
   "source": [
    "import pandas as pd\n",
    "from math import sqrt\n",
    "from sklearn import datasets, linear_model\n",
    "from sklearn.model_selection import train_test_split, cross_val_score, cross_val_predict\n",
    "from matplotlib import pyplot as plt\n",
    "from sklearn import metrics"
   ]
  },
  {
   "cell_type": "code",
   "execution_count": 2,
   "metadata": {
    "collapsed": true,
    "scrolled": false
   },
   "outputs": [],
   "source": [
    "# read the data\n",
    "preprocessed_data = pd.read_pickle('../data/preprocessed_twitter_Klout.pd')\n",
    "\n",
    "# Create a dataframe\n",
    "df = pd.DataFrame(preprocessed_data)\n",
    "y = df['score'].copy()\n",
    "df.drop('score', axis=1, inplace=True) "
   ]
  },
  {
   "cell_type": "code",
   "execution_count": 3,
   "metadata": {
    "collapsed": true
   },
   "outputs": [],
   "source": [
    "# create training and testing vars\n",
    "X_train, X_test, y_train, y_test = train_test_split(df, y, test_size=0.2)"
   ]
  },
  {
   "cell_type": "code",
   "execution_count": 4,
   "metadata": {
    "collapsed": true
   },
   "outputs": [],
   "source": [
    "lm = linear_model.LinearRegression()\n",
    "model = lm.fit(X_train, y_train)\n",
    "predictions = lm.predict(X_test)"
   ]
  },
  {
   "cell_type": "code",
   "execution_count": 5,
   "metadata": {
    "scrolled": true
   },
   "outputs": [
    {
     "data": {
      "image/png": "[encoded data removed]",
      "text/plain": [
       "<matplotlib.figure.Figure at 0x2349a473780>"
      ]
     },
     "metadata": {},
     "output_type": "display_data"
    },
    {
     "name": "stdout",
     "output_type": "stream",
     "text": [
      "[  6.85518053e-05   3.02445136e-05  -1.52792448e-01   6.71820295e-01\n",
      "  -3.25154598e+00  -1.12823865e+00   4.85560193e+01  -3.85424199e-04\n",
      "  -4.75965251e-05  -3.52452640e-04  -5.40501234e-05  -9.47042168e-02\n",
      "  -1.53382395e-02   2.06201883e-02   2.98391793e-01   6.97677215e+00\n",
      "   9.90551276e-01  -1.18382163e-01  -4.15953845e-02  -4.25129513e+01\n",
      "   3.63711583e+01  -1.38452104e-04   4.03363330e-05  -1.55747073e-04\n",
      "  -1.77504533e-04   3.14567503e-01  -1.63618639e-01   3.59258067e-01\n",
      "  -3.65231161e-03  -2.52370063e+01   2.65398469e+00   8.38775913e-02\n",
      "  -1.06637106e-01   3.65467790e+02  -9.19704371e+01  -3.10857203e-07\n",
      "   9.72126098e-03   1.17639388e-04   1.41777301e-03   2.97171387e-06\n",
      "   3.11873968e-05  -2.30131420e-06  -1.16514144e-06]\n"
     ]
    }
   ],
   "source": [
    "plt.scatter(y_test, predictions)\n",
    "plt.xlabel(\"True Values\")\n",
    "plt.ylabel(\"Predictions\")\n",
    "plt.show()\n",
    "\n",
    "print(lm.coef_)"
   ]
  },
  {
   "cell_type": "code",
   "execution_count": 6,
   "metadata": {},
   "outputs": [
    {
     "name": "stdout",
     "output_type": "stream",
     "text": [
      "Cross-validated scores: [  0.40068308 -18.27081435   0.45109767   0.34785422]\n"
     ]
    }
   ],
   "source": [
    "scores = cross_val_score(model, df, y, cv=4)\n",
    "print(\"Cross-validated scores:\", scores)"
   ]
  },
  {
   "cell_type": "code",
   "execution_count": 7,
   "metadata": {},
   "outputs": [
    {
     "data": {
      "image/png": "[encoded data removed]",
      "text/plain": [
       "<matplotlib.figure.Figure at 0x2349a716f28>"
      ]
     },
     "metadata": {},
     "output_type": "display_data"
    }
   ],
   "source": [
    "predictions = cross_val_predict(model, df, y, cv=10)\n",
    "plt.scatter(y, predictions)\n",
    "plt.show()"
   ]
  },
  {
   "cell_type": "code",
   "execution_count": 8,
   "metadata": {},
   "outputs": [
    {
     "name": "stdout",
     "output_type": "stream",
     "text": [
      "(23350,)\n",
      "(23350,)\n",
      "R2Score: 0.518743145119\n",
      "RMSE: 0.1440561866753952\n"
     ]
    }
   ],
   "source": [
    "print(y.shape)\n",
    "print(predictions.shape)\n",
    "accuracy = metrics.r2_score(y, predictions)\n",
    "print(\"R2Score:\", accuracy)\n",
    "rmse = sqrt(metrics.mean_squared_error(y,  predictions))\n",
    "print(\"RMSE:\", rmse)"
   ]
  },
  {
   "cell_type": "code",
   "execution_count": 9,
   "metadata": {},
   "outputs": [
    {
     "name": "stdout",
     "output_type": "stream",
     "text": [
      "[  6.85518053e-05   3.02445136e-05  -1.52792448e-01   6.71820295e-01\n",
      "  -3.25154598e+00  -1.12823865e+00   4.85560193e+01  -3.85424199e-04\n",
      "  -4.75965251e-05  -3.52452640e-04  -5.40501234e-05  -9.47042168e-02\n",
      "  -1.53382395e-02   2.06201883e-02   2.98391793e-01   6.97677215e+00\n",
      "   9.90551276e-01  -1.18382163e-01  -4.15953845e-02  -4.25129513e+01\n",
      "   3.63711583e+01  -1.38452104e-04   4.03363330e-05  -1.55747073e-04\n",
      "  -1.77504533e-04   3.14567503e-01  -1.63618639e-01   3.59258067e-01\n",
      "  -3.65231161e-03  -2.52370063e+01   2.65398469e+00   8.38775913e-02\n",
      "  -1.06637106e-01   3.65467790e+02  -9.19704371e+01  -3.10857203e-07\n",
      "   9.72126098e-03   1.17639388e-04   1.41777301e-03   2.97171387e-06\n",
      "   3.11873968e-05  -2.30131420e-06  -1.16514144e-06]\n"
     ]
    }
   ],
   "source": [
    "print(lm.coef_)"
   ]
  }
 ],
 "metadata": {
  "kernelspec": {
   "display_name": "Python 3",
   "language": "python",
   "name": "python3"
  },
  "language_info": {
   "codemirror_mode": {
    "name": "ipython",
    "version": 3
   },
   "file_extension": ".py",
   "mimetype": "text/x-python",
   "name": "python",
   "nbconvert_exporter": "python",
   "pygments_lexer": "ipython3",
   "version": "3.6.3"
  }
 },
 "nbformat": 4,
 "nbformat_minor": 2
}
