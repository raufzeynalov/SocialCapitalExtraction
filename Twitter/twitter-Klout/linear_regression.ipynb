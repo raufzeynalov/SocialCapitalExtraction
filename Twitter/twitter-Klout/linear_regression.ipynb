{
 "cells": [
  {
   "cell_type": "code",
   "execution_count": 1,
   "metadata": {
    "collapsed": true
   },
   "outputs": [],
   "source": [
    "import pandas as pd\n",
    "from sklearn import datasets, linear_model\n",
    "from sklearn.model_selection import train_test_split, cross_val_score, cross_val_predict\n",
    "from matplotlib import pyplot as plt\n",
    "from sklearn import metrics"
   ]
  },
  {
   "cell_type": "code",
   "execution_count": 2,
   "metadata": {
    "collapsed": true,
    "scrolled": false
   },
   "outputs": [],
   "source": [
    "# read the data\n",
    "preprocessed_data = pd.read_pickle('../data/preprocessed_twitter_Klout.pd')\n",
    "\n",
    "# Create a dataframe\n",
    "df = pd.DataFrame(preprocessed_data)\n",
    "y = df['score'].copy()\n",
    "df.drop('score', axis=1, inplace=True) "
   ]
  },
  {
   "cell_type": "code",
   "execution_count": 3,
   "metadata": {
    "collapsed": true
   },
   "outputs": [],
   "source": [
    "# create training and testing vars\n",
    "X_train, X_test, y_train, y_test = train_test_split(df, y, test_size=0.2)"
   ]
  },
  {
   "cell_type": "code",
   "execution_count": 4,
   "metadata": {
    "collapsed": true
   },
   "outputs": [],
   "source": [
    "lm = linear_model.LinearRegression()\n",
    "model = lm.fit(X_train, y_train)\n",
    "predictions = lm.predict(X_test)"
   ]
  },
  {
   "cell_type": "code",
   "execution_count": 5,
   "metadata": {
    "scrolled": true
   },
   "outputs": [
    {
     "data": {
      "image/png": "[encoded data removed]",
      "text/plain": [
       "<matplotlib.figure.Figure at 0x1f4380887b8>"
      ]
     },
     "metadata": {},
     "output_type": "display_data"
    },
    {
     "name": "stdout",
     "output_type": "stream",
     "text": [
      "[  6.42573623e-05   3.14526505e-05  -1.53664572e-01   6.97136651e-01\n",
      "  -4.05588528e+00  -1.12491633e+00   5.46552442e+01  -4.04217121e-04\n",
      "  -3.64668048e-05  -3.82446840e-04  -6.26007400e-05  -9.69900811e-02\n",
      "  -2.18976982e-02   4.54229345e-02   2.88653143e-01   9.91082943e+00\n",
      "   6.35667253e-01  -1.12377786e-01   4.00873774e-02  -3.04705661e+01\n",
      "   2.71141990e+01  -1.04831579e-05   6.32629742e-06  -2.68382227e-04\n",
      "  -1.66004168e-04   2.59207327e-01  -1.48521218e-01   3.44452938e-01\n",
      "   2.48784041e-03  -1.86255920e+01   3.19267879e+00   1.29887575e-01\n",
      "  -1.18057368e+00   3.47051591e+02  -9.64759499e+01  -2.34478058e-07\n",
      "   9.77968850e-03   1.15628742e-04   1.44324518e-03   8.53004792e-06\n",
      "   2.38714571e-05   6.29064881e-07  -9.67312780e-06]\n"
     ]
    }
   ],
   "source": [
    "plt.scatter(y_test, predictions)\n",
    "plt.xlabel(\"True Values\")\n",
    "plt.ylabel(\"Predictions\")\n",
    "plt.show()\n",
    "\n",
    "print(lm.coef_)"
   ]
  },
  {
   "cell_type": "code",
   "execution_count": 6,
   "metadata": {},
   "outputs": [
    {
     "name": "stdout",
     "output_type": "stream",
     "text": [
      "Cross-validated scores: [  0.40068308 -18.27081435   0.45109767   0.34785422]\n"
     ]
    }
   ],
   "source": [
    "scores = cross_val_score(model, df, y, cv=4)\n",
    "print(\"Cross-validated scores:\", scores)"
   ]
  },
  {
   "cell_type": "code",
   "execution_count": 7,
   "metadata": {},
   "outputs": [
    {
     "data": {
      "image/png": "[encoded data removed]",
      "text/plain": [
       "<matplotlib.figure.Figure at 0x1f43797e780>"
      ]
     },
     "metadata": {},
     "output_type": "display_data"
    }
   ],
   "source": [
    "predictions = cross_val_predict(model, df, y, cv=10)\n",
    "plt.scatter(y, predictions)\n",
    "plt.show()"
   ]
  },
  {
   "cell_type": "code",
   "execution_count": 8,
   "metadata": {},
   "outputs": [
    {
     "name": "stdout",
     "output_type": "stream",
     "text": [
      "Cross-Predicted Accuracy: 0.518743145119\n"
     ]
    }
   ],
   "source": [
    "accuracy = metrics.r2_score(y, predictions)\n",
    "print(\"Cross-Predicted Accuracy:\", accuracy)"
   ]
  },
  {
   "cell_type": "code",
   "execution_count": 9,
   "metadata": {},
   "outputs": [
    {
     "name": "stdout",
     "output_type": "stream",
     "text": [
      "[  6.42573623e-05   3.14526505e-05  -1.53664572e-01   6.97136651e-01\n",
      "  -4.05588528e+00  -1.12491633e+00   5.46552442e+01  -4.04217121e-04\n",
      "  -3.64668048e-05  -3.82446840e-04  -6.26007400e-05  -9.69900811e-02\n",
      "  -2.18976982e-02   4.54229345e-02   2.88653143e-01   9.91082943e+00\n",
      "   6.35667253e-01  -1.12377786e-01   4.00873774e-02  -3.04705661e+01\n",
      "   2.71141990e+01  -1.04831579e-05   6.32629742e-06  -2.68382227e-04\n",
      "  -1.66004168e-04   2.59207327e-01  -1.48521218e-01   3.44452938e-01\n",
      "   2.48784041e-03  -1.86255920e+01   3.19267879e+00   1.29887575e-01\n",
      "  -1.18057368e+00   3.47051591e+02  -9.64759499e+01  -2.34478058e-07\n",
      "   9.77968850e-03   1.15628742e-04   1.44324518e-03   8.53004792e-06\n",
      "   2.38714571e-05   6.29064881e-07  -9.67312780e-06]\n"
     ]
    }
   ],
   "source": [
    "print(lm.coef_)"
   ]
  }
 ],
 "metadata": {
  "kernelspec": {
   "display_name": "Python 3",
   "language": "python",
   "name": "python3"
  },
  "language_info": {
   "codemirror_mode": {
    "name": "ipython",
    "version": 3
   },
   "file_extension": ".py",
   "mimetype": "text/x-python",
   "name": "python",
   "nbconvert_exporter": "python",
   "pygments_lexer": "ipython3",
   "version": "3.6.3"
  }
 },
 "nbformat": 4,
 "nbformat_minor": 2
}
