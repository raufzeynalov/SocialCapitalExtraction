{
 "cells": [
  {
   "cell_type": "code",
   "execution_count": 1,
   "metadata": {
    "collapsed": true
   },
   "outputs": [],
   "source": [
    "import pandas as pd\n",
    "from sklearn import datasets, linear_model\n",
    "from sklearn.model_selection import train_test_split, cross_val_score, cross_val_predict\n",
    "from matplotlib import pyplot as plt\n",
    "from sklearn import metrics"
   ]
  },
  {
   "cell_type": "code",
   "execution_count": 2,
   "metadata": {
    "collapsed": true,
    "scrolled": false
   },
   "outputs": [],
   "source": [
    "# read the data\n",
    "preprocessed_data = pd.read_pickle('../data/preprocessed_twitter_Klout.pd')\n",
    "\n",
    "# Create a dataframe\n",
    "df = pd.DataFrame(preprocessed_data)\n",
    "y = df['score'].copy()\n",
    "df.drop('score', axis=1, inplace=True) "
   ]
  },
  {
   "cell_type": "code",
   "execution_count": 3,
   "metadata": {
    "collapsed": true
   },
   "outputs": [],
   "source": [
    "# create training and testing vars\n",
    "X_train, X_test, y_train, y_test = train_test_split(df, y, test_size=0.2)"
   ]
  },
  {
   "cell_type": "code",
   "execution_count": 4,
   "metadata": {
    "collapsed": true
   },
   "outputs": [],
   "source": [
    "lm = linear_model.LinearRegression()\n",
    "model = lm.fit(X_train, y_train)\n",
    "predictions = lm.predict(X_test)"
   ]
  },
  {
   "cell_type": "code",
   "execution_count": 5,
   "metadata": {
    "scrolled": true
   },
   "outputs": [
    {
     "data": {
      "image/png": "[encoded data removed]",
      "text/plain": [
       "<matplotlib.figure.Figure at 0x207d5a4ca58>"
      ]
     },
     "metadata": {},
     "output_type": "display_data"
    },
    {
     "name": "stdout",
     "output_type": "stream",
     "text": [
      "[ -2.27050480e-10   5.86270594e-05   3.96816124e-05  -1.33708960e-01\n",
      "   6.64580465e-01  -9.88270717e+00  -1.06546066e+00   1.54607397e+02\n",
      "  -4.24373656e-04  -4.67531883e-05  -4.76381690e-04  -4.76592609e-05\n",
      "  -6.47347788e-02  -4.32481882e-02   7.44458284e-02   2.71579639e-01\n",
      "   1.43658616e+01   1.03124234e+00  -2.79164609e-01  -4.59844829e-02\n",
      "  -4.83456820e+01   2.92340534e+01   8.55934381e-05  -8.45499038e-06\n",
      "  -2.26969209e-04  -1.73220359e-04   2.11851471e-01  -1.27928995e-01\n",
      "   3.84461724e-01  -1.59679639e-02  -2.09203918e+01   2.76644320e+00\n",
      "   2.76804947e-01  -2.13270574e-01   2.64145105e+02  -7.34516861e+01\n",
      "  -2.01370867e-07   9.98125059e-03   4.15694864e-05   1.45891747e-03\n",
      "  -1.22459672e-06   5.34101636e-05   1.96919948e-06  -1.37194698e-05]\n"
     ]
    }
   ],
   "source": [
    "plt.scatter(y_test, predictions)\n",
    "plt.xlabel(\"True Values\")\n",
    "plt.ylabel(\"Predictions\")\n",
    "plt.show()\n",
    "\n",
    "print(lm.coef_)"
   ]
  },
  {
   "cell_type": "code",
   "execution_count": 6,
   "metadata": {},
   "outputs": [
    {
     "name": "stdout",
     "output_type": "stream",
     "text": [
      "Cross-validated scores: [ 0.38016065  0.46565273  0.47815918  0.49130861  0.45430225  0.44801678\n",
      "  0.46762511  0.40456634  0.33582443  0.32308037]\n"
     ]
    }
   ],
   "source": [
    "scores = cross_val_score(model, df, y, cv=10)\n",
    "print(\"Cross-validated scores:\", scores)"
   ]
  },
  {
   "cell_type": "code",
   "execution_count": 7,
   "metadata": {},
   "outputs": [
    {
     "data": {
      "image/png": "[encoded data removed]",
      "text/plain": [
       "<matplotlib.figure.Figure at 0x207d6010320>"
      ]
     },
     "metadata": {},
     "output_type": "display_data"
    }
   ],
   "source": [
    "predictions = cross_val_predict(model, df, y, cv=10)\n",
    "plt.scatter(y, predictions)\n",
    "plt.show()"
   ]
  },
  {
   "cell_type": "code",
   "execution_count": 8,
   "metadata": {},
   "outputs": [
    {
     "name": "stdout",
     "output_type": "stream",
     "text": [
      "Cross-Predicted Accuracy: 0.525890381922\n"
     ]
    }
   ],
   "source": [
    "accuracy = metrics.r2_score(y, predictions)\n",
    "print(\"Cross-Predicted Accuracy:\", accuracy)"
   ]
  },
  {
   "cell_type": "code",
   "execution_count": 9,
   "metadata": {},
   "outputs": [
    {
     "name": "stdout",
     "output_type": "stream",
     "text": [
      "[ -2.27050480e-10   5.86270594e-05   3.96816124e-05  -1.33708960e-01\n",
      "   6.64580465e-01  -9.88270717e+00  -1.06546066e+00   1.54607397e+02\n",
      "  -4.24373656e-04  -4.67531883e-05  -4.76381690e-04  -4.76592609e-05\n",
      "  -6.47347788e-02  -4.32481882e-02   7.44458284e-02   2.71579639e-01\n",
      "   1.43658616e+01   1.03124234e+00  -2.79164609e-01  -4.59844829e-02\n",
      "  -4.83456820e+01   2.92340534e+01   8.55934381e-05  -8.45499038e-06\n",
      "  -2.26969209e-04  -1.73220359e-04   2.11851471e-01  -1.27928995e-01\n",
      "   3.84461724e-01  -1.59679639e-02  -2.09203918e+01   2.76644320e+00\n",
      "   2.76804947e-01  -2.13270574e-01   2.64145105e+02  -7.34516861e+01\n",
      "  -2.01370867e-07   9.98125059e-03   4.15694864e-05   1.45891747e-03\n",
      "  -1.22459672e-06   5.34101636e-05   1.96919948e-06  -1.37194698e-05]\n"
     ]
    }
   ],
   "source": [
    "print(lm.coef_)"
   ]
  }
 ],
 "metadata": {
  "kernelspec": {
   "display_name": "Python 3",
   "language": "python",
   "name": "python3"
  },
  "language_info": {
   "codemirror_mode": {
    "name": "ipython",
    "version": 3
   },
   "file_extension": ".py",
   "mimetype": "text/x-python",
   "name": "python",
   "nbconvert_exporter": "python",
   "pygments_lexer": "ipython3",
   "version": "3.6.3"
  }
 },
 "nbformat": 4,
 "nbformat_minor": 2
}
