{
 "cells": [
  {
   "cell_type": "code",
   "execution_count": 1,
   "metadata": {},
   "outputs": [
    {
     "name": "stderr",
     "output_type": "stream",
     "text": [
      "C:\\ProgramData\\Anaconda3\\lib\\site-packages\\statsmodels\\compat\\pandas.py:56: FutureWarning: The pandas.core.datetools module is deprecated and will be removed in a future version. Please use the pandas.tseries module instead.\n",
      "  from pandas.core import datetools\n"
     ]
    }
   ],
   "source": [
    "#imports\n",
    "import numpy as np\n",
    "import pandas as pd\n",
    "from catboost import CatBoostRegressor\n",
    "from hyperopt import hp\n",
    "from hyperopt.pyll import scope\n",
    "from sklearn.model_selection import train_test_split\n",
    "from sklearn.pipeline import Pipeline\n",
    "from catboost import CatBoostRegressor\n",
    "\n",
    "import os\n",
    "import sys\n",
    "module_path = os.path.abspath(os.path.join('../..'))\n",
    "if module_path not in sys.path:\n",
    "    sys.path.append(module_path)\n",
    "\n",
    "from models.hyperopt_model import HyperoptModel"
   ]
  },
  {
   "cell_type": "code",
   "execution_count": 2,
   "metadata": {
    "collapsed": true,
    "scrolled": false
   },
   "outputs": [],
   "source": [
    "# read the data\n",
    "preprocessed_data = pd.read_pickle('../data/preprocessed_twitter_qualitative.pd')\n",
    "\n",
    "# Create a dataframe\n",
    "df = pd.DataFrame(preprocessed_data)"
   ]
  },
  {
   "cell_type": "code",
   "execution_count": 3,
   "metadata": {
    "collapsed": true
   },
   "outputs": [],
   "source": [
    "# Create two new dataframes, one with the training rows, one with the test rows\n",
    "train, test=train_test_split(df, test_size=0.2, random_state=0)"
   ]
  },
  {
   "cell_type": "code",
   "execution_count": 4,
   "metadata": {},
   "outputs": [
    {
     "name": "stdout",
     "output_type": "stream",
     "text": [
      "Number of observations in the training data: 18680\n",
      "Number of observations in the test data: 4670\n"
     ]
    }
   ],
   "source": [
    "# Show the number of observations for the test and training dataframes\n",
    "print('Number of observations in the training data:', len(train))\n",
    "print('Number of observations in the test data:',len(test))"
   ]
  },
  {
   "cell_type": "code",
   "execution_count": 5,
   "metadata": {
    "scrolled": true
   },
   "outputs": [
    {
     "name": "stdout",
     "output_type": "stream",
     "text": [
      "Performing parameters optimization...\n",
      "[1/50]\tcv_eval_time=752.99 sec\tRMSE=0.015319\tR^2=0.342335\n",
      "[2/50]\tcv_eval_time=777.51 sec\tRMSE=0.015162\tR^2=0.416951\n",
      "[3/50]\tcv_eval_time=777.29 sec\tRMSE=0.015737\tR^2=0.366764\n",
      "[4/50]\tcv_eval_time=783.81 sec\tRMSE=0.016145\tR^2=0.359636\n",
      "[5/50]\tcv_eval_time=773.96 sec\tRMSE=0.015374\tR^2=0.429518\n",
      "[6/50]\tcv_eval_time=784.99 sec\tRMSE=0.015532\tR^2=0.380566\n",
      "[7/50]\tcv_eval_time=779.76 sec\tRMSE=0.016942\tR^2=0.281661\n",
      "[8/50]\tcv_eval_time=781.17 sec\tRMSE=0.016661\tR^2=0.307275\n",
      "[9/50]\tcv_eval_time=783.09 sec\tRMSE=0.015747\tR^2=0.406094\n",
      "[10/50]\tcv_eval_time=776.54 sec\tRMSE=0.015657\tR^2=0.400600\n",
      "[11/50]\tcv_eval_time=778.88 sec\tRMSE=0.015428\tR^2=0.399858\n",
      "[12/50]\tcv_eval_time=784.09 sec\tRMSE=0.016092\tR^2=0.317440\n",
      "[13/50]\tcv_eval_time=781.82 sec\tRMSE=0.015800\tR^2=0.357015\n",
      "[14/50]\tcv_eval_time=791.27 sec\tRMSE=0.015368\tR^2=0.419250\n",
      "[15/50]\tcv_eval_time=782.29 sec\tRMSE=0.015459\tR^2=0.429005\n",
      "[16/50]\tcv_eval_time=775.56 sec\tRMSE=0.015189\tR^2=0.405648\n",
      "[17/50]\tcv_eval_time=785.80 sec\tRMSE=0.016142\tR^2=0.329072\n",
      "[18/50]\tcv_eval_time=774.52 sec\tRMSE=0.015260\tR^2=0.397396\n",
      "[19/50]\tcv_eval_time=784.52 sec\tRMSE=0.014951\tR^2=0.436680\n",
      "[20/50]\tcv_eval_time=791.34 sec\tRMSE=0.016458\tR^2=0.356969\n",
      "[21/50]\tcv_eval_time=781.87 sec\tRMSE=0.015255\tR^2=0.434961\n",
      "[22/50]\tcv_eval_time=780.99 sec\tRMSE=0.015373\tR^2=0.405283\n",
      "[23/50]\tcv_eval_time=788.10 sec\tRMSE=0.016017\tR^2=0.359404\n",
      "[24/50]\tcv_eval_time=786.87 sec\tRMSE=0.014822\tR^2=0.421060\n",
      "[25/50]\tcv_eval_time=789.12 sec\tRMSE=0.017406\tR^2=0.143698\n",
      "[26/50]\tcv_eval_time=773.64 sec\tRMSE=0.015623\tR^2=0.403194\n",
      "[27/50]\tcv_eval_time=784.31 sec\tRMSE=0.015067\tR^2=0.427661\n",
      "[28/50]\tcv_eval_time=791.73 sec\tRMSE=0.015132\tR^2=0.393165\n",
      "[29/50]\tcv_eval_time=793.15 sec\tRMSE=0.015679\tR^2=0.362563\n",
      "[30/50]\tcv_eval_time=776.47 sec\tRMSE=0.015611\tR^2=0.367927\n",
      "[31/50]\tcv_eval_time=788.00 sec\tRMSE=0.015289\tR^2=0.403199\n",
      "[32/50]\tcv_eval_time=791.45 sec\tRMSE=0.015219\tR^2=0.434048\n",
      "[33/50]\tcv_eval_time=818.32 sec\tRMSE=0.016992\tR^2=0.268279\n",
      "[34/50]\tcv_eval_time=791.54 sec\tRMSE=0.015028\tR^2=0.433207\n",
      "[35/50]\tcv_eval_time=833.49 sec\tRMSE=0.015234\tR^2=0.442540\n",
      "[36/50]\tcv_eval_time=872.89 sec\tRMSE=0.015358\tR^2=0.369140\n",
      "[37/50]\tcv_eval_time=817.60 sec\tRMSE=0.015389\tR^2=0.401469\n",
      "[38/50]\tcv_eval_time=808.69 sec\tRMSE=0.015115\tR^2=0.418139\n",
      "[39/50]\tcv_eval_time=878.30 sec\tRMSE=0.015173\tR^2=0.409830\n",
      "[40/50]\tcv_eval_time=785.75 sec\tRMSE=0.015533\tR^2=0.396177\n",
      "[41/50]\tcv_eval_time=816.51 sec\tRMSE=0.015271\tR^2=0.415690\n",
      "[42/50]\tcv_eval_time=870.44 sec\tRMSE=0.015365\tR^2=0.372015\n",
      "[43/50]\tcv_eval_time=767.69 sec\tRMSE=0.015231\tR^2=0.438397\n",
      "[44/50]\tcv_eval_time=886.27 sec\tRMSE=0.015358\tR^2=0.434621\n",
      "[45/50]\tcv_eval_time=822.43 sec\tRMSE=0.014950\tR^2=0.413662\n",
      "[46/50]\tcv_eval_time=799.46 sec\tRMSE=0.015784\tR^2=0.341895\n",
      "[47/50]\tcv_eval_time=896.83 sec\tRMSE=0.015122\tR^2=0.424968\n",
      "[48/50]\tcv_eval_time=776.36 sec\tRMSE=0.014974\tR^2=0.411186\n",
      "[49/50]\tcv_eval_time=859.18 sec\tRMSE=0.018213\tR^2=0.106768\n",
      "[50/50]\tcv_eval_time=862.44 sec\tRMSE=0.015204\tR^2=0.422983\n",
      " elapsed time: 11h 6min 33s\n",
      "\n",
      "Stats (train | test):\n",
      "\tR^2 score:\t\t0.7516\n",
      "\t\t\t\t\t0.4347\n",
      "\tRMSE:\t\t\t0.0099\n",
      "\t\t\t\t\t0.0126\n",
      "\tMean error:\t\t0.0031\n",
      "\t\t\t\t\t0.0036\n",
      "\tPearson:\t\t0.8739\n",
      "\t\t\t\t\t0.6614\n",
      "\tSpearman:\t\t0.6437\n",
      "\t\t\t\t\t0.6046\n",
      "\tKendallTau:\t\t0.4758\n",
      "\t\t\t\t\t0.4444\n",
      "\n",
      "Best parameters set:\n",
      "{'estimate__bagging_temperature': 0.3704724566617537,\n",
      " 'estimate__iterations': 1300,\n",
      " 'estimate__l2_leaf_reg': 3.8652632404386074,\n",
      " 'estimate__learning_rate': 0.0243996816866057,\n",
      " 'estimate__loss_function': 'RMSE',\n",
      " 'estimate__random_seed': 0,\n",
      " 'estimate__random_strength': 20,\n",
      " 'estimate__thread_count': 4,\n",
      " 'estimate__train_dir': 'outputs/cat',\n",
      " 'estimate__used_ram_limit': 4294967296}\n",
      "\n",
      "Could not create plots\n"
     ]
    }
   ],
   "source": [
    "    #some parameters\n",
    "    DO_LOWESS = False\n",
    "    hyperopt = True\n",
    "    # Run CatBoostRegressor with hyperopt optimization\n",
    "    cat = HyperoptModel(train.copy(), test.copy(),'cat', cv=3, max_evals = 50)\n",
    "\n",
    "    cat.pipeline = Pipeline([\n",
    "        ('estimate', CatBoostRegressor())\n",
    "    ])\n",
    "    \n",
    "    features = list(df)\n",
    "    features.remove('score')\n",
    "    cat.raw_features = features\n",
    "    \n",
    "    cat.space = {\n",
    "        'estimate__iterations': hp.choice('estimate__iterations', [1300]),\n",
    "        'estimate__loss_function': hp.choice('estimate__loss_function', ['RMSE']),\n",
    "        'estimate__train_dir': hp.choice('estimate__train_dir', ['outputs/cat']),\n",
    "        'estimate__thread_count': hp.choice('estimate__thread_count', [4]),\n",
    "        'estimate__used_ram_limit': hp.choice('estimate__used_ram_limit', [1024 * 1024 * 1024 * 4]),  # 4gb\n",
    "        'estimate__random_seed': hp.choice('estimate__random_seed', [0]),\n",
    "\n",
    "        'estimate__learning_rate': hp.loguniform('estimate__learning_rate', -5, 0),\n",
    "        'estimate__random_strength': hp.choice('estimate__random_strength', [1, 20]),\n",
    "        'estimate__l2_leaf_reg': hp.loguniform('estimate__l2_leaf_reg', 0, np.log(10)),\n",
    "        'estimate__bagging_temperature': hp.uniform('estimate__bagging_temperature', 0, 1),\n",
    "    }\n",
    "\n",
    "    \"\"\"\n",
    "    find the best number of trees (following https://tech.yandex.com/catboost/doc/dg/concepts/parameter-tuning_trees-number-docpage/#parameter-tuning_trees-number)\n",
    "    need to also substitute the CatBoostRegressor parameters with:\n",
    "        ('estimate', CatBoostRegressor(iterations=10000, loss_function='RMSE', auto_stop_pval=1e-4, use_best_model=True, train_dir='outputs/cat_trees', verbose=True))\n",
    "    \"\"\"\n",
    "    # num_trees_train, num_trees_eval = train_test_split(train, test_size=0.2, random_state=0)\n",
    "    # X = num_trees_train[list(filter(lambda column: column in cat.raw_features, cat.train.columns))]\n",
    "    # y = num_trees_train['score']\n",
    "    #\n",
    "    # eval_X = num_trees_eval[list(filter(lambda column: column in cat.raw_features, cat.train.columns))]\n",
    "    # eval_X = cat.pipeline.named_steps['prepare_features'].fit_transform(eval_X)\n",
    "    # eval_set = (eval_X, num_trees_eval['score'])\n",
    "    #\n",
    "    # cat.pipeline.fit(X=X, y=y, estimate__eval_set=eval_set)\n",
    "    # cat.model = cat.pipeline\n",
    "    # print(cat.model.named_steps['estimate'].get_params())\n",
    "    # cat.model.named_steps['estimate'].save_model('tmp/cat.model'.encode('utf-8'))\n",
    "\n",
    "    if hyperopt:\n",
    "        cat.run(do_lowess=DO_LOWESS)\n",
    "    else:\n",
    "        # train with default params\n",
    "        cat.pipeline.fit(X=cat.X_train, y=cat.y_train)\n",
    "        cat.model = cat.pipeline\n",
    "        cat.stats()\n",
    "        cat.plot_predicted_vs_actual(do_lowess=DO_LOWESS)\n",
    "        cat.plot_feature_importance()\n",
    "        #cat.qq_plot()"
   ]
  },
  {
   "cell_type": "code",
   "execution_count": null,
   "metadata": {
    "collapsed": true
   },
   "outputs": [],
   "source": []
  }
 ],
 "metadata": {
  "kernelspec": {
   "display_name": "Python 3",
   "language": "python",
   "name": "python3"
  },
  "language_info": {
   "codemirror_mode": {
    "name": "ipython",
    "version": 3
   },
   "file_extension": ".py",
   "mimetype": "text/x-python",
   "name": "python",
   "nbconvert_exporter": "python",
   "pygments_lexer": "ipython3",
   "version": "3.6.3"
  }
 },
 "nbformat": 4,
 "nbformat_minor": 2
}
