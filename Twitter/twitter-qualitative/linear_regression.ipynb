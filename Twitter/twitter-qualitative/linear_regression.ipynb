{
 "cells": [
  {
   "cell_type": "code",
   "execution_count": 10,
   "metadata": {
    "collapsed": true
   },
   "outputs": [],
   "source": [
    "import pandas as pd\n",
    "from sklearn import datasets, linear_model\n",
    "from sklearn.model_selection import train_test_split, cross_val_score, cross_val_predict\n",
    "from matplotlib import pyplot as plt\n",
    "from sklearn import metrics"
   ]
  },
  {
   "cell_type": "code",
   "execution_count": 11,
   "metadata": {
    "collapsed": true,
    "scrolled": false
   },
   "outputs": [],
   "source": [
    "# read the data\n",
    "preprocessed_data = pd.read_pickle('../data/preprocessed_twitter_qualitative.pd')\n",
    "\n",
    "# Create a dataframe\n",
    "df = pd.DataFrame(preprocessed_data)\n",
    "y = df['score'].copy()\n",
    "df.drop('score', axis=1, inplace=True) "
   ]
  },
  {
   "cell_type": "code",
   "execution_count": 12,
   "metadata": {
    "collapsed": true
   },
   "outputs": [],
   "source": [
    "# create training and testing vars\n",
    "X_train, X_test, y_train, y_test = train_test_split(df, y, test_size=0.2)"
   ]
  },
  {
   "cell_type": "code",
   "execution_count": 13,
   "metadata": {
    "collapsed": true
   },
   "outputs": [],
   "source": [
    "lm = linear_model.LinearRegression()\n",
    "model = lm.fit(X_train, y_train)\n",
    "predictions = lm.predict(X_test)"
   ]
  },
  {
   "cell_type": "code",
   "execution_count": 14,
   "metadata": {
    "scrolled": true
   },
   "outputs": [
    {
     "data": {
      "image/png": "[encoded data removed]",
      "text/plain": [
       "<matplotlib.figure.Figure at 0x21f3c8ef668>"
      ]
     },
     "metadata": {},
     "output_type": "display_data"
    },
    {
     "name": "stdout",
     "output_type": "stream",
     "text": [
      "[  1.43897756e-11  -2.21242570e-06  -2.20399343e-03   1.14302572e-01\n",
      "  -1.42398715e-05  -1.32901136e-06  -1.47094660e-02   1.07751743e-02\n",
      "   2.88247161e-01  -2.53181795e-02   6.57330976e-07  -1.52579610e-07\n",
      "  -4.30771309e-06   2.17306621e-06   9.16318224e-04  -9.84119177e-04\n",
      "   1.40155174e-03   9.17182378e-04   2.45646730e-01   1.52453987e-02\n",
      "   9.72890524e-03  -2.02505317e-03  -1.10979101e+00  -8.48379264e-01\n",
      "  -1.23842375e-04   2.47952867e-06   2.29544525e-05  -1.48546720e-07\n",
      "   2.31665027e-07  -1.65604478e-07  -1.47437715e-07]\n"
     ]
    }
   ],
   "source": [
    "plt.scatter(y_test, predictions)\n",
    "plt.xlabel(\"True Values\")\n",
    "plt.ylabel(\"Predictions\")\n",
    "plt.show()\n",
    "\n",
    "print(lm.coef_)"
   ]
  },
  {
   "cell_type": "code",
   "execution_count": 15,
   "metadata": {},
   "outputs": [
    {
     "name": "stdout",
     "output_type": "stream",
     "text": [
      "Cross-validated scores: [ -3.03539708e+01  -8.00331316e-01  -3.11524774e-01  -1.49902490e-01\n",
      "  -2.11959662e-02   4.92416621e-03   3.47981654e-02   2.19878451e-02\n",
      "   1.18589674e-02   5.63541704e-04]\n"
     ]
    }
   ],
   "source": [
    "scores = cross_val_score(model, df, y, cv=10)\n",
    "print(\"Cross-validated scores:\", scores)"
   ]
  },
  {
   "cell_type": "code",
   "execution_count": 16,
   "metadata": {},
   "outputs": [
    {
     "data": {
      "image/png": "[encoded data removed]",
      "text/plain": [
       "<matplotlib.figure.Figure at 0x21f3c8efc18>"
      ]
     },
     "metadata": {},
     "output_type": "display_data"
    }
   ],
   "source": [
    "predictions = cross_val_predict(model, df, y, cv=10)\n",
    "plt.scatter(y, predictions)\n",
    "plt.show()"
   ]
  },
  {
   "cell_type": "code",
   "execution_count": 17,
   "metadata": {},
   "outputs": [
    {
     "name": "stdout",
     "output_type": "stream",
     "text": [
      "Cross-Predicted Accuracy: 0.00640352028939\n"
     ]
    }
   ],
   "source": [
    "accuracy = metrics.r2_score(y, predictions)\n",
    "print(\"Cross-Predicted Accuracy:\", accuracy)"
   ]
  },
  {
   "cell_type": "code",
   "execution_count": 18,
   "metadata": {},
   "outputs": [
    {
     "name": "stdout",
     "output_type": "stream",
     "text": [
      "[  1.43897756e-11  -2.21242570e-06  -2.20399343e-03   1.14302572e-01\n",
      "  -1.42398715e-05  -1.32901136e-06  -1.47094660e-02   1.07751743e-02\n",
      "   2.88247161e-01  -2.53181795e-02   6.57330976e-07  -1.52579610e-07\n",
      "  -4.30771309e-06   2.17306621e-06   9.16318224e-04  -9.84119177e-04\n",
      "   1.40155174e-03   9.17182378e-04   2.45646730e-01   1.52453987e-02\n",
      "   9.72890524e-03  -2.02505317e-03  -1.10979101e+00  -8.48379264e-01\n",
      "  -1.23842375e-04   2.47952867e-06   2.29544525e-05  -1.48546720e-07\n",
      "   2.31665027e-07  -1.65604478e-07  -1.47437715e-07]\n"
     ]
    }
   ],
   "source": [
    "print(lm.coef_)"
   ]
  }
 ],
 "metadata": {
  "kernelspec": {
   "display_name": "Python 3",
   "language": "python",
   "name": "python3"
  },
  "language_info": {
   "codemirror_mode": {
    "name": "ipython",
    "version": 3
   },
   "file_extension": ".py",
   "mimetype": "text/x-python",
   "name": "python",
   "nbconvert_exporter": "python",
   "pygments_lexer": "ipython3",
   "version": "3.6.3"
  }
 },
 "nbformat": 4,
 "nbformat_minor": 2
}
