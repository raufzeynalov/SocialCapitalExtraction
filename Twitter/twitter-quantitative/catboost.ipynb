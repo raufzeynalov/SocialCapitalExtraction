{
 "cells": [
  {
   "cell_type": "code",
   "execution_count": null,
   "metadata": {},
   "outputs": [],
   "source": [
    "#imports\n",
    "import numpy as np\n",
    "import pandas as pd\n",
    "from catboost import CatBoostRegressor\n",
    "from hyperopt import hp\n",
    "from hyperopt.pyll import scope\n",
    "from sklearn.model_selection import train_test_split\n",
    "from sklearn.pipeline import Pipeline\n",
    "from catboost import CatBoostRegressor\n",
    "\n",
    "import os\n",
    "import sys\n",
    "module_path = os.path.abspath(os.path.join('../..'))\n",
    "if module_path not in sys.path:\n",
    "    sys.path.append(module_path)\n",
    "\n",
    "from models.hyperopt_model import HyperoptModel"
   ]
  },
  {
   "cell_type": "code",
   "execution_count": null,
   "metadata": {
    "collapsed": true,
    "scrolled": false
   },
   "outputs": [],
   "source": [
    "# read the data\n",
    "preprocessed_data = pd.read_pickle('../data/preprocessed_twitter_quantitative.pd')\n",
    "\n",
    "# Create a dataframe\n",
    "df = pd.DataFrame(preprocessed_data)"
   ]
  },
  {
   "cell_type": "code",
   "execution_count": null,
   "metadata": {
    "collapsed": true
   },
   "outputs": [],
   "source": [
    "# Create two new dataframes, one with the training rows, one with the test rows\n",
    "train, test=train_test_split(df, test_size=0.2, random_state=0)"
   ]
  },
  {
   "cell_type": "code",
   "execution_count": null,
   "metadata": {},
   "outputs": [],
   "source": [
    "# Show the number of observations for the test and training dataframes\n",
    "print('Number of observations in the training data:', len(train))\n",
    "print('Number of observations in the test data:',len(test))"
   ]
  },
  {
   "cell_type": "code",
   "execution_count": null,
   "metadata": {
    "scrolled": true
   },
   "outputs": [],
   "source": [
    "    #some parameters\n",
    "    DO_LOWESS = False\n",
    "    hyperopt = True\n",
    "    # Run CatBoostRegressor with hyperopt optimization\n",
    "    cat = HyperoptModel(train.copy(), test.copy(),'cat', cv=3, max_evals = 50)\n",
    "\n",
    "    cat.pipeline = Pipeline([\n",
    "        ('estimate', CatBoostRegressor())\n",
    "    ])\n",
    "    \n",
    "    features = list(df)\n",
    "    features.remove('score')\n",
    "    cat.raw_features = features\n",
    "    \n",
    "    cat.space = {\n",
    "        'estimate__iterations': hp.choice('estimate__iterations', [1300]),\n",
    "        'estimate__loss_function': hp.choice('estimate__loss_function', ['RMSE']),\n",
    "        'estimate__train_dir': hp.choice('estimate__train_dir', ['outputs/cat']),\n",
    "        'estimate__thread_count': hp.choice('estimate__thread_count', [4]),\n",
    "        'estimate__used_ram_limit': hp.choice('estimate__used_ram_limit', [1024 * 1024 * 1024 * 4]),  # 4gb\n",
    "        'estimate__random_seed': hp.choice('estimate__random_seed', [0]),\n",
    "\n",
    "        'estimate__learning_rate': hp.loguniform('estimate__learning_rate', -5, 0),\n",
    "        'estimate__random_strength': hp.choice('estimate__random_strength', [1, 20]),\n",
    "        'estimate__l2_leaf_reg': hp.loguniform('estimate__l2_leaf_reg', 0, np.log(10)),\n",
    "        'estimate__bagging_temperature': hp.uniform('estimate__bagging_temperature', 0, 1),\n",
    "    }\n",
    "\n",
    "    \"\"\"\n",
    "    find the best number of trees (following https://tech.yandex.com/catboost/doc/dg/concepts/parameter-tuning_trees-number-docpage/#parameter-tuning_trees-number)\n",
    "    need to also substitute the CatBoostRegressor parameters with:\n",
    "        ('estimate', CatBoostRegressor(iterations=10000, loss_function='RMSE', auto_stop_pval=1e-4, use_best_model=True, train_dir='outputs/cat_trees', verbose=True))\n",
    "    \"\"\"\n",
    "    # num_trees_train, num_trees_eval = train_test_split(train, test_size=0.2, random_state=0)\n",
    "    # X = num_trees_train[list(filter(lambda column: column in cat.raw_features, cat.train.columns))]\n",
    "    # y = num_trees_train['score']\n",
    "    #\n",
    "    # eval_X = num_trees_eval[list(filter(lambda column: column in cat.raw_features, cat.train.columns))]\n",
    "    # eval_X = cat.pipeline.named_steps['prepare_features'].fit_transform(eval_X)\n",
    "    # eval_set = (eval_X, num_trees_eval['score'])\n",
    "    #\n",
    "    # cat.pipeline.fit(X=X, y=y, estimate__eval_set=eval_set)\n",
    "    # cat.model = cat.pipeline\n",
    "    # print(cat.model.named_steps['estimate'].get_params())\n",
    "    # cat.model.named_steps['estimate'].save_model('tmp/cat.model'.encode('utf-8'))\n",
    "\n",
    "    if hyperopt:\n",
    "        cat.run(do_lowess=DO_LOWESS)\n",
    "    else:\n",
    "        # train with default params\n",
    "        cat.pipeline.fit(X=cat.X_train, y=cat.y_train)\n",
    "        cat.model = cat.pipeline\n",
    "        cat.stats()\n",
    "        cat.plot_predicted_vs_actual(do_lowess=DO_LOWESS)\n",
    "        cat.plot_feature_importance()\n",
    "        #cat.qq_plot()"
   ]
  },
  {
   "cell_type": "code",
   "execution_count": null,
   "metadata": {
    "collapsed": true
   },
   "outputs": [],
   "source": []
  }
 ],
 "metadata": {
  "kernelspec": {
   "display_name": "Python 3",
   "language": "python",
   "name": "python3"
  },
  "language_info": {
   "codemirror_mode": {
    "name": "ipython",
    "version": 3
   },
   "file_extension": ".py",
   "mimetype": "text/x-python",
   "name": "python",
   "nbconvert_exporter": "python",
   "pygments_lexer": "ipython3",
   "version": "3.6.3"
  }
 },
 "nbformat": 4,
 "nbformat_minor": 2
}
