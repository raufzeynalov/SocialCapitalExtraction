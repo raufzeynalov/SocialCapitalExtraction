{
 "cells": [
  {
   "cell_type": "code",
   "execution_count": 1,
   "metadata": {},
   "outputs": [
    {
     "name": "stderr",
     "output_type": "stream",
     "text": [
      "C:\\ProgramData\\Anaconda3\\lib\\site-packages\\statsmodels\\compat\\pandas.py:56: FutureWarning: The pandas.core.datetools module is deprecated and will be removed in a future version. Please use the pandas.tseries module instead.\n",
      "  from pandas.core import datetools\n"
     ]
    }
   ],
   "source": [
    "#imports\n",
    "import numpy as np\n",
    "import pandas as pd\n",
    "from catboost import CatBoostRegressor\n",
    "from hyperopt import hp\n",
    "from hyperopt.pyll import scope\n",
    "from sklearn.model_selection import train_test_split\n",
    "from sklearn.pipeline import Pipeline\n",
    "from catboost import CatBoostRegressor\n",
    "\n",
    "import os\n",
    "import sys\n",
    "module_path = os.path.abspath(os.path.join('../..'))\n",
    "if module_path not in sys.path:\n",
    "    sys.path.append(module_path)\n",
    "\n",
    "from models.hyperopt_model import HyperoptModel"
   ]
  },
  {
   "cell_type": "code",
   "execution_count": 2,
   "metadata": {
    "collapsed": true,
    "scrolled": false
   },
   "outputs": [],
   "source": [
    "# read the data\n",
    "preprocessed_data = pd.read_pickle('../data/preprocessed_twitter_quantitative.pd')\n",
    "\n",
    "# Create a dataframe\n",
    "df = pd.DataFrame(preprocessed_data)"
   ]
  },
  {
   "cell_type": "code",
   "execution_count": 3,
   "metadata": {
    "collapsed": true
   },
   "outputs": [],
   "source": [
    "# Create two new dataframes, one with the training rows, one with the test rows\n",
    "train, test=train_test_split(df, test_size=0.2, random_state=0)"
   ]
  },
  {
   "cell_type": "code",
   "execution_count": 4,
   "metadata": {},
   "outputs": [
    {
     "name": "stdout",
     "output_type": "stream",
     "text": [
      "Number of observations in the training data: 18680\n",
      "Number of observations in the test data: 4670\n"
     ]
    }
   ],
   "source": [
    "# Show the number of observations for the test and training dataframes\n",
    "print('Number of observations in the training data:', len(train))\n",
    "print('Number of observations in the test data:',len(test))"
   ]
  },
  {
   "cell_type": "code",
   "execution_count": 5,
   "metadata": {
    "scrolled": true
   },
   "outputs": [
    {
     "name": "stdout",
     "output_type": "stream",
     "text": [
      "Performing parameters optimization...\n",
      "[1/50]\tcv_eval_time=814.32 sec\tRMSE=0.066814\tR^2=0.883980\n",
      "[2/50]\tcv_eval_time=834.52 sec\tRMSE=0.080024\tR^2=0.829095\n",
      "[3/50]\tcv_eval_time=835.34 sec\tRMSE=0.064895\tR^2=0.892062\n",
      "[4/50]\tcv_eval_time=821.77 sec\tRMSE=0.064310\tR^2=0.893472\n",
      "[5/50]\tcv_eval_time=833.89 sec\tRMSE=0.065042\tR^2=0.891658\n",
      "[6/50]\tcv_eval_time=842.58 sec\tRMSE=0.074927\tR^2=0.854779\n",
      "[7/50]\tcv_eval_time=834.23 sec\tRMSE=0.065624\tR^2=0.889257\n",
      "[8/50]\tcv_eval_time=837.18 sec\tRMSE=0.065764\tR^2=0.887283\n",
      "[9/50]\tcv_eval_time=843.56 sec\tRMSE=0.068229\tR^2=0.879267\n",
      "[10/50]\tcv_eval_time=825.87 sec\tRMSE=0.067000\tR^2=0.883812\n",
      "[11/50]\tcv_eval_time=824.10 sec\tRMSE=0.066915\tR^2=0.885064\n",
      "[12/50]\tcv_eval_time=858.92 sec\tRMSE=0.064125\tR^2=0.893600\n",
      "[13/50]\tcv_eval_time=820.99 sec\tRMSE=0.064869\tR^2=0.890075\n",
      "[14/50]\tcv_eval_time=837.34 sec\tRMSE=0.078216\tR^2=0.836980\n",
      "[15/50]\tcv_eval_time=841.73 sec\tRMSE=0.066490\tR^2=0.885848\n",
      "[16/50]\tcv_eval_time=820.74 sec\tRMSE=0.064118\tR^2=0.893894\n",
      "[17/50]\tcv_eval_time=835.03 sec\tRMSE=0.066133\tR^2=0.886529\n",
      "[18/50]\tcv_eval_time=841.74 sec\tRMSE=0.063920\tR^2=0.895034\n",
      "[19/50]\tcv_eval_time=828.48 sec\tRMSE=0.066820\tR^2=0.884992\n",
      "[20/50]\tcv_eval_time=833.28 sec\tRMSE=0.072683\tR^2=0.863110\n",
      "[21/50]\tcv_eval_time=847.18 sec\tRMSE=0.063389\tR^2=0.895948\n",
      "[22/50]\tcv_eval_time=840.19 sec\tRMSE=0.063360\tR^2=0.894956\n",
      "[23/50]\tcv_eval_time=830.97 sec\tRMSE=0.063276\tR^2=0.895740\n",
      "[24/50]\tcv_eval_time=851.88 sec\tRMSE=0.063302\tR^2=0.895434\n",
      "[25/50]\tcv_eval_time=846.99 sec\tRMSE=0.068599\tR^2=0.877162\n",
      "[26/50]\tcv_eval_time=824.08 sec\tRMSE=0.063384\tR^2=0.893498\n",
      "[27/50]\tcv_eval_time=850.70 sec\tRMSE=0.063655\tR^2=0.895202\n",
      "[28/50]\tcv_eval_time=829.87 sec\tRMSE=0.064891\tR^2=0.890649\n",
      "[29/50]\tcv_eval_time=838.32 sec\tRMSE=0.064621\tR^2=0.891866\n",
      "[30/50]\tcv_eval_time=866.36 sec\tRMSE=0.063504\tR^2=0.895488\n",
      "[31/50]\tcv_eval_time=858.81 sec\tRMSE=0.064008\tR^2=0.894514\n",
      "[32/50]\tcv_eval_time=831.55 sec\tRMSE=0.063685\tR^2=0.895177\n",
      "[33/50]\tcv_eval_time=841.58 sec\tRMSE=0.065272\tR^2=0.888791\n",
      "[34/50]\tcv_eval_time=779.98 sec\tRMSE=0.063366\tR^2=0.895524\n",
      "[35/50]\tcv_eval_time=761.65 sec\tRMSE=0.066176\tR^2=0.884987\n",
      "[36/50]\tcv_eval_time=825.91 sec\tRMSE=0.068900\tR^2=0.874531\n",
      "[37/50]\tcv_eval_time=715.98 sec\tRMSE=0.064023\tR^2=0.892065\n",
      "[38/50]\tcv_eval_time=813.62 sec\tRMSE=0.063296\tR^2=0.894607\n",
      "[39/50]\tcv_eval_time=740.18 sec\tRMSE=0.064376\tR^2=0.892422\n",
      "[40/50]\tcv_eval_time=804.59 sec\tRMSE=0.063761\tR^2=0.894325\n",
      "[41/50]\tcv_eval_time=795.30 sec\tRMSE=0.065790\tR^2=0.887723\n",
      "[42/50]\tcv_eval_time=749.47 sec\tRMSE=0.064815\tR^2=0.892312\n",
      "[43/50]\tcv_eval_time=847.54 sec\tRMSE=0.063758\tR^2=0.894147\n",
      "[44/50]\tcv_eval_time=710.26 sec\tRMSE=0.063748\tR^2=0.893174\n",
      "[45/50]\tcv_eval_time=830.38 sec\tRMSE=0.065069\tR^2=0.890470\n",
      "[46/50]\tcv_eval_time=798.83 sec\tRMSE=0.074092\tR^2=0.857555\n",
      "[47/50]\tcv_eval_time=738.54 sec\tRMSE=0.064416\tR^2=0.892001\n",
      "[48/50]\tcv_eval_time=856.41 sec\tRMSE=0.066429\tR^2=0.884903\n",
      "[49/50]\tcv_eval_time=706.49 sec\tRMSE=0.063423\tR^2=0.895764\n",
      "[50/50]\tcv_eval_time=734.11 sec\tRMSE=0.065164\tR^2=0.891436\n",
      " elapsed time: 11h 20min 35s\n",
      "\n",
      "Stats (train | test):\n",
      "\tR^2 score:\t\t0.9440\n",
      "\t\t\t\t\t0.9053\n",
      "\tRMSE:\t\t\t0.0465\n",
      "\t\t\t\t\t0.0600\n",
      "\tMean error:\t\t0.0306\n",
      "\t\t\t\t\t0.0391\n",
      "\tPearson:\t\t0.9718\n",
      "\t\t\t\t\t0.9515\n",
      "\tSpearman:\t\t0.9410\n",
      "\t\t\t\t\t0.9236\n",
      "\tKendallTau:\t\t0.8205\n",
      "\t\t\t\t\t0.7865\n",
      "\n",
      "Best parameters set:\n",
      "{'estimate__bagging_temperature': 0.9796469366890301,\n",
      " 'estimate__iterations': 1300,\n",
      " 'estimate__l2_leaf_reg': 2.347632760344551,\n",
      " 'estimate__learning_rate': 0.05759981469462487,\n",
      " 'estimate__loss_function': 'RMSE',\n",
      " 'estimate__random_seed': 0,\n",
      " 'estimate__random_strength': 1,\n",
      " 'estimate__thread_count': 4,\n",
      " 'estimate__train_dir': 'outputs/cat',\n",
      " 'estimate__used_ram_limit': 4294967296}\n",
      "\n",
      "Could not create plots\n"
     ]
    }
   ],
   "source": [
    "    #some parameters\n",
    "    DO_LOWESS = False\n",
    "    hyperopt = True\n",
    "    # Run CatBoostRegressor with hyperopt optimization\n",
    "    cat = HyperoptModel(train.copy(), test.copy(),'cat', cv=3, max_evals = 50)\n",
    "\n",
    "    cat.pipeline = Pipeline([\n",
    "        ('estimate', CatBoostRegressor())\n",
    "    ])\n",
    "    \n",
    "    features = list(df)\n",
    "    features.remove('score')\n",
    "    cat.raw_features = features\n",
    "    \n",
    "    cat.space = {\n",
    "        'estimate__iterations': hp.choice('estimate__iterations', [1300]),\n",
    "        'estimate__loss_function': hp.choice('estimate__loss_function', ['RMSE']),\n",
    "        'estimate__train_dir': hp.choice('estimate__train_dir', ['outputs/cat']),\n",
    "        'estimate__thread_count': hp.choice('estimate__thread_count', [4]),\n",
    "        'estimate__used_ram_limit': hp.choice('estimate__used_ram_limit', [1024 * 1024 * 1024 * 4]),  # 4gb\n",
    "        'estimate__random_seed': hp.choice('estimate__random_seed', [0]),\n",
    "\n",
    "        'estimate__learning_rate': hp.loguniform('estimate__learning_rate', -5, 0),\n",
    "        'estimate__random_strength': hp.choice('estimate__random_strength', [1, 20]),\n",
    "        'estimate__l2_leaf_reg': hp.loguniform('estimate__l2_leaf_reg', 0, np.log(10)),\n",
    "        'estimate__bagging_temperature': hp.uniform('estimate__bagging_temperature', 0, 1),\n",
    "    }\n",
    "\n",
    "    \"\"\"\n",
    "    find the best number of trees (following https://tech.yandex.com/catboost/doc/dg/concepts/parameter-tuning_trees-number-docpage/#parameter-tuning_trees-number)\n",
    "    need to also substitute the CatBoostRegressor parameters with:\n",
    "        ('estimate', CatBoostRegressor(iterations=10000, loss_function='RMSE', auto_stop_pval=1e-4, use_best_model=True, train_dir='outputs/cat_trees', verbose=True))\n",
    "    \"\"\"\n",
    "    # num_trees_train, num_trees_eval = train_test_split(train, test_size=0.2, random_state=0)\n",
    "    # X = num_trees_train[list(filter(lambda column: column in cat.raw_features, cat.train.columns))]\n",
    "    # y = num_trees_train['score']\n",
    "    #\n",
    "    # eval_X = num_trees_eval[list(filter(lambda column: column in cat.raw_features, cat.train.columns))]\n",
    "    # eval_X = cat.pipeline.named_steps['prepare_features'].fit_transform(eval_X)\n",
    "    # eval_set = (eval_X, num_trees_eval['score'])\n",
    "    #\n",
    "    # cat.pipeline.fit(X=X, y=y, estimate__eval_set=eval_set)\n",
    "    # cat.model = cat.pipeline\n",
    "    # print(cat.model.named_steps['estimate'].get_params())\n",
    "    # cat.model.named_steps['estimate'].save_model('tmp/cat.model'.encode('utf-8'))\n",
    "\n",
    "    if hyperopt:\n",
    "        cat.run(do_lowess=DO_LOWESS)\n",
    "    else:\n",
    "        # train with default params\n",
    "        cat.pipeline.fit(X=cat.X_train, y=cat.y_train)\n",
    "        cat.model = cat.pipeline\n",
    "        cat.stats()\n",
    "        cat.plot_predicted_vs_actual(do_lowess=DO_LOWESS)\n",
    "        cat.plot_feature_importance()\n",
    "        #cat.qq_plot()"
   ]
  },
  {
   "cell_type": "code",
   "execution_count": null,
   "metadata": {
    "collapsed": true
   },
   "outputs": [],
   "source": []
  }
 ],
 "metadata": {
  "kernelspec": {
   "display_name": "Python 3",
   "language": "python",
   "name": "python3"
  },
  "language_info": {
   "codemirror_mode": {
    "name": "ipython",
    "version": 3
   },
   "file_extension": ".py",
   "mimetype": "text/x-python",
   "name": "python",
   "nbconvert_exporter": "python",
   "pygments_lexer": "ipython3",
   "version": "3.6.3"
  }
 },
 "nbformat": 4,
 "nbformat_minor": 2
}
