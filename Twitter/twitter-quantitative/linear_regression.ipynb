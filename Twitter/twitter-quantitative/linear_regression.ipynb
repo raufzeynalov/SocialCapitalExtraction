{
 "cells": [
  {
   "cell_type": "code",
   "execution_count": 1,
   "metadata": {
    "collapsed": true
   },
   "outputs": [],
   "source": [
    "import pandas as pd\n",
    "from sklearn import datasets, linear_model\n",
    "from sklearn.model_selection import train_test_split, cross_val_score, cross_val_predict\n",
    "from matplotlib import pyplot as plt\n",
    "from sklearn import metrics"
   ]
  },
  {
   "cell_type": "code",
   "execution_count": 2,
   "metadata": {
    "collapsed": true,
    "scrolled": false
   },
   "outputs": [],
   "source": [
    "# read the data\n",
    "preprocessed_data = pd.read_pickle('../data/preprocessed_twitter_quantitative.pd')\n",
    "\n",
    "# Create a dataframe\n",
    "df = pd.DataFrame(preprocessed_data)\n",
    "y = df['score'].copy()\n",
    "df.drop('score', axis=1, inplace=True) "
   ]
  },
  {
   "cell_type": "code",
   "execution_count": 3,
   "metadata": {
    "collapsed": true
   },
   "outputs": [],
   "source": [
    "# create training and testing vars\n",
    "X_train, X_test, y_train, y_test = train_test_split(df, y, test_size=0.2)"
   ]
  },
  {
   "cell_type": "code",
   "execution_count": 4,
   "metadata": {
    "collapsed": true
   },
   "outputs": [],
   "source": [
    "lm = linear_model.LinearRegression()\n",
    "model = lm.fit(X_train, y_train)\n",
    "predictions = lm.predict(X_test)"
   ]
  },
  {
   "cell_type": "code",
   "execution_count": 5,
   "metadata": {
    "scrolled": true
   },
   "outputs": [
    {
     "data": {
      "image/png": "[encoded data removed]",
      "text/plain": [
       "<matplotlib.figure.Figure at 0x2476fa23828>"
      ]
     },
     "metadata": {},
     "output_type": "display_data"
    },
    {
     "name": "stdout",
     "output_type": "stream",
     "text": [
      "[  1.54479477e-04   3.96668491e-05  -3.35548536e-02   1.83190590e-01\n",
      "  -1.20660932e+01   1.62584285e+00  -1.08672497e+02  -1.27350497e-03\n",
      "   1.91125968e-04  -1.43064265e+00   9.58897757e-01   7.76014596e+01\n",
      "  -2.67368843e+00  -3.82366026e-04   2.98535992e-04   1.45271226e-03\n",
      "  -2.22819921e-04   4.20203801e-01  -2.16780367e-01  -3.90900940e-02\n",
      "   3.42908384e-01  -4.00813646e+01   1.57492391e+00  -2.12293760e+00\n",
      "  -2.45711387e-02   4.24916200e+02  -2.24611437e+02   4.31104112e-07\n",
      "   5.52667360e-03  -1.62366774e-05   1.20057906e-03  -1.60188480e-05\n",
      "   8.46546344e-05  -1.57901318e-05   5.59567834e-05]\n"
     ]
    }
   ],
   "source": [
    "plt.scatter(y_test, predictions)\n",
    "plt.xlabel(\"True Values\")\n",
    "plt.ylabel(\"Predictions\")\n",
    "plt.show()\n",
    "\n",
    "print(lm.coef_)"
   ]
  },
  {
   "cell_type": "code",
   "execution_count": 6,
   "metadata": {},
   "outputs": [
    {
     "name": "stdout",
     "output_type": "stream",
     "text": [
      "Cross-validated scores: [ 0.68626978  0.70520776  0.69406439  0.61687095]\n"
     ]
    }
   ],
   "source": [
    "scores = cross_val_score(model, df, y, cv=4)\n",
    "print(\"Cross-validated scores:\", scores)"
   ]
  },
  {
   "cell_type": "code",
   "execution_count": 7,
   "metadata": {},
   "outputs": [
    {
     "data": {
      "image/png": "[encoded data removed]",
      "text/plain": [
       "<matplotlib.figure.Figure at 0x2476f4fdf28>"
      ]
     },
     "metadata": {},
     "output_type": "display_data"
    }
   ],
   "source": [
    "predictions = cross_val_predict(model, df, y, cv=4)\n",
    "plt.scatter(y, predictions)\n",
    "plt.show()"
   ]
  },
  {
   "cell_type": "code",
   "execution_count": 8,
   "metadata": {},
   "outputs": [
    {
     "name": "stdout",
     "output_type": "stream",
     "text": [
      "Cross-Predicted Accuracy: 0.687116055479\n"
     ]
    }
   ],
   "source": [
    "accuracy = metrics.r2_score(y, predictions)\n",
    "print(\"Cross-Predicted Accuracy:\", accuracy)"
   ]
  },
  {
   "cell_type": "code",
   "execution_count": 9,
   "metadata": {},
   "outputs": [
    {
     "name": "stdout",
     "output_type": "stream",
     "text": [
      "[  1.54479477e-04   3.96668491e-05  -3.35548536e-02   1.83190590e-01\n",
      "  -1.20660932e+01   1.62584285e+00  -1.08672497e+02  -1.27350497e-03\n",
      "   1.91125968e-04  -1.43064265e+00   9.58897757e-01   7.76014596e+01\n",
      "  -2.67368843e+00  -3.82366026e-04   2.98535992e-04   1.45271226e-03\n",
      "  -2.22819921e-04   4.20203801e-01  -2.16780367e-01  -3.90900940e-02\n",
      "   3.42908384e-01  -4.00813646e+01   1.57492391e+00  -2.12293760e+00\n",
      "  -2.45711387e-02   4.24916200e+02  -2.24611437e+02   4.31104112e-07\n",
      "   5.52667360e-03  -1.62366774e-05   1.20057906e-03  -1.60188480e-05\n",
      "   8.46546344e-05  -1.57901318e-05   5.59567834e-05]\n"
     ]
    }
   ],
   "source": [
    "print(lm.coef_)"
   ]
  }
 ],
 "metadata": {
  "kernelspec": {
   "display_name": "Python 3",
   "language": "python",
   "name": "python3"
  },
  "language_info": {
   "codemirror_mode": {
    "name": "ipython",
    "version": 3
   },
   "file_extension": ".py",
   "mimetype": "text/x-python",
   "name": "python",
   "nbconvert_exporter": "python",
   "pygments_lexer": "ipython3",
   "version": "3.6.3"
  }
 },
 "nbformat": 4,
 "nbformat_minor": 2
}
