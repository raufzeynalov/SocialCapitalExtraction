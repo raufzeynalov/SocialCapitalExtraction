{
 "cells": [
  {
   "cell_type": "code",
   "execution_count": 1,
   "metadata": {
    "collapsed": true
   },
   "outputs": [],
   "source": [
    "import pandas as pd\n",
    "from sklearn import datasets, linear_model\n",
    "from sklearn.model_selection import train_test_split, cross_val_score, cross_val_predict\n",
    "from matplotlib import pyplot as plt\n",
    "from sklearn import metrics"
   ]
  },
  {
   "cell_type": "code",
   "execution_count": 2,
   "metadata": {
    "collapsed": true,
    "scrolled": false
   },
   "outputs": [],
   "source": [
    "# read the data\n",
    "preprocessed_data = pd.read_pickle('../data/preprocessed_twitter_quantitative.pd')\n",
    "\n",
    "# Create a dataframe\n",
    "df = pd.DataFrame(preprocessed_data)\n",
    "y = df['score'].copy()\n",
    "df.drop('score', axis=1, inplace=True) "
   ]
  },
  {
   "cell_type": "code",
   "execution_count": 3,
   "metadata": {
    "collapsed": true
   },
   "outputs": [],
   "source": [
    "# create training and testing vars\n",
    "X_train, X_test, y_train, y_test = train_test_split(df, y, test_size=0.2)"
   ]
  },
  {
   "cell_type": "code",
   "execution_count": 4,
   "metadata": {
    "collapsed": true
   },
   "outputs": [],
   "source": [
    "lm = linear_model.LinearRegression()\n",
    "model = lm.fit(X_train, y_train)\n",
    "predictions = lm.predict(X_test)"
   ]
  },
  {
   "cell_type": "code",
   "execution_count": 5,
   "metadata": {
    "scrolled": true
   },
   "outputs": [
    {
     "data": {
      "image/png": "[encoded data removed]",
      "text/plain": [
       "<matplotlib.figure.Figure at 0x1ee11df9828>"
      ]
     },
     "metadata": {},
     "output_type": "display_data"
    },
    {
     "name": "stdout",
     "output_type": "stream",
     "text": [
      "[ -2.22627724e-11   1.57577480e-04   3.46335751e-05  -1.82383381e-02\n",
      "   1.69762846e-01  -1.01677128e+01   1.00607502e+00  -1.45602208e+01\n",
      "  -1.25912589e-03   1.86953377e-04  -1.40354527e+00   9.44030778e-01\n",
      "   8.19280423e+01  -2.70751748e+00  -4.42079479e-04   2.81866823e-04\n",
      "   1.46525521e-03  -2.43715216e-04   3.73989273e-01  -2.00850899e-01\n",
      "  -5.62120713e-02   3.50731027e-01  -4.42291675e+01   1.32582792e+00\n",
      "  -1.30438404e+00   1.09936553e-02   3.25795677e+02  -1.70473766e+02\n",
      "   4.45251256e-07   5.86330073e-03  -2.21468221e-05   1.23242834e-03\n",
      "  -1.56517411e-05   8.02664680e-05  -1.16248538e-05   4.32791548e-05]\n"
     ]
    }
   ],
   "source": [
    "plt.scatter(y_test, predictions)\n",
    "plt.xlabel(\"True Values\")\n",
    "plt.ylabel(\"Predictions\")\n",
    "plt.show()\n",
    "\n",
    "print(lm.coef_)"
   ]
  },
  {
   "cell_type": "code",
   "execution_count": 6,
   "metadata": {},
   "outputs": [
    {
     "name": "stdout",
     "output_type": "stream",
     "text": [
      "Cross-validated scores: [ 0.6690438   0.73576685  0.67777695  0.70745193  0.72231417  0.71504356\n",
      "  0.68853252  0.66655577  0.62226995  0.5753992 ]\n"
     ]
    }
   ],
   "source": [
    "scores = cross_val_score(model, df, y, cv=10)\n",
    "print(\"Cross-validated scores:\", scores)"
   ]
  },
  {
   "cell_type": "code",
   "execution_count": 7,
   "metadata": {},
   "outputs": [
    {
     "data": {
      "image/png": "[encoded data removed]",
      "text/plain": [
       "<matplotlib.figure.Figure at 0x1ee0b57b358>"
      ]
     },
     "metadata": {},
     "output_type": "display_data"
    }
   ],
   "source": [
    "predictions = cross_val_predict(model, df, y, cv=10)\n",
    "plt.scatter(y, predictions)\n",
    "plt.show()"
   ]
  },
  {
   "cell_type": "code",
   "execution_count": 8,
   "metadata": {},
   "outputs": [
    {
     "name": "stdout",
     "output_type": "stream",
     "text": [
      "Cross-Predicted Accuracy: 0.692774089095\n"
     ]
    }
   ],
   "source": [
    "accuracy = metrics.r2_score(y, predictions)\n",
    "print(\"Cross-Predicted Accuracy:\", accuracy)"
   ]
  },
  {
   "cell_type": "code",
   "execution_count": 9,
   "metadata": {},
   "outputs": [
    {
     "name": "stdout",
     "output_type": "stream",
     "text": [
      "[ -2.22627724e-11   1.57577480e-04   3.46335751e-05  -1.82383381e-02\n",
      "   1.69762846e-01  -1.01677128e+01   1.00607502e+00  -1.45602208e+01\n",
      "  -1.25912589e-03   1.86953377e-04  -1.40354527e+00   9.44030778e-01\n",
      "   8.19280423e+01  -2.70751748e+00  -4.42079479e-04   2.81866823e-04\n",
      "   1.46525521e-03  -2.43715216e-04   3.73989273e-01  -2.00850899e-01\n",
      "  -5.62120713e-02   3.50731027e-01  -4.42291675e+01   1.32582792e+00\n",
      "  -1.30438404e+00   1.09936553e-02   3.25795677e+02  -1.70473766e+02\n",
      "   4.45251256e-07   5.86330073e-03  -2.21468221e-05   1.23242834e-03\n",
      "  -1.56517411e-05   8.02664680e-05  -1.16248538e-05   4.32791548e-05]\n"
     ]
    }
   ],
   "source": [
    "print(lm.coef_)"
   ]
  }
 ],
 "metadata": {
  "kernelspec": {
   "display_name": "Python 3",
   "language": "python",
   "name": "python3"
  },
  "language_info": {
   "codemirror_mode": {
    "name": "ipython",
    "version": 3
   },
   "file_extension": ".py",
   "mimetype": "text/x-python",
   "name": "python",
   "nbconvert_exporter": "python",
   "pygments_lexer": "ipython3",
   "version": "3.6.3"
  }
 },
 "nbformat": 4,
 "nbformat_minor": 2
}
