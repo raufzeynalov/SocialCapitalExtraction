{
 "cells": [
  {
   "cell_type": "code",
   "execution_count": 1,
   "metadata": {},
   "outputs": [],
   "source": [
    "import pandas as pd\n",
    "from math import sqrt\n",
    "from sklearn import datasets, linear_model\n",
    "from sklearn.model_selection import train_test_split, cross_val_score, cross_val_predict\n",
    "from matplotlib import pyplot as plt\n",
    "from sklearn import metrics"
   ]
  },
  {
   "cell_type": "code",
   "execution_count": 2,
   "metadata": {
    "collapsed": true,
    "scrolled": false
   },
   "outputs": [],
   "source": [
    "# read the data\n",
    "preprocessed_data = pd.read_pickle('../data/preprocessed_twitter_quantitative.pd')\n",
    "\n",
    "# Create a dataframe\n",
    "df = pd.DataFrame(preprocessed_data)\n",
    "y = df['score'].copy()\n",
    "df.drop('score', axis=1, inplace=True) "
   ]
  },
  {
   "cell_type": "code",
   "execution_count": 3,
   "metadata": {
    "collapsed": true
   },
   "outputs": [],
   "source": [
    "# create training and testing vars\n",
    "X_train, X_test, y_train, y_test = train_test_split(df, y, test_size=0.2)"
   ]
  },
  {
   "cell_type": "code",
   "execution_count": 4,
   "metadata": {
    "collapsed": true
   },
   "outputs": [],
   "source": [
    "lm = linear_model.LinearRegression()\n",
    "model = lm.fit(X_train, y_train)\n",
    "predictions = lm.predict(X_test)"
   ]
  },
  {
   "cell_type": "code",
   "execution_count": 5,
   "metadata": {
    "scrolled": true
   },
   "outputs": [
    {
     "data": {
      "image/png": "[encoded data removed]",
      "text/plain": [
       "<matplotlib.figure.Figure at 0x1645e37c828>"
      ]
     },
     "metadata": {},
     "output_type": "display_data"
    },
    {
     "name": "stdout",
     "output_type": "stream",
     "text": [
      "[  1.64854411e-04   4.29628219e-05  -3.48041844e-02   1.75415922e-01\n",
      "  -1.10393955e+01   1.04633504e+00  -9.87414970e+01  -1.20275934e-03\n",
      "   1.71837887e-04  -1.40615211e+00   9.43149702e-01   6.83691914e+01\n",
      "  -6.04778571e-01  -5.40151636e-04   2.98364363e-04   1.53352004e-03\n",
      "  -2.56505609e-04   3.63926377e-01  -1.94137253e-01  -2.08365556e-02\n",
      "   3.36371574e-01  -3.86529860e+01   1.22245872e+00  -1.57308845e+00\n",
      "  -2.16172470e-02   3.87775445e+02  -1.80611110e+02   4.70140066e-07\n",
      "   6.11073469e-03  -1.33854323e-05   1.23899656e-03  -1.79358910e-05\n",
      "   8.11047627e-05  -1.61142350e-05   4.94961942e-05]\n"
     ]
    }
   ],
   "source": [
    "plt.scatter(y_test, predictions)\n",
    "plt.xlabel(\"True Values\")\n",
    "plt.ylabel(\"Predictions\")\n",
    "plt.show()\n",
    "\n",
    "print(lm.coef_)"
   ]
  },
  {
   "cell_type": "code",
   "execution_count": 6,
   "metadata": {},
   "outputs": [
    {
     "name": "stdout",
     "output_type": "stream",
     "text": [
      "Cross-validated scores: [ 0.68626978  0.70520776  0.69406439  0.61687095]\n"
     ]
    }
   ],
   "source": [
    "scores = cross_val_score(model, df, y, cv=4)\n",
    "print(\"Cross-validated scores:\", scores)"
   ]
  },
  {
   "cell_type": "code",
   "execution_count": 7,
   "metadata": {},
   "outputs": [
    {
     "data": {
      "image/png": "[encoded data removed]",
      "text/plain": [
       "<matplotlib.figure.Figure at 0x1645e336b38>"
      ]
     },
     "metadata": {},
     "output_type": "display_data"
    }
   ],
   "source": [
    "predictions = cross_val_predict(model, df, y, cv=4)\n",
    "plt.scatter(y, predictions)\n",
    "plt.show()"
   ]
  },
  {
   "cell_type": "code",
   "execution_count": 8,
   "metadata": {},
   "outputs": [
    {
     "name": "stdout",
     "output_type": "stream",
     "text": [
      "(23350,)\n",
      "(23350,)\n",
      "R2Score: 0.687116055479\n",
      "RMSE: 0.10973549899417136\n"
     ]
    }
   ],
   "source": [
    "print(y.shape)\n",
    "print(predictions.shape)\n",
    "accuracy = metrics.r2_score(y, predictions)\n",
    "print(\"R2Score:\", accuracy)\n",
    "rmse = sqrt(metrics.mean_squared_error(y,  predictions))\n",
    "print(\"RMSE:\", rmse)"
   ]
  },
  {
   "cell_type": "code",
   "execution_count": 9,
   "metadata": {},
   "outputs": [
    {
     "name": "stdout",
     "output_type": "stream",
     "text": [
      "[  1.64854411e-04   4.29628219e-05  -3.48041844e-02   1.75415922e-01\n",
      "  -1.10393955e+01   1.04633504e+00  -9.87414970e+01  -1.20275934e-03\n",
      "   1.71837887e-04  -1.40615211e+00   9.43149702e-01   6.83691914e+01\n",
      "  -6.04778571e-01  -5.40151636e-04   2.98364363e-04   1.53352004e-03\n",
      "  -2.56505609e-04   3.63926377e-01  -1.94137253e-01  -2.08365556e-02\n",
      "   3.36371574e-01  -3.86529860e+01   1.22245872e+00  -1.57308845e+00\n",
      "  -2.16172470e-02   3.87775445e+02  -1.80611110e+02   4.70140066e-07\n",
      "   6.11073469e-03  -1.33854323e-05   1.23899656e-03  -1.79358910e-05\n",
      "   8.11047627e-05  -1.61142350e-05   4.94961942e-05]\n"
     ]
    }
   ],
   "source": [
    "print(lm.coef_)"
   ]
  }
 ],
 "metadata": {
  "kernelspec": {
   "display_name": "Python 3",
   "language": "python",
   "name": "python3"
  },
  "language_info": {
   "codemirror_mode": {
    "name": "ipython",
    "version": 3
   },
   "file_extension": ".py",
   "mimetype": "text/x-python",
   "name": "python",
   "nbconvert_exporter": "python",
   "pygments_lexer": "ipython3",
   "version": "3.6.3"
  }
 },
 "nbformat": 4,
 "nbformat_minor": 2
}
